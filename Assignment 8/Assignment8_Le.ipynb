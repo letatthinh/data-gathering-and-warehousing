{
 "cells": [
  {
   "cell_type": "markdown",
   "id": "71b982c8-966e-41de-9772-fb26c2ea0e00",
   "metadata": {},
   "source": [
    "# Assignment #8 - Data Gathering and Warehousing - DSSA-5102\n",
    "\n",
    "Instructor: Melissa Laurino</br>\n",
    "Spring 2025</br>\n",
    "\n",
    "Name: Thinh Le\n",
    "</br>\n",
    "Date: April 05, 2025\n",
    "<br>\n",
    "<br>\n",
    "**At this time in the semester:** <br>\n",
    "- We have explored a dataset. <br>\n",
    "- We have cleaned our dataset. <br>\n",
    "- We created a Github account with a repository for this class and included a metadata read me file about our data. <br>\n",
    "- We introduced general SQL syntax, queries, and applications in Python.<br>\n",
    "- Created our own databases from scratch using MySQL Workbench and Python with SQLAlchemy on our local server and locally on our machine.\n",
    "- Populated our databases with the data we cleaned at the start of the semester.\n",
    "<br>\n",
    "\n",
    "Now we will **JOIN** our knowledge and tables to answer more complex questions about our dataset! We will practice joining tables and understand the importance of using different commands.<br>\n",
    "\n",
    "JOIN statements are used to combine results from two or more tables based on a related column between them.<br>\n",
    "\n",
    "Review the powerpoint and readings specified on Blackboard.<br>\n",
    "\n",
    "In the event your database does not meet the requirements below to answer the question, please use the database provided in Assignment #4 and #5. Remember to credit your data source. <br>\n",
    "\n",
    "Follow the instructions below to complete the assignment. Write your question you are answering with your data query and visualize your results in a way that fits your data. <br>\n",
    "Be sure to comment **all** code and answer **all** questions in markdown for full credit.<br>"
   ]
  },
  {
   "cell_type": "markdown",
   "id": "317056b3-176f-4b3d-a303-2fe93d9cdcee",
   "metadata": {},
   "source": "**Data origin:** SQL murder mystery"
  },
  {
   "metadata": {},
   "cell_type": "markdown",
   "source": "### Import libraries",
   "id": "e412defee23ad615"
  },
  {
   "metadata": {
    "ExecuteTime": {
     "end_time": "2025-04-06T14:00:36.663487Z",
     "start_time": "2025-04-06T14:00:36.659617Z"
    }
   },
   "cell_type": "code",
   "source": [
    "from sqlalchemy import create_engine, inspect, text # Object Relational Mapper\n",
    "import pandas as pd # Python data manilpulation"
   ],
   "id": "7a0913497189b97b",
   "outputs": [],
   "execution_count": 9
  },
  {
   "metadata": {},
   "cell_type": "markdown",
   "source": "### Create a new engine",
   "id": "f615a2d0dc22696f"
  },
  {
   "metadata": {
    "ExecuteTime": {
     "end_time": "2025-04-06T14:00:36.686967Z",
     "start_time": "2025-04-06T14:00:36.682074Z"
    }
   },
   "cell_type": "code",
   "source": [
    "# How to connect to our .db file using library SQLAlchemy\n",
    "# Notice that we are not specifying a host, password, or server since this .db file is stored locally.\n",
    "db_path = \"sql-murder-mystery.db\"\n",
    "# Use the create_engine function to connect to the database.\n",
    "engine = create_engine(f\"sqlite:///{db_path}?charset=utf8mb4\")\n",
    "engine"
   ],
   "id": "b394a7f063288325",
   "outputs": [
    {
     "data": {
      "text/plain": [
       "Engine(sqlite:///sql-murder-mystery.db?charset=utf8mb4)"
      ]
     },
     "execution_count": 10,
     "metadata": {},
     "output_type": "execute_result"
    }
   ],
   "execution_count": 10
  },
  {
   "cell_type": "markdown",
   "id": "8dac3f0d-fb72-4a6f-b428-d3bd098168a8",
   "metadata": {},
   "source": [
    "#### INNER JOIN (or JOIN)\n",
    "Display matching records from TWO tables! Choose to combine two tables using inner join. <br>\n",
    "Write your question you are answering with your data query and visualize your results. <br>\n",
    "<br>\n",
    "**Example Question:** How many persons have driver license?\n",
    "\n",
    "**What tables are we joining?** person and drivers_license"
   ]
  },
  {
   "cell_type": "code",
   "id": "b2f859f4-e4df-436d-8942-f33c41239cad",
   "metadata": {
    "ExecuteTime": {
     "end_time": "2025-04-06T14:00:36.739649Z",
     "start_time": "2025-04-06T14:00:36.706572Z"
    }
   },
   "source": [
    "with engine.connect() as connection:\n",
    "    # Create query\n",
    "    query = text(\"\"\"\n",
    "        SELECT COUNT(*)\n",
    "        FROM person\n",
    "        INNER JOIN drivers_license\n",
    "        ON person.license_id = drivers_license.id\n",
    "    \"\"\")\n",
    "    # Read query result\n",
    "    persons_have_driver_license_count = pd.read_sql(query, connection)\n",
    "\n",
    "# Print the results\n",
    "persons_have_driver_license_count"
   ],
   "outputs": [
    {
     "data": {
      "text/plain": [
       "   COUNT(*)\n",
       "0     10006"
      ],
      "text/html": [
       "<div>\n",
       "<style scoped>\n",
       "    .dataframe tbody tr th:only-of-type {\n",
       "        vertical-align: middle;\n",
       "    }\n",
       "\n",
       "    .dataframe tbody tr th {\n",
       "        vertical-align: top;\n",
       "    }\n",
       "\n",
       "    .dataframe thead th {\n",
       "        text-align: right;\n",
       "    }\n",
       "</style>\n",
       "<table border=\"1\" class=\"dataframe\">\n",
       "  <thead>\n",
       "    <tr style=\"text-align: right;\">\n",
       "      <th></th>\n",
       "      <th>COUNT(*)</th>\n",
       "    </tr>\n",
       "  </thead>\n",
       "  <tbody>\n",
       "    <tr>\n",
       "      <th>0</th>\n",
       "      <td>10006</td>\n",
       "    </tr>\n",
       "  </tbody>\n",
       "</table>\n",
       "</div>"
      ]
     },
     "execution_count": 11,
     "metadata": {},
     "output_type": "execute_result"
    }
   ],
   "execution_count": 11
  },
  {
   "metadata": {},
   "cell_type": "markdown",
   "source": "Count how many persons in person table:",
   "id": "e4e71159f2144e8"
  },
  {
   "metadata": {
    "ExecuteTime": {
     "end_time": "2025-04-06T14:00:36.785012Z",
     "start_time": "2025-04-06T14:00:36.777039Z"
    }
   },
   "cell_type": "code",
   "source": [
    "with engine.connect() as connection:\n",
    "    # Create query\n",
    "    query = text(\"\"\"\n",
    "        SELECT COUNT(*)\n",
    "        FROM person\n",
    "    \"\"\")\n",
    "    # Read query result\n",
    "    persons_count = pd.read_sql(query, connection)\n",
    "\n",
    "# Print the results\n",
    "persons_count"
   ],
   "id": "dc3ccddc6d656b8f",
   "outputs": [
    {
     "data": {
      "text/plain": [
       "   COUNT(*)\n",
       "0     10011"
      ],
      "text/html": [
       "<div>\n",
       "<style scoped>\n",
       "    .dataframe tbody tr th:only-of-type {\n",
       "        vertical-align: middle;\n",
       "    }\n",
       "\n",
       "    .dataframe tbody tr th {\n",
       "        vertical-align: top;\n",
       "    }\n",
       "\n",
       "    .dataframe thead th {\n",
       "        text-align: right;\n",
       "    }\n",
       "</style>\n",
       "<table border=\"1\" class=\"dataframe\">\n",
       "  <thead>\n",
       "    <tr style=\"text-align: right;\">\n",
       "      <th></th>\n",
       "      <th>COUNT(*)</th>\n",
       "    </tr>\n",
       "  </thead>\n",
       "  <tbody>\n",
       "    <tr>\n",
       "      <th>0</th>\n",
       "      <td>10011</td>\n",
       "    </tr>\n",
       "  </tbody>\n",
       "</table>\n",
       "</div>"
      ]
     },
     "execution_count": 12,
     "metadata": {},
     "output_type": "execute_result"
    }
   ],
   "execution_count": 12
  },
  {
   "metadata": {},
   "cell_type": "markdown",
   "source": "So there are 10006/10011 persons have driver license.",
   "id": "5b22ec0df97d50db"
  },
  {
   "cell_type": "markdown",
   "id": "7319c462-a561-4767-8f38-ceb5bb9bedf9",
   "metadata": {},
   "source": [
    "#### LEFT JOIN\n",
    "<br>\n",
    "Returns ALL records from the left table and matching records from the right table. Write your question you are answering with your data query and visualize your results.. \n",
    "<br><br>\n",
    "**Question:** Is using left join on person table with drivers_license table return the same result with count all rows from person table?\n",
    "<br>\n",
    "**What tables are we joining?** person and drivers_license"
   ]
  },
  {
   "cell_type": "code",
   "id": "659c7402-849f-4066-baba-bc657d85a565",
   "metadata": {
    "ExecuteTime": {
     "end_time": "2025-04-06T14:00:36.898486Z",
     "start_time": "2025-04-06T14:00:36.888022Z"
    }
   },
   "source": [
    "with engine.connect() as connection:\n",
    "    # Create query\n",
    "    query = text(\"\"\"\n",
    "        SELECT COUNT(*)\n",
    "        FROM person\n",
    "        LEFT JOIN drivers_license\n",
    "        ON person.license_id = drivers_license.id\n",
    "    \"\"\")\n",
    "    # Read query result\n",
    "    persons_left_join_driver_license_count = pd.read_sql(query, connection)\n",
    "\n",
    "# Print the results\n",
    "persons_left_join_driver_license_count"
   ],
   "outputs": [
    {
     "data": {
      "text/plain": [
       "   COUNT(*)\n",
       "0     10011"
      ],
      "text/html": [
       "<div>\n",
       "<style scoped>\n",
       "    .dataframe tbody tr th:only-of-type {\n",
       "        vertical-align: middle;\n",
       "    }\n",
       "\n",
       "    .dataframe tbody tr th {\n",
       "        vertical-align: top;\n",
       "    }\n",
       "\n",
       "    .dataframe thead th {\n",
       "        text-align: right;\n",
       "    }\n",
       "</style>\n",
       "<table border=\"1\" class=\"dataframe\">\n",
       "  <thead>\n",
       "    <tr style=\"text-align: right;\">\n",
       "      <th></th>\n",
       "      <th>COUNT(*)</th>\n",
       "    </tr>\n",
       "  </thead>\n",
       "  <tbody>\n",
       "    <tr>\n",
       "      <th>0</th>\n",
       "      <td>10011</td>\n",
       "    </tr>\n",
       "  </tbody>\n",
       "</table>\n",
       "</div>"
      ]
     },
     "execution_count": 13,
     "metadata": {},
     "output_type": "execute_result"
    }
   ],
   "execution_count": 13
  },
  {
   "metadata": {},
   "cell_type": "markdown",
   "source": "The answer is yes.",
   "id": "540f3d8ace6ebc64"
  },
  {
   "cell_type": "markdown",
   "id": "1f147823-8e2a-48f1-9a02-4ae97d568aa4",
   "metadata": {},
   "source": [
    "#### RIGHT JOIN\n",
    "<br>\n",
    "Returns ALL records from the right table and matching records from the left table. Write your question you are answering with your data query and visualize your results.. <br>\n",
    "<br>\n",
    "**Question:** How many people got interviewed?\n",
    "<br>\n",
    "**What tables are we joining?** person and interview"
   ]
  },
  {
   "cell_type": "code",
   "id": "9315d671-9163-4428-af59-9706a7410d96",
   "metadata": {
    "ExecuteTime": {
     "end_time": "2025-04-06T14:00:39.362212Z",
     "start_time": "2025-04-06T14:00:37.005067Z"
    }
   },
   "source": [
    "with engine.connect() as connection:\n",
    "    # Create query\n",
    "    query = text(\"\"\"\n",
    "        SELECT COUNT(*)\n",
    "        FROM person\n",
    "        RIGHT JOIN interview\n",
    "        ON person.id = interview.person_id\n",
    "    \"\"\")\n",
    "    # Read query result\n",
    "    interviews_right_join = pd.read_sql(query, connection)\n",
    "\n",
    "# Print the results\n",
    "interviews_right_join"
   ],
   "outputs": [
    {
     "data": {
      "text/plain": [
       "   COUNT(*)\n",
       "0      4991"
      ],
      "text/html": [
       "<div>\n",
       "<style scoped>\n",
       "    .dataframe tbody tr th:only-of-type {\n",
       "        vertical-align: middle;\n",
       "    }\n",
       "\n",
       "    .dataframe tbody tr th {\n",
       "        vertical-align: top;\n",
       "    }\n",
       "\n",
       "    .dataframe thead th {\n",
       "        text-align: right;\n",
       "    }\n",
       "</style>\n",
       "<table border=\"1\" class=\"dataframe\">\n",
       "  <thead>\n",
       "    <tr style=\"text-align: right;\">\n",
       "      <th></th>\n",
       "      <th>COUNT(*)</th>\n",
       "    </tr>\n",
       "  </thead>\n",
       "  <tbody>\n",
       "    <tr>\n",
       "      <th>0</th>\n",
       "      <td>4991</td>\n",
       "    </tr>\n",
       "  </tbody>\n",
       "</table>\n",
       "</div>"
      ]
     },
     "execution_count": 14,
     "metadata": {},
     "output_type": "execute_result"
    }
   ],
   "execution_count": 14
  },
  {
   "cell_type": "markdown",
   "id": "9dd14fbe-55d0-44b2-b0ce-1b672f3d4042",
   "metadata": {},
   "source": [
    "#### FULL JOIN or UNION of RIGHT JOIN and LEFT JOIN\n",
    "<br>\n",
    "Can answer multiple objectives at the same time! Not recommended for large databases. Results may slow your machine or quit before finishing. Write your question you are answering with your data query and visualize your results. <br>\n",
    "<br>\n",
    "**Question:** Get names of people who interviewed and not. If they got interviewed, get their transcript.\n",
    "<br>\n",
    "**What tables are we joining?** person and interview"
   ]
  },
  {
   "cell_type": "code",
   "id": "1f8d5e2f-2c52-4a57-a549-c7c19c02f2ed",
   "metadata": {
    "ExecuteTime": {
     "end_time": "2025-04-06T14:03:31.445220Z",
     "start_time": "2025-04-06T14:03:29.091073Z"
    }
   },
   "source": [
    "with engine.connect() as connection:\n",
    "    # Create query\n",
    "    query = text(\"\"\"\n",
    "        SELECT person.id, person.name, interview.transcript\n",
    "        FROM person\n",
    "        FULL JOIN interview\n",
    "        ON person.id = interview.person_id\n",
    "    \"\"\")\n",
    "    # Read query result\n",
    "    persons_and_interviews = pd.read_sql(query, connection)\n",
    "\n",
    "# Print the results\n",
    "persons_and_interviews"
   ],
   "outputs": [
    {
     "data": {
      "text/plain": [
       "          id                 name  \\\n",
       "0      10000   Christoper Peteuil   \n",
       "1      10007  Kourtney Calderwood   \n",
       "2      10010            Muoi Cary   \n",
       "3      10016          Era Moselle   \n",
       "4      10025         Trena Hornby   \n",
       "...      ...                  ...   \n",
       "10006  99936          Luba Benser   \n",
       "10007  99941      Roxana Mckimley   \n",
       "10008  99965      Cherie Zeimantz   \n",
       "10009  99982          Allen Cruse   \n",
       "10010  99990         Vance Hunten   \n",
       "\n",
       "                                              transcript  \n",
       "0                                                   None  \n",
       "1        CHAPTER IV. The Rabbit Sends in a Little Bill\\n  \n",
       "2                                                   None  \n",
       "3                                                     \\n  \n",
       "4                                                     \\n  \n",
       "...                                                  ...  \n",
       "10006  ‘Oh! So Bill’s got to come down the chimney, h...  \n",
       "10007                                               None  \n",
       "10008  said ‘No, never’) ‘--so you can have no idea w...  \n",
       "10009                                               None  \n",
       "10010                                               None  \n",
       "\n",
       "[10011 rows x 3 columns]"
      ],
      "text/html": [
       "<div>\n",
       "<style scoped>\n",
       "    .dataframe tbody tr th:only-of-type {\n",
       "        vertical-align: middle;\n",
       "    }\n",
       "\n",
       "    .dataframe tbody tr th {\n",
       "        vertical-align: top;\n",
       "    }\n",
       "\n",
       "    .dataframe thead th {\n",
       "        text-align: right;\n",
       "    }\n",
       "</style>\n",
       "<table border=\"1\" class=\"dataframe\">\n",
       "  <thead>\n",
       "    <tr style=\"text-align: right;\">\n",
       "      <th></th>\n",
       "      <th>id</th>\n",
       "      <th>name</th>\n",
       "      <th>transcript</th>\n",
       "    </tr>\n",
       "  </thead>\n",
       "  <tbody>\n",
       "    <tr>\n",
       "      <th>0</th>\n",
       "      <td>10000</td>\n",
       "      <td>Christoper Peteuil</td>\n",
       "      <td>None</td>\n",
       "    </tr>\n",
       "    <tr>\n",
       "      <th>1</th>\n",
       "      <td>10007</td>\n",
       "      <td>Kourtney Calderwood</td>\n",
       "      <td>CHAPTER IV. The Rabbit Sends in a Little Bill\\n</td>\n",
       "    </tr>\n",
       "    <tr>\n",
       "      <th>2</th>\n",
       "      <td>10010</td>\n",
       "      <td>Muoi Cary</td>\n",
       "      <td>None</td>\n",
       "    </tr>\n",
       "    <tr>\n",
       "      <th>3</th>\n",
       "      <td>10016</td>\n",
       "      <td>Era Moselle</td>\n",
       "      <td>\\n</td>\n",
       "    </tr>\n",
       "    <tr>\n",
       "      <th>4</th>\n",
       "      <td>10025</td>\n",
       "      <td>Trena Hornby</td>\n",
       "      <td>\\n</td>\n",
       "    </tr>\n",
       "    <tr>\n",
       "      <th>...</th>\n",
       "      <td>...</td>\n",
       "      <td>...</td>\n",
       "      <td>...</td>\n",
       "    </tr>\n",
       "    <tr>\n",
       "      <th>10006</th>\n",
       "      <td>99936</td>\n",
       "      <td>Luba Benser</td>\n",
       "      <td>‘Oh! So Bill’s got to come down the chimney, h...</td>\n",
       "    </tr>\n",
       "    <tr>\n",
       "      <th>10007</th>\n",
       "      <td>99941</td>\n",
       "      <td>Roxana Mckimley</td>\n",
       "      <td>None</td>\n",
       "    </tr>\n",
       "    <tr>\n",
       "      <th>10008</th>\n",
       "      <td>99965</td>\n",
       "      <td>Cherie Zeimantz</td>\n",
       "      <td>said ‘No, never’) ‘--so you can have no idea w...</td>\n",
       "    </tr>\n",
       "    <tr>\n",
       "      <th>10009</th>\n",
       "      <td>99982</td>\n",
       "      <td>Allen Cruse</td>\n",
       "      <td>None</td>\n",
       "    </tr>\n",
       "    <tr>\n",
       "      <th>10010</th>\n",
       "      <td>99990</td>\n",
       "      <td>Vance Hunten</td>\n",
       "      <td>None</td>\n",
       "    </tr>\n",
       "  </tbody>\n",
       "</table>\n",
       "<p>10011 rows × 3 columns</p>\n",
       "</div>"
      ]
     },
     "execution_count": 21,
     "metadata": {},
     "output_type": "execute_result"
    }
   ],
   "execution_count": 21
  },
  {
   "metadata": {},
   "cell_type": "markdown",
   "source": "If the person_id doesn't exist in the interview table, the transcript is None. To verify the result, we can try to search for person_id = 10000, which has None in transcript column:",
   "id": "8acccbcacce39c2b"
  },
  {
   "metadata": {
    "ExecuteTime": {
     "end_time": "2025-04-06T14:05:00.415792Z",
     "start_time": "2025-04-06T14:05:00.407276Z"
    }
   },
   "cell_type": "code",
   "source": [
    "with engine.connect() as connection:\n",
    "    # Create query\n",
    "    query = text(\"\"\"\n",
    "        SELECT *\n",
    "        FROM interview\n",
    "        WHERE interview.person_id = '10000'\n",
    "\n",
    "    \"\"\")\n",
    "    # Read query result\n",
    "    verify_result = pd.read_sql(query, connection)\n",
    "\n",
    "# Print the results\n",
    "verify_result"
   ],
   "id": "2a37616b812b1c19",
   "outputs": [
    {
     "data": {
      "text/plain": [
       "Empty DataFrame\n",
       "Columns: [person_id, transcript]\n",
       "Index: []"
      ],
      "text/html": [
       "<div>\n",
       "<style scoped>\n",
       "    .dataframe tbody tr th:only-of-type {\n",
       "        vertical-align: middle;\n",
       "    }\n",
       "\n",
       "    .dataframe tbody tr th {\n",
       "        vertical-align: top;\n",
       "    }\n",
       "\n",
       "    .dataframe thead th {\n",
       "        text-align: right;\n",
       "    }\n",
       "</style>\n",
       "<table border=\"1\" class=\"dataframe\">\n",
       "  <thead>\n",
       "    <tr style=\"text-align: right;\">\n",
       "      <th></th>\n",
       "      <th>person_id</th>\n",
       "      <th>transcript</th>\n",
       "    </tr>\n",
       "  </thead>\n",
       "  <tbody>\n",
       "  </tbody>\n",
       "</table>\n",
       "</div>"
      ]
     },
     "execution_count": 24,
     "metadata": {},
     "output_type": "execute_result"
    }
   ],
   "execution_count": 24
  },
  {
   "metadata": {},
   "cell_type": "markdown",
   "source": "As expected, there is no result returned. This means the full join worked as expected.",
   "id": "4894971044d51184"
  },
  {
   "cell_type": "code",
   "id": "69c1629d-cb65-4aab-acb8-97e5a2fa2634",
   "metadata": {
    "ExecuteTime": {
     "end_time": "2025-04-06T14:47:07.325796Z",
     "start_time": "2025-04-06T14:47:07.323030Z"
    }
   },
   "source": [
    "# Close your connection :)\n",
    "connection.close()\n",
    "engine.dispose()"
   ],
   "outputs": [],
   "execution_count": 28
  }
 ],
 "metadata": {
  "kernelspec": {
   "display_name": "Python 3 (ipykernel)",
   "language": "python",
   "name": "python3"
  },
  "language_info": {
   "codemirror_mode": {
    "name": "ipython",
    "version": 3
   },
   "file_extension": ".py",
   "mimetype": "text/x-python",
   "name": "python",
   "nbconvert_exporter": "python",
   "pygments_lexer": "ipython3",
   "version": "3.9.21"
  }
 },
 "nbformat": 4,
 "nbformat_minor": 5
}
