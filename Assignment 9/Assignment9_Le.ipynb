{
 "cells": [
  {
   "cell_type": "markdown",
   "id": "f369c6ca",
   "metadata": {},
   "source": [
    "# Assignment #9 - Data Gathering and Warehousing - DSSA-5102\n",
    "\n",
    "Instructor: Melissa Laurino</br>\n",
    "Spring 2025</br>\n",
    "\n",
    "Name: Thinh Le\n",
    "</br>\n",
    "Date: April 11, 2025\n",
    "<br>\n",
    "<br>\n",
    "**At this time in the semester:** <br>\n",
    "- We have explored a dataset. <br>\n",
    "- We have cleaned our dataset. <br>\n",
    "- We created a Github account with a repository for this class and included a metadata read me file about our data. <br>\n",
    "- We introduced general SQL syntax, queries, and applications in Python.<br>\n",
    "- Created our own databases from scratch using MySQL Workbench and Python with SQLAlchemy on our local server and locally on our machine.\n",
    "- Populated our databases with the data we cleaned at the start of the semester.\n",
    "<br>\n",
    "\n",
    "At this point, we have discussed all major statements used with SQL, but the possibilities are endless when it comes to data! Below we will explore some miscellaneous statements and tools that may be useful with your database.<br>\n",
    "\n",
    "<br>\n",
    "\n",
    "Read Chapter 7 & 10 in Getting Started with SQL by Thomas Nield available on Blackboard. <br>\n",
    "A quick reference for SQL commands: https://www.w3schools.com/sql/default.asp <br>\n",
    "\n",
    "Review the powerpoint and other readings specified on Blackboard in the Discussion Board.<br>\n",
    "\n",
    "In the event your database does not meet the requirements below to answer the question, please use the database provided in Assignment #4 and #5. Remember to credit your data source, especially when posting your assignments to Github.<br>\n",
    "\n",
    "Feel free to use your preferred library and method for the exploration below. Now that all of our data is loaded onto the MySQL Workbench server, you can even take the assignment a step further and complete it all within SQL without Jupyter Notebook!<br>\n",
    "\n",
    "Follow the instructions below to complete the assignment. Be sure to comment **all** code and answer **all** questions in markdown for full credit. Please submit this assignment with a link to it posted to your Github.<br>\n",
    "\n",
    "**Data origin:** spotify database"
   ]
  },
  {
   "metadata": {},
   "cell_type": "markdown",
   "source": "## Load libraries",
   "id": "7a52dc4d6cf199fc"
  },
  {
   "metadata": {
    "ExecuteTime": {
     "end_time": "2025-04-12T15:11:55.143249Z",
     "start_time": "2025-04-12T15:11:52.460736Z"
    }
   },
   "cell_type": "code",
   "source": [
    "# Load necessary packages:\n",
    "from sqlalchemy import create_engine, inspect, text\n",
    "import pandas as pd # Python data manilpulation\n",
    "from sqlalchemy.orm import Session"
   ],
   "id": "4b6bbe50",
   "outputs": [],
   "execution_count": 1
  },
  {
   "metadata": {},
   "cell_type": "markdown",
   "source": "## Connect to database and create engine",
   "id": "5f5f8d6d9b56b9cd"
  },
  {
   "cell_type": "code",
   "id": "f61dba89",
   "metadata": {
    "ExecuteTime": {
     "end_time": "2025-04-12T15:11:55.175177Z",
     "start_time": "2025-04-12T15:11:55.153343Z"
    }
   },
   "source": [
    "# Create a SQLite database and engine\n",
    "db_file = \"spotify_data.db\"\n",
    "engine = create_engine(f\"sqlite:///{db_file}\")"
   ],
   "outputs": [],
   "execution_count": 2
  },
  {
   "metadata": {},
   "cell_type": "markdown",
   "source": "## Create an inspector",
   "id": "56fc62da297e844c"
  },
  {
   "cell_type": "code",
   "id": "66a45f86-d483-4726-8c2b-a0fdb4bf2df8",
   "metadata": {
    "ExecuteTime": {
     "end_time": "2025-04-12T15:11:55.187676Z",
     "start_time": "2025-04-12T15:11:55.180237Z"
    }
   },
   "source": "inspector = inspect(engine)",
   "outputs": [],
   "execution_count": 3
  },
  {
   "metadata": {},
   "cell_type": "markdown",
   "source": "Inspect all table names:",
   "id": "f52971b548d51253"
  },
  {
   "cell_type": "code",
   "id": "4e39d926-e639-4779-8d93-20b37b8686a6",
   "metadata": {
    "ExecuteTime": {
     "end_time": "2025-04-12T15:11:55.766621Z",
     "start_time": "2025-04-12T15:11:55.746288Z"
    }
   },
   "source": [
    "# Write a query to list the table names of the database:\n",
    "tables = inspector.get_table_names()\n",
    "print(tables)"
   ],
   "outputs": [
    {
     "name": "stdout",
     "output_type": "stream",
     "text": [
      "['spotify_history']\n"
     ]
    }
   ],
   "execution_count": 4
  },
  {
   "metadata": {},
   "cell_type": "markdown",
   "source": "Inspect all column names in the `spotify_history` table:",
   "id": "30a3426fa9dd1295"
  },
  {
   "metadata": {
    "ExecuteTime": {
     "end_time": "2025-04-12T15:11:55.860243Z",
     "start_time": "2025-04-12T15:11:55.791678Z"
    }
   },
   "cell_type": "code",
   "source": [
    "columns = inspector.get_columns('spotify_history')\n",
    "print(\"All columns in spotify_history table:\")\n",
    "for col in columns:\n",
    "    print(col[\"name\"], \"-\", col[\"type\"])"
   ],
   "id": "62ece8564be975bb",
   "outputs": [
    {
     "name": "stdout",
     "output_type": "stream",
     "text": [
      "All columns in spotify_history table:\n",
      "ts - TEXT\n",
      "platform - TEXT\n",
      "ms_played - BIGINT\n",
      "conn_country - TEXT\n",
      "ip_addr - TEXT\n",
      "master_metadata_track_name - TEXT\n",
      "master_metadata_album_artist_name - TEXT\n",
      "master_metadata_album_album_name - TEXT\n",
      "spotify_track_uri - TEXT\n",
      "episode_name - FLOAT\n",
      "episode_show_name - FLOAT\n",
      "spotify_episode_uri - FLOAT\n",
      "audiobook_title - FLOAT\n",
      "audiobook_uri - FLOAT\n",
      "audiobook_chapter_uri - FLOAT\n",
      "audiobook_chapter_title - FLOAT\n",
      "reason_start - TEXT\n",
      "reason_end - TEXT\n",
      "shuffle - BOOLEAN\n",
      "skipped - BOOLEAN\n",
      "offline - BOOLEAN\n",
      "offline_timestamp - FLOAT\n",
      "incognito_mode - BOOLEAN\n",
      "year - BIGINT\n"
     ]
    }
   ],
   "execution_count": 5
  },
  {
   "metadata": {},
   "cell_type": "markdown",
   "source": "View top 5 records from the table:",
   "id": "da685606f4778996"
  },
  {
   "metadata": {
    "ExecuteTime": {
     "end_time": "2025-04-12T15:11:55.981936Z",
     "start_time": "2025-04-12T15:11:55.927481Z"
    }
   },
   "cell_type": "code",
   "source": [
    "query = \"\"\"SELECT * FROM spotify_history LIMIT 5\"\"\"\n",
    "_5_records = pd.read_sql(query, engine)\n",
    "\n",
    "_5_records"
   ],
   "id": "8915a87f59610da5",
   "outputs": [
    {
     "data": {
      "text/plain": [
       "                    ts             platform  ms_played conn_country  \\\n",
       "0  2012-08-03 15:43:50  OS X 10.7.4 [x86 4]     137760           US   \n",
       "1  2012-08-03 15:48:28  OS X 10.7.4 [x86 4]     277040           US   \n",
       "2  2012-08-03 15:50:16  OS X 10.7.4 [x86 4]     108244           US   \n",
       "3  2012-08-03 15:50:31  OS X 10.7.4 [x86 4]      16015           US   \n",
       "4  2012-08-03 15:53:53  OS X 10.7.4 [x86 4]      73786           US   \n",
       "\n",
       "          ip_addr          master_metadata_track_name  \\\n",
       "0  134.210.225.27                 Some Nights - Intro   \n",
       "1  134.210.225.27                         Some Nights   \n",
       "2  134.210.225.27  We Are Young (feat. Janelle Monáe)   \n",
       "3  134.210.225.27                  Trip to Your Heart   \n",
       "4  134.210.225.27                                Stan   \n",
       "\n",
       "  master_metadata_album_artist_name master_metadata_album_album_name  \\\n",
       "0                              fun.                      Some Nights   \n",
       "1                              fun.                      Some Nights   \n",
       "2                              fun.                      Some Nights   \n",
       "3                    Britney Spears    Femme Fatale (Deluxe Version)   \n",
       "4                            Eminem          The Marshall Mathers LP   \n",
       "\n",
       "                      spotify_track_uri episode_name  ...  \\\n",
       "0  spotify:track:1JAI5Ia020mdGH2wMQEacy         None  ...   \n",
       "1  spotify:track:6t6oULCRS6hnI7rm0h5gwl         None  ...   \n",
       "2  spotify:track:7a86XRg84qjasly9f6bPSD         None  ...   \n",
       "3  spotify:track:2qbhijQG7phGVHkPt22fTP         None  ...   \n",
       "4  spotify:track:3UmaczJpikHgJFyBTAJVoz         None  ...   \n",
       "\n",
       "  audiobook_chapter_uri audiobook_chapter_title reason_start reason_end  \\\n",
       "0                  None                    None      uriopen  trackdone   \n",
       "1                  None                    None    trackdone  trackdone   \n",
       "2                  None                    None    trackdone    uriopen   \n",
       "3                  None                    None      uriopen    uriopen   \n",
       "4                  None                    None      uriopen      popup   \n",
       "\n",
       "  shuffle skipped offline offline_timestamp  incognito_mode  year  \n",
       "0       0       0       0              None               0  2012  \n",
       "1       0       0       0              None               0  2012  \n",
       "2       0       1       0              None               0  2012  \n",
       "3       0       1       0              None               0  2012  \n",
       "4       0       1       0              None               0  2012  \n",
       "\n",
       "[5 rows x 24 columns]"
      ],
      "text/html": [
       "<div>\n",
       "<style scoped>\n",
       "    .dataframe tbody tr th:only-of-type {\n",
       "        vertical-align: middle;\n",
       "    }\n",
       "\n",
       "    .dataframe tbody tr th {\n",
       "        vertical-align: top;\n",
       "    }\n",
       "\n",
       "    .dataframe thead th {\n",
       "        text-align: right;\n",
       "    }\n",
       "</style>\n",
       "<table border=\"1\" class=\"dataframe\">\n",
       "  <thead>\n",
       "    <tr style=\"text-align: right;\">\n",
       "      <th></th>\n",
       "      <th>ts</th>\n",
       "      <th>platform</th>\n",
       "      <th>ms_played</th>\n",
       "      <th>conn_country</th>\n",
       "      <th>ip_addr</th>\n",
       "      <th>master_metadata_track_name</th>\n",
       "      <th>master_metadata_album_artist_name</th>\n",
       "      <th>master_metadata_album_album_name</th>\n",
       "      <th>spotify_track_uri</th>\n",
       "      <th>episode_name</th>\n",
       "      <th>...</th>\n",
       "      <th>audiobook_chapter_uri</th>\n",
       "      <th>audiobook_chapter_title</th>\n",
       "      <th>reason_start</th>\n",
       "      <th>reason_end</th>\n",
       "      <th>shuffle</th>\n",
       "      <th>skipped</th>\n",
       "      <th>offline</th>\n",
       "      <th>offline_timestamp</th>\n",
       "      <th>incognito_mode</th>\n",
       "      <th>year</th>\n",
       "    </tr>\n",
       "  </thead>\n",
       "  <tbody>\n",
       "    <tr>\n",
       "      <th>0</th>\n",
       "      <td>2012-08-03 15:43:50</td>\n",
       "      <td>OS X 10.7.4 [x86 4]</td>\n",
       "      <td>137760</td>\n",
       "      <td>US</td>\n",
       "      <td>134.210.225.27</td>\n",
       "      <td>Some Nights - Intro</td>\n",
       "      <td>fun.</td>\n",
       "      <td>Some Nights</td>\n",
       "      <td>spotify:track:1JAI5Ia020mdGH2wMQEacy</td>\n",
       "      <td>None</td>\n",
       "      <td>...</td>\n",
       "      <td>None</td>\n",
       "      <td>None</td>\n",
       "      <td>uriopen</td>\n",
       "      <td>trackdone</td>\n",
       "      <td>0</td>\n",
       "      <td>0</td>\n",
       "      <td>0</td>\n",
       "      <td>None</td>\n",
       "      <td>0</td>\n",
       "      <td>2012</td>\n",
       "    </tr>\n",
       "    <tr>\n",
       "      <th>1</th>\n",
       "      <td>2012-08-03 15:48:28</td>\n",
       "      <td>OS X 10.7.4 [x86 4]</td>\n",
       "      <td>277040</td>\n",
       "      <td>US</td>\n",
       "      <td>134.210.225.27</td>\n",
       "      <td>Some Nights</td>\n",
       "      <td>fun.</td>\n",
       "      <td>Some Nights</td>\n",
       "      <td>spotify:track:6t6oULCRS6hnI7rm0h5gwl</td>\n",
       "      <td>None</td>\n",
       "      <td>...</td>\n",
       "      <td>None</td>\n",
       "      <td>None</td>\n",
       "      <td>trackdone</td>\n",
       "      <td>trackdone</td>\n",
       "      <td>0</td>\n",
       "      <td>0</td>\n",
       "      <td>0</td>\n",
       "      <td>None</td>\n",
       "      <td>0</td>\n",
       "      <td>2012</td>\n",
       "    </tr>\n",
       "    <tr>\n",
       "      <th>2</th>\n",
       "      <td>2012-08-03 15:50:16</td>\n",
       "      <td>OS X 10.7.4 [x86 4]</td>\n",
       "      <td>108244</td>\n",
       "      <td>US</td>\n",
       "      <td>134.210.225.27</td>\n",
       "      <td>We Are Young (feat. Janelle Monáe)</td>\n",
       "      <td>fun.</td>\n",
       "      <td>Some Nights</td>\n",
       "      <td>spotify:track:7a86XRg84qjasly9f6bPSD</td>\n",
       "      <td>None</td>\n",
       "      <td>...</td>\n",
       "      <td>None</td>\n",
       "      <td>None</td>\n",
       "      <td>trackdone</td>\n",
       "      <td>uriopen</td>\n",
       "      <td>0</td>\n",
       "      <td>1</td>\n",
       "      <td>0</td>\n",
       "      <td>None</td>\n",
       "      <td>0</td>\n",
       "      <td>2012</td>\n",
       "    </tr>\n",
       "    <tr>\n",
       "      <th>3</th>\n",
       "      <td>2012-08-03 15:50:31</td>\n",
       "      <td>OS X 10.7.4 [x86 4]</td>\n",
       "      <td>16015</td>\n",
       "      <td>US</td>\n",
       "      <td>134.210.225.27</td>\n",
       "      <td>Trip to Your Heart</td>\n",
       "      <td>Britney Spears</td>\n",
       "      <td>Femme Fatale (Deluxe Version)</td>\n",
       "      <td>spotify:track:2qbhijQG7phGVHkPt22fTP</td>\n",
       "      <td>None</td>\n",
       "      <td>...</td>\n",
       "      <td>None</td>\n",
       "      <td>None</td>\n",
       "      <td>uriopen</td>\n",
       "      <td>uriopen</td>\n",
       "      <td>0</td>\n",
       "      <td>1</td>\n",
       "      <td>0</td>\n",
       "      <td>None</td>\n",
       "      <td>0</td>\n",
       "      <td>2012</td>\n",
       "    </tr>\n",
       "    <tr>\n",
       "      <th>4</th>\n",
       "      <td>2012-08-03 15:53:53</td>\n",
       "      <td>OS X 10.7.4 [x86 4]</td>\n",
       "      <td>73786</td>\n",
       "      <td>US</td>\n",
       "      <td>134.210.225.27</td>\n",
       "      <td>Stan</td>\n",
       "      <td>Eminem</td>\n",
       "      <td>The Marshall Mathers LP</td>\n",
       "      <td>spotify:track:3UmaczJpikHgJFyBTAJVoz</td>\n",
       "      <td>None</td>\n",
       "      <td>...</td>\n",
       "      <td>None</td>\n",
       "      <td>None</td>\n",
       "      <td>uriopen</td>\n",
       "      <td>popup</td>\n",
       "      <td>0</td>\n",
       "      <td>1</td>\n",
       "      <td>0</td>\n",
       "      <td>None</td>\n",
       "      <td>0</td>\n",
       "      <td>2012</td>\n",
       "    </tr>\n",
       "  </tbody>\n",
       "</table>\n",
       "<p>5 rows × 24 columns</p>\n",
       "</div>"
      ]
     },
     "execution_count": 6,
     "metadata": {},
     "output_type": "execute_result"
    }
   ],
   "execution_count": 6
  },
  {
   "cell_type": "markdown",
   "id": "40c58ed6",
   "metadata": {},
   "source": [
    "#### CASE Statements\n",
    "Case statements are similar to the if-then-else statements in programming. The data that meets the case statements in the database will be returned. You start a CASE statement with the word CASE and conclude it with an END. Between those keywords, you specify each condition with a WHEN [condition] THEN [value], where the condition and the values are specified by you.\n",
    "\n",
    "Nield, Thomas. Getting Started with SQL (p. 71). O'Reilly Media. Kindle Edition. <br>\n",
    "<br>\n",
    "Write your question you are answering with your data query. <br>\n",
    "<br>\n",
    "**Example Question:** Which songs played within 5 years ago? Which songs played more than 5 years ago?\n",
    "<br>\n",
    "**What tables are we joining? (If any):** I won't do the join since there is only 1 table in the dataset"
   ]
  },
  {
   "cell_type": "code",
   "id": "1a4ca6e9",
   "metadata": {
    "ExecuteTime": {
     "end_time": "2025-04-12T15:11:57.526340Z",
     "start_time": "2025-04-12T15:11:56.059632Z"
    }
   },
   "source": [
    "# Which songs played within 5 years ago? Which songs played more than 5 years ago?\n",
    "# strftime: Extract year from string\n",
    "query = \"\"\"\n",
    "SELECT\n",
    "    master_metadata_track_name AS song_name,\n",
    "    CASE\n",
    "        WHEN CAST(strftime('%Y', ts) AS INTEGER) >= 2020 THEN 'Within the past 5 years'\n",
    "        ELSE 'From 5 years ago and before'\n",
    "    END AS time_range\n",
    "FROM spotify_history\n",
    "\"\"\"\n",
    "year_check = pd.read_sql(query, engine)\n",
    "\n",
    "print(year_check)"
   ],
   "outputs": [
    {
     "name": "stdout",
     "output_type": "stream",
     "text": [
      "                                        song_name                   time_range\n",
      "0                             Some Nights - Intro  From 5 years ago and before\n",
      "1                                     Some Nights  From 5 years ago and before\n",
      "2              We Are Young (feat. Janelle Monáe)  From 5 years ago and before\n",
      "3                              Trip to Your Heart  From 5 years ago and before\n",
      "4                                            Stan  From 5 years ago and before\n",
      "...                                           ...                          ...\n",
      "202673  Red - From \"Descendants: The Rise of Red\"      Within the past 5 years\n",
      "202674                            Life Is Sweeter      Within the past 5 years\n",
      "202675                              Space Between      Within the past 5 years\n",
      "202676                            Perfect Revenge      Within the past 5 years\n",
      "202677                             Back to Autumn      Within the past 5 years\n",
      "\n",
      "[202678 rows x 2 columns]\n"
     ]
    }
   ],
   "execution_count": 7
  },
  {
   "cell_type": "markdown",
   "id": "db5bb8cc",
   "metadata": {},
   "source": [
    "**CASE STATEMENT**\n",
    "<br>\n",
    "Write a second CASE statement!\n",
    "\n",
    "Write your question you are answering with your data query. <br>\n",
    "<br>\n",
    "**Example Question:** Count the number of different devices (e.g., Android, iOS, and others) used\n",
    "<br>\n",
    "**What tables are we joining? (If any):** I won't do the join since there is only 1 table in the dataset"
   ]
  },
  {
   "cell_type": "code",
   "id": "aaeb520d",
   "metadata": {
    "ExecuteTime": {
     "end_time": "2025-04-12T15:11:58.352109Z",
     "start_time": "2025-04-12T15:11:57.563743Z"
    }
   },
   "source": [
    "# Count the number of different devices (e.g., Android, iOS, and others) used\n",
    "query = \"\"\"\n",
    "SELECT\n",
    "    platform,\n",
    "    COUNT(*) AS platform_count,\n",
    "    CASE\n",
    "        WHEN LOWER(platform) LIKE '%android%' THEN 'Android platform'\n",
    "        WHEN LOWER(platform) LIKE '%ios%' THEN 'iOS platform'\n",
    "        WHEN LOWER(platform) LIKE 'os%' THEN 'OS platform'\n",
    "        WHEN LOWER(platform) LIKE '%google%' THEN 'Google platform'\n",
    "        ELSE 'Other'\n",
    "    END AS platform_check\n",
    "FROM spotify_history\n",
    "GROUP BY platform;\n",
    "\"\"\"\n",
    "platform_check = pd.read_sql(query, engine)\n",
    "\n",
    "platform_check"
   ],
   "outputs": [
    {
     "data": {
      "text/plain": [
       "                  platform  platform_count platform_check\n",
       "0      OS X 10.7.4 [x86 4]              70    OS platform\n",
       "1      OS X 10.7.5 [x86 4]            3604    OS platform\n",
       "2      OS X 10.9.0 [x86 4]             753    OS platform\n",
       "3      OS X 10.9.1 [x86 4]             596    OS platform\n",
       "4      OS X 10.9.2 [x86 4]             856    OS platform\n",
       "..                     ...             ...            ...\n",
       "176  iOS 9.3.2 (iPhone6,1)             631   iOS platform\n",
       "177  iOS 9.3.5 (iPhone6,1)            8019   iOS platform\n",
       "178                    ios           38659   iOS platform\n",
       "179                    osx             205    OS platform\n",
       "180                  tizen              14          Other\n",
       "\n",
       "[181 rows x 3 columns]"
      ],
      "text/html": [
       "<div>\n",
       "<style scoped>\n",
       "    .dataframe tbody tr th:only-of-type {\n",
       "        vertical-align: middle;\n",
       "    }\n",
       "\n",
       "    .dataframe tbody tr th {\n",
       "        vertical-align: top;\n",
       "    }\n",
       "\n",
       "    .dataframe thead th {\n",
       "        text-align: right;\n",
       "    }\n",
       "</style>\n",
       "<table border=\"1\" class=\"dataframe\">\n",
       "  <thead>\n",
       "    <tr style=\"text-align: right;\">\n",
       "      <th></th>\n",
       "      <th>platform</th>\n",
       "      <th>platform_count</th>\n",
       "      <th>platform_check</th>\n",
       "    </tr>\n",
       "  </thead>\n",
       "  <tbody>\n",
       "    <tr>\n",
       "      <th>0</th>\n",
       "      <td>OS X 10.7.4 [x86 4]</td>\n",
       "      <td>70</td>\n",
       "      <td>OS platform</td>\n",
       "    </tr>\n",
       "    <tr>\n",
       "      <th>1</th>\n",
       "      <td>OS X 10.7.5 [x86 4]</td>\n",
       "      <td>3604</td>\n",
       "      <td>OS platform</td>\n",
       "    </tr>\n",
       "    <tr>\n",
       "      <th>2</th>\n",
       "      <td>OS X 10.9.0 [x86 4]</td>\n",
       "      <td>753</td>\n",
       "      <td>OS platform</td>\n",
       "    </tr>\n",
       "    <tr>\n",
       "      <th>3</th>\n",
       "      <td>OS X 10.9.1 [x86 4]</td>\n",
       "      <td>596</td>\n",
       "      <td>OS platform</td>\n",
       "    </tr>\n",
       "    <tr>\n",
       "      <th>4</th>\n",
       "      <td>OS X 10.9.2 [x86 4]</td>\n",
       "      <td>856</td>\n",
       "      <td>OS platform</td>\n",
       "    </tr>\n",
       "    <tr>\n",
       "      <th>...</th>\n",
       "      <td>...</td>\n",
       "      <td>...</td>\n",
       "      <td>...</td>\n",
       "    </tr>\n",
       "    <tr>\n",
       "      <th>176</th>\n",
       "      <td>iOS 9.3.2 (iPhone6,1)</td>\n",
       "      <td>631</td>\n",
       "      <td>iOS platform</td>\n",
       "    </tr>\n",
       "    <tr>\n",
       "      <th>177</th>\n",
       "      <td>iOS 9.3.5 (iPhone6,1)</td>\n",
       "      <td>8019</td>\n",
       "      <td>iOS platform</td>\n",
       "    </tr>\n",
       "    <tr>\n",
       "      <th>178</th>\n",
       "      <td>ios</td>\n",
       "      <td>38659</td>\n",
       "      <td>iOS platform</td>\n",
       "    </tr>\n",
       "    <tr>\n",
       "      <th>179</th>\n",
       "      <td>osx</td>\n",
       "      <td>205</td>\n",
       "      <td>OS platform</td>\n",
       "    </tr>\n",
       "    <tr>\n",
       "      <th>180</th>\n",
       "      <td>tizen</td>\n",
       "      <td>14</td>\n",
       "      <td>Other</td>\n",
       "    </tr>\n",
       "  </tbody>\n",
       "</table>\n",
       "<p>181 rows × 3 columns</p>\n",
       "</div>"
      ]
     },
     "execution_count": 8,
     "metadata": {},
     "output_type": "execute_result"
    }
   ],
   "execution_count": 8
  },
  {
   "cell_type": "markdown",
   "id": "ccbfb111",
   "metadata": {},
   "source": [
    "**CASE STATEMENT**\n",
    "<br>\n",
    "Write a third CASE statement!\n",
    "\n",
    "Write your question you are answering with your data query. <br>\n",
    "<br>\n",
    "**Question:** Count songs has `ms_played` under 1 minute, from 1 and under 3 minutes, from 3 minutes or above?\n",
    "<br>\n",
    "**What tables are we joining? (If any):** I won't do the join since there is only 1 table in the dataset"
   ]
  },
  {
   "cell_type": "code",
   "id": "f43042fe",
   "metadata": {
    "ExecuteTime": {
     "end_time": "2025-04-12T16:55:03.738014Z",
     "start_time": "2025-04-12T16:55:02.936455Z"
    }
   },
   "source": [
    "# Count songs has `ms_played` under 1 minute, from 1 and under 3 minutes, from 3 minutes or above?\n",
    "# < 60000: Under 1 minute\n",
    "# between 60000 and 180000: From 1 minute and under 3 minutes\n",
    "# else: 'From 3 minutes or above'\n",
    "query = \"\"\"\n",
    "SELECT\n",
    "    CASE\n",
    "        WHEN ms_played < 60000 THEN 'Under 1 minute'\n",
    "        WHEN ms_played >= 60000 AND ms_played < 180000 THEN 'From 1 minute and under 3 minutes'\n",
    "        ELSE 'From 3 minutes or above'\n",
    "    END AS ms_played_check,\n",
    "    COUNT(*) AS ms_played_count\n",
    "FROM spotify_history\n",
    "GROUP BY ms_played_check;\n",
    "\"\"\"\n",
    "ms_played_check = pd.read_sql(query, engine)\n",
    "\n",
    "ms_played_check"
   ],
   "outputs": [
    {
     "data": {
      "text/plain": [
       "                     ms_played_check  ms_played_count\n",
       "0  From 1 minute and under 3 minutes            34543\n",
       "1            From 3 minutes or above            61798\n",
       "2                     Under 1 minute           106338"
      ],
      "text/html": [
       "<div>\n",
       "<style scoped>\n",
       "    .dataframe tbody tr th:only-of-type {\n",
       "        vertical-align: middle;\n",
       "    }\n",
       "\n",
       "    .dataframe tbody tr th {\n",
       "        vertical-align: top;\n",
       "    }\n",
       "\n",
       "    .dataframe thead th {\n",
       "        text-align: right;\n",
       "    }\n",
       "</style>\n",
       "<table border=\"1\" class=\"dataframe\">\n",
       "  <thead>\n",
       "    <tr style=\"text-align: right;\">\n",
       "      <th></th>\n",
       "      <th>ms_played_check</th>\n",
       "      <th>ms_played_count</th>\n",
       "    </tr>\n",
       "  </thead>\n",
       "  <tbody>\n",
       "    <tr>\n",
       "      <th>0</th>\n",
       "      <td>From 1 minute and under 3 minutes</td>\n",
       "      <td>34543</td>\n",
       "    </tr>\n",
       "    <tr>\n",
       "      <th>1</th>\n",
       "      <td>From 3 minutes or above</td>\n",
       "      <td>61798</td>\n",
       "    </tr>\n",
       "    <tr>\n",
       "      <th>2</th>\n",
       "      <td>Under 1 minute</td>\n",
       "      <td>106338</td>\n",
       "    </tr>\n",
       "  </tbody>\n",
       "</table>\n",
       "</div>"
      ]
     },
     "execution_count": 22,
     "metadata": {},
     "output_type": "execute_result"
    }
   ],
   "execution_count": 22
  },
  {
   "cell_type": "markdown",
   "id": "00dfccbc",
   "metadata": {},
   "source": [
    "**NULL**\n",
    "<br>\n",
    "As with all data, NULL values are fields with no data. Null data can be useful to know with the INSERT INTO statement below.\n",
    "\n",
    "Find the NULL data within your database. Write your question you are answering with your data query. <br>\n",
    "<br>\n",
    "**Question:**  Count the number of tracks which were played online\n",
    "<br>"
   ]
  },
  {
   "cell_type": "code",
   "id": "ff36e23c",
   "metadata": {
    "ExecuteTime": {
     "end_time": "2025-04-12T15:12:00.272565Z",
     "start_time": "2025-04-12T15:11:59.327773Z"
    }
   },
   "source": [
    "# Count the number of tracks which were played online\n",
    "query = \"\"\"\n",
    "SELECT COUNT(*)\n",
    "FROM spotify_history\n",
    "WHERE offline_timestamp IS NULL;\n",
    "\"\"\"\n",
    "online_track_check = pd.read_sql(query, engine)\n",
    "\n",
    "online_track_check"
   ],
   "outputs": [
    {
     "data": {
      "text/plain": [
       "   COUNT(*)\n",
       "0    162288"
      ],
      "text/html": [
       "<div>\n",
       "<style scoped>\n",
       "    .dataframe tbody tr th:only-of-type {\n",
       "        vertical-align: middle;\n",
       "    }\n",
       "\n",
       "    .dataframe tbody tr th {\n",
       "        vertical-align: top;\n",
       "    }\n",
       "\n",
       "    .dataframe thead th {\n",
       "        text-align: right;\n",
       "    }\n",
       "</style>\n",
       "<table border=\"1\" class=\"dataframe\">\n",
       "  <thead>\n",
       "    <tr style=\"text-align: right;\">\n",
       "      <th></th>\n",
       "      <th>COUNT(*)</th>\n",
       "    </tr>\n",
       "  </thead>\n",
       "  <tbody>\n",
       "    <tr>\n",
       "      <th>0</th>\n",
       "      <td>162288</td>\n",
       "    </tr>\n",
       "  </tbody>\n",
       "</table>\n",
       "</div>"
      ]
     },
     "execution_count": 10,
     "metadata": {},
     "output_type": "execute_result"
    }
   ],
   "execution_count": 10
  },
  {
   "cell_type": "markdown",
   "id": "501a12a4",
   "metadata": {},
   "source": [
    "**INSERT INTO**\n",
    "<br>\n",
    "You can insert new records into a table as needed using the INSERT INTO statement. If you choose to populate a table with certain records and not others, the rest of the fields will remain empty/NULL.\n",
    "<br>\n",
    "For INSERT INTO, we are not querying the database, instead we are ADDING to it. We do not need to use dbGetQuery(), but instead, dbExecute()!\n",
    "<br><br>\n",
    "**Objective:** Insert a new record to the database"
   ]
  },
  {
   "cell_type": "code",
   "id": "2f64f50d",
   "metadata": {
    "ExecuteTime": {
     "end_time": "2025-04-12T15:22:11.560336Z",
     "start_time": "2025-04-12T15:22:11.528258Z"
    }
   },
   "source": [
    "# Open a session and insert a new record\n",
    "with Session(engine) as session:\n",
    "    query = \"\"\"\n",
    "    INSERT INTO spotify_history\n",
    "    (ts, master_metadata_track_name, master_metadata_album_artist_name)\n",
    "    VALUES ('2025-04-12 11:18:50', 'everything, everywhere', 'vaultboy')\"\"\"\n",
    "    session.execute(text(query))\n",
    "    session.commit()"
   ],
   "outputs": [],
   "execution_count": 13
  },
  {
   "metadata": {},
   "cell_type": "markdown",
   "source": "Check the inserted value:",
   "id": "d97e5263549ef654"
  },
  {
   "metadata": {
    "ExecuteTime": {
     "end_time": "2025-04-12T16:06:34.228337Z",
     "start_time": "2025-04-12T16:06:33.572913Z"
    }
   },
   "cell_type": "code",
   "source": [
    "query = \"\"\"\n",
    "SELECT * FROM spotify_history\n",
    "WHERE master_metadata_track_name = 'everything, everywhere';\n",
    "\"\"\"\n",
    "insert_track_check = pd.read_sql(query, engine)\n",
    "\n",
    "insert_track_check"
   ],
   "id": "7a2de05ab886e72e",
   "outputs": [
    {
     "data": {
      "text/plain": [
       "                    ts platform ms_played conn_country ip_addr  \\\n",
       "0  2025-04-12 11:18:50     None      None         None    None   \n",
       "\n",
       "  master_metadata_track_name master_metadata_album_artist_name  \\\n",
       "0     everything, everywhere                          vaultboy   \n",
       "\n",
       "  master_metadata_album_album_name spotify_track_uri episode_name  ...  \\\n",
       "0                             None              None         None  ...   \n",
       "\n",
       "  audiobook_chapter_uri audiobook_chapter_title reason_start reason_end  \\\n",
       "0                  None                    None         None       None   \n",
       "\n",
       "  shuffle skipped offline offline_timestamp incognito_mode  year  \n",
       "0    None    None    None              None           None  None  \n",
       "\n",
       "[1 rows x 24 columns]"
      ],
      "text/html": [
       "<div>\n",
       "<style scoped>\n",
       "    .dataframe tbody tr th:only-of-type {\n",
       "        vertical-align: middle;\n",
       "    }\n",
       "\n",
       "    .dataframe tbody tr th {\n",
       "        vertical-align: top;\n",
       "    }\n",
       "\n",
       "    .dataframe thead th {\n",
       "        text-align: right;\n",
       "    }\n",
       "</style>\n",
       "<table border=\"1\" class=\"dataframe\">\n",
       "  <thead>\n",
       "    <tr style=\"text-align: right;\">\n",
       "      <th></th>\n",
       "      <th>ts</th>\n",
       "      <th>platform</th>\n",
       "      <th>ms_played</th>\n",
       "      <th>conn_country</th>\n",
       "      <th>ip_addr</th>\n",
       "      <th>master_metadata_track_name</th>\n",
       "      <th>master_metadata_album_artist_name</th>\n",
       "      <th>master_metadata_album_album_name</th>\n",
       "      <th>spotify_track_uri</th>\n",
       "      <th>episode_name</th>\n",
       "      <th>...</th>\n",
       "      <th>audiobook_chapter_uri</th>\n",
       "      <th>audiobook_chapter_title</th>\n",
       "      <th>reason_start</th>\n",
       "      <th>reason_end</th>\n",
       "      <th>shuffle</th>\n",
       "      <th>skipped</th>\n",
       "      <th>offline</th>\n",
       "      <th>offline_timestamp</th>\n",
       "      <th>incognito_mode</th>\n",
       "      <th>year</th>\n",
       "    </tr>\n",
       "  </thead>\n",
       "  <tbody>\n",
       "    <tr>\n",
       "      <th>0</th>\n",
       "      <td>2025-04-12 11:18:50</td>\n",
       "      <td>None</td>\n",
       "      <td>None</td>\n",
       "      <td>None</td>\n",
       "      <td>None</td>\n",
       "      <td>everything, everywhere</td>\n",
       "      <td>vaultboy</td>\n",
       "      <td>None</td>\n",
       "      <td>None</td>\n",
       "      <td>None</td>\n",
       "      <td>...</td>\n",
       "      <td>None</td>\n",
       "      <td>None</td>\n",
       "      <td>None</td>\n",
       "      <td>None</td>\n",
       "      <td>None</td>\n",
       "      <td>None</td>\n",
       "      <td>None</td>\n",
       "      <td>None</td>\n",
       "      <td>None</td>\n",
       "      <td>None</td>\n",
       "    </tr>\n",
       "  </tbody>\n",
       "</table>\n",
       "<p>1 rows × 24 columns</p>\n",
       "</div>"
      ]
     },
     "execution_count": 15,
     "metadata": {},
     "output_type": "execute_result"
    }
   ],
   "execution_count": 15
  },
  {
   "cell_type": "markdown",
   "id": "eb27ad86",
   "metadata": {},
   "source": [
    "**MIN() and MAX()**\n",
    "<br>\n",
    "You can use these statements alone or in combination with the CASE statemts above.<br>\n",
    "The IN operator in a WHERE clause lets you filter for multiple values at once. You can also exclude certain values by using the NOT IN operator.\n",
    "<br>\n",
    "\n",
    "**Question:** Find the max `ms_played`"
   ]
  },
  {
   "cell_type": "code",
   "id": "f1a97c9d",
   "metadata": {
    "ExecuteTime": {
     "end_time": "2025-04-12T16:07:39.919854Z",
     "start_time": "2025-04-12T16:07:39.023313Z"
    }
   },
   "source": [
    "# Find the max `ms_played`\n",
    "query = \"\"\"\n",
    "SELECT MAX(ms_played) FROM spotify_history\n",
    "\"\"\"\n",
    "max_ms_played = pd.read_sql(query, engine)\n",
    "\n",
    "max_ms_played"
   ],
   "outputs": [
    {
     "data": {
      "text/plain": [
       "   MAX(ms_played)\n",
       "0         3570734"
      ],
      "text/html": [
       "<div>\n",
       "<style scoped>\n",
       "    .dataframe tbody tr th:only-of-type {\n",
       "        vertical-align: middle;\n",
       "    }\n",
       "\n",
       "    .dataframe tbody tr th {\n",
       "        vertical-align: top;\n",
       "    }\n",
       "\n",
       "    .dataframe thead th {\n",
       "        text-align: right;\n",
       "    }\n",
       "</style>\n",
       "<table border=\"1\" class=\"dataframe\">\n",
       "  <thead>\n",
       "    <tr style=\"text-align: right;\">\n",
       "      <th></th>\n",
       "      <th>MAX(ms_played)</th>\n",
       "    </tr>\n",
       "  </thead>\n",
       "  <tbody>\n",
       "    <tr>\n",
       "      <th>0</th>\n",
       "      <td>3570734</td>\n",
       "    </tr>\n",
       "  </tbody>\n",
       "</table>\n",
       "</div>"
      ]
     },
     "execution_count": 16,
     "metadata": {},
     "output_type": "execute_result"
    }
   ],
   "execution_count": 16
  },
  {
   "cell_type": "markdown",
   "id": "ceb2cc17",
   "metadata": {},
   "source": [
    "Combine CASE statement with Min() and Max() for a more detailed query of your data:\n",
    "<br><br>\n",
    "**Question:** Find min and max `ms_played` from artists and assign CASE definitions for Listener Categories"
   ]
  },
  {
   "cell_type": "code",
   "id": "581f5376",
   "metadata": {
    "ExecuteTime": {
     "end_time": "2025-04-12T16:42:37.842487Z",
     "start_time": "2025-04-12T16:42:36.925910Z"
    }
   },
   "source": [
    "# Find min and max `ms_played` from artists and assign CASE definitions for Listener Categories\n",
    "# Less than 1 year: Recently listened to\n",
    "# From 1 to 5 years: Quite a long time fan\n",
    "# More than 5 years: Must be a very loyal fan!\n",
    "query = \"\"\"\n",
    "SELECT\n",
    "    master_metadata_album_artist_name,\n",
    "    MIN(year) AS min_year,\n",
    "    MAX(year) AS max_year,\n",
    "    CASE\n",
    "        WHEN MAX(year) - MIN(year) < 1 THEN 'Recently listened to'\n",
    "        WHEN MAX(year) - MIN(year) BETWEEN 1 AND 5 THEN 'Quite a long time fan'\n",
    "        ELSE 'Must be a very loyal fan!'\n",
    "    END AS year_check\n",
    "FROM spotify_history\n",
    "GROUP BY master_metadata_album_artist_name\n",
    "ORDER BY year_check ASC;\n",
    "\"\"\"\n",
    "listener_category_check = pd.read_sql(query, engine)\n",
    "\n",
    "listener_category_check"
   ],
   "outputs": [
    {
     "data": {
      "text/plain": [
       "     master_metadata_album_artist_name  min_year  max_year  \\\n",
       "0            'Legally Blonde' Ensemble      2016      2023   \n",
       "1                               *NSYNC      2012      2024   \n",
       "2                             2 Chainz      2012      2024   \n",
       "3                            21 Savage      2016      2024   \n",
       "4                                 2Pac      2012      2024   \n",
       "...                                ...       ...       ...   \n",
       "6031                            Ásgeir      2017      2017   \n",
       "6032                        Édith Piaf      2013      2013   \n",
       "6033                    Ólafur Arnalds      2020      2020   \n",
       "6034                           Öwnboss      2024      2024   \n",
       "6035                             фрози      2024      2024   \n",
       "\n",
       "                     year_check  \n",
       "0     Must be a very loyal fan!  \n",
       "1     Must be a very loyal fan!  \n",
       "2     Must be a very loyal fan!  \n",
       "3     Must be a very loyal fan!  \n",
       "4     Must be a very loyal fan!  \n",
       "...                         ...  \n",
       "6031       Recently listened to  \n",
       "6032       Recently listened to  \n",
       "6033       Recently listened to  \n",
       "6034       Recently listened to  \n",
       "6035       Recently listened to  \n",
       "\n",
       "[6036 rows x 4 columns]"
      ],
      "text/html": [
       "<div>\n",
       "<style scoped>\n",
       "    .dataframe tbody tr th:only-of-type {\n",
       "        vertical-align: middle;\n",
       "    }\n",
       "\n",
       "    .dataframe tbody tr th {\n",
       "        vertical-align: top;\n",
       "    }\n",
       "\n",
       "    .dataframe thead th {\n",
       "        text-align: right;\n",
       "    }\n",
       "</style>\n",
       "<table border=\"1\" class=\"dataframe\">\n",
       "  <thead>\n",
       "    <tr style=\"text-align: right;\">\n",
       "      <th></th>\n",
       "      <th>master_metadata_album_artist_name</th>\n",
       "      <th>min_year</th>\n",
       "      <th>max_year</th>\n",
       "      <th>year_check</th>\n",
       "    </tr>\n",
       "  </thead>\n",
       "  <tbody>\n",
       "    <tr>\n",
       "      <th>0</th>\n",
       "      <td>'Legally Blonde' Ensemble</td>\n",
       "      <td>2016</td>\n",
       "      <td>2023</td>\n",
       "      <td>Must be a very loyal fan!</td>\n",
       "    </tr>\n",
       "    <tr>\n",
       "      <th>1</th>\n",
       "      <td>*NSYNC</td>\n",
       "      <td>2012</td>\n",
       "      <td>2024</td>\n",
       "      <td>Must be a very loyal fan!</td>\n",
       "    </tr>\n",
       "    <tr>\n",
       "      <th>2</th>\n",
       "      <td>2 Chainz</td>\n",
       "      <td>2012</td>\n",
       "      <td>2024</td>\n",
       "      <td>Must be a very loyal fan!</td>\n",
       "    </tr>\n",
       "    <tr>\n",
       "      <th>3</th>\n",
       "      <td>21 Savage</td>\n",
       "      <td>2016</td>\n",
       "      <td>2024</td>\n",
       "      <td>Must be a very loyal fan!</td>\n",
       "    </tr>\n",
       "    <tr>\n",
       "      <th>4</th>\n",
       "      <td>2Pac</td>\n",
       "      <td>2012</td>\n",
       "      <td>2024</td>\n",
       "      <td>Must be a very loyal fan!</td>\n",
       "    </tr>\n",
       "    <tr>\n",
       "      <th>...</th>\n",
       "      <td>...</td>\n",
       "      <td>...</td>\n",
       "      <td>...</td>\n",
       "      <td>...</td>\n",
       "    </tr>\n",
       "    <tr>\n",
       "      <th>6031</th>\n",
       "      <td>Ásgeir</td>\n",
       "      <td>2017</td>\n",
       "      <td>2017</td>\n",
       "      <td>Recently listened to</td>\n",
       "    </tr>\n",
       "    <tr>\n",
       "      <th>6032</th>\n",
       "      <td>Édith Piaf</td>\n",
       "      <td>2013</td>\n",
       "      <td>2013</td>\n",
       "      <td>Recently listened to</td>\n",
       "    </tr>\n",
       "    <tr>\n",
       "      <th>6033</th>\n",
       "      <td>Ólafur Arnalds</td>\n",
       "      <td>2020</td>\n",
       "      <td>2020</td>\n",
       "      <td>Recently listened to</td>\n",
       "    </tr>\n",
       "    <tr>\n",
       "      <th>6034</th>\n",
       "      <td>Öwnboss</td>\n",
       "      <td>2024</td>\n",
       "      <td>2024</td>\n",
       "      <td>Recently listened to</td>\n",
       "    </tr>\n",
       "    <tr>\n",
       "      <th>6035</th>\n",
       "      <td>фрози</td>\n",
       "      <td>2024</td>\n",
       "      <td>2024</td>\n",
       "      <td>Recently listened to</td>\n",
       "    </tr>\n",
       "  </tbody>\n",
       "</table>\n",
       "<p>6036 rows × 4 columns</p>\n",
       "</div>"
      ]
     },
     "execution_count": 19,
     "metadata": {},
     "output_type": "execute_result"
    }
   ],
   "execution_count": 19
  },
  {
   "cell_type": "markdown",
   "id": "8b3de393",
   "metadata": {},
   "source": [
    "**MIN() and MAX()** <br>\n",
    "AVG() will take the average of a numeric field.\n",
    "\n",
    "**Question:** Find the average `ms_played` time\n",
    "<br>"
   ]
  },
  {
   "cell_type": "code",
   "id": "f1e63c19",
   "metadata": {
    "ExecuteTime": {
     "end_time": "2025-04-12T16:50:15.345516Z",
     "start_time": "2025-04-12T16:50:14.391191Z"
    }
   },
   "source": [
    "# Find the average `ms_played` time\n",
    "query = \"\"\"\n",
    "SELECT AVG(ms_played) FROM spotify_history\n",
    "\"\"\"\n",
    "avg_ms_played = pd.read_sql(query, engine)\n",
    "\n",
    "avg_ms_played"
   ],
   "outputs": [
    {
     "data": {
      "text/plain": [
       "   AVG(ms_played)\n",
       "0    98223.767345"
      ],
      "text/html": [
       "<div>\n",
       "<style scoped>\n",
       "    .dataframe tbody tr th:only-of-type {\n",
       "        vertical-align: middle;\n",
       "    }\n",
       "\n",
       "    .dataframe tbody tr th {\n",
       "        vertical-align: top;\n",
       "    }\n",
       "\n",
       "    .dataframe thead th {\n",
       "        text-align: right;\n",
       "    }\n",
       "</style>\n",
       "<table border=\"1\" class=\"dataframe\">\n",
       "  <thead>\n",
       "    <tr style=\"text-align: right;\">\n",
       "      <th></th>\n",
       "      <th>AVG(ms_played)</th>\n",
       "    </tr>\n",
       "  </thead>\n",
       "  <tbody>\n",
       "    <tr>\n",
       "      <th>0</th>\n",
       "      <td>98223.767345</td>\n",
       "    </tr>\n",
       "  </tbody>\n",
       "</table>\n",
       "</div>"
      ]
     },
     "execution_count": 21,
     "metadata": {},
     "output_type": "execute_result"
    }
   ],
   "execution_count": 21
  },
  {
   "cell_type": "markdown",
   "id": "697a553a",
   "metadata": {},
   "source": [
    "Although this query gives us a quick answer, as a stand alone data frame, it is not that useful. We can add it to our longer query above. <br><br>\n",
    "**Aliases (AS)**\n",
    "<br>\n",
    "You can abbreviate your code to make it more visually appealing...or more confusing? :) <br>\n",
    "<br>\n",
    "Examples:<br>\n",
    "FROM table_name t<br>\n",
    "FROM table_name AS t<br>\n",
    "<br>\n",
    "**Objective:** Use abbreviations or aliases for all tables for the same code you wrote above (If you have not done so already). Be sure to obtain the same result set."
   ]
  },
  {
   "cell_type": "code",
   "id": "366c4280",
   "metadata": {
    "ExecuteTime": {
     "end_time": "2025-04-12T17:02:59.198988Z",
     "start_time": "2025-04-12T17:02:57.867585Z"
    }
   },
   "source": [
    "query = \"\"\"\n",
    "SELECT\n",
    "    sh.master_metadata_track_name AS song_name,\n",
    "    AVG(sh.ms_played) AS average_ms_played\n",
    "FROM spotify_history sh\n",
    "GROUP BY sh.master_metadata_track_name\n",
    "\"\"\"\n",
    "avg_ms_played_v2 = pd.read_sql(query, engine)\n",
    "avg_ms_played_v2"
   ],
   "outputs": [
    {
     "data": {
      "text/plain": [
       "                              song_name  average_ms_played\n",
       "0                               !!!!!!!        6773.565217\n",
       "1                          \"Impossible\"        1088.000000\n",
       "2             \"In My Own Little Corner\"         853.000000\n",
       "3                 \"Stepsister's Lament\"       13861.000000\n",
       "4      \"The Take Over, The Breaks Over\"       20912.000000\n",
       "...                                 ...                ...\n",
       "21746                     ¡Hola Casita!        6878.250000\n",
       "21747                         Âme Douce       41633.000000\n",
       "21748                   Échame La Culpa       72100.235294\n",
       "21749                         Ödla Resa      138571.000000\n",
       "21750              ‘tis the damn season      100696.757576\n",
       "\n",
       "[21751 rows x 2 columns]"
      ],
      "text/html": [
       "<div>\n",
       "<style scoped>\n",
       "    .dataframe tbody tr th:only-of-type {\n",
       "        vertical-align: middle;\n",
       "    }\n",
       "\n",
       "    .dataframe tbody tr th {\n",
       "        vertical-align: top;\n",
       "    }\n",
       "\n",
       "    .dataframe thead th {\n",
       "        text-align: right;\n",
       "    }\n",
       "</style>\n",
       "<table border=\"1\" class=\"dataframe\">\n",
       "  <thead>\n",
       "    <tr style=\"text-align: right;\">\n",
       "      <th></th>\n",
       "      <th>song_name</th>\n",
       "      <th>average_ms_played</th>\n",
       "    </tr>\n",
       "  </thead>\n",
       "  <tbody>\n",
       "    <tr>\n",
       "      <th>0</th>\n",
       "      <td>!!!!!!!</td>\n",
       "      <td>6773.565217</td>\n",
       "    </tr>\n",
       "    <tr>\n",
       "      <th>1</th>\n",
       "      <td>\"Impossible\"</td>\n",
       "      <td>1088.000000</td>\n",
       "    </tr>\n",
       "    <tr>\n",
       "      <th>2</th>\n",
       "      <td>\"In My Own Little Corner\"</td>\n",
       "      <td>853.000000</td>\n",
       "    </tr>\n",
       "    <tr>\n",
       "      <th>3</th>\n",
       "      <td>\"Stepsister's Lament\"</td>\n",
       "      <td>13861.000000</td>\n",
       "    </tr>\n",
       "    <tr>\n",
       "      <th>4</th>\n",
       "      <td>\"The Take Over, The Breaks Over\"</td>\n",
       "      <td>20912.000000</td>\n",
       "    </tr>\n",
       "    <tr>\n",
       "      <th>...</th>\n",
       "      <td>...</td>\n",
       "      <td>...</td>\n",
       "    </tr>\n",
       "    <tr>\n",
       "      <th>21746</th>\n",
       "      <td>¡Hola Casita!</td>\n",
       "      <td>6878.250000</td>\n",
       "    </tr>\n",
       "    <tr>\n",
       "      <th>21747</th>\n",
       "      <td>Âme Douce</td>\n",
       "      <td>41633.000000</td>\n",
       "    </tr>\n",
       "    <tr>\n",
       "      <th>21748</th>\n",
       "      <td>Échame La Culpa</td>\n",
       "      <td>72100.235294</td>\n",
       "    </tr>\n",
       "    <tr>\n",
       "      <th>21749</th>\n",
       "      <td>Ödla Resa</td>\n",
       "      <td>138571.000000</td>\n",
       "    </tr>\n",
       "    <tr>\n",
       "      <th>21750</th>\n",
       "      <td>‘tis the damn season</td>\n",
       "      <td>100696.757576</td>\n",
       "    </tr>\n",
       "  </tbody>\n",
       "</table>\n",
       "<p>21751 rows × 2 columns</p>\n",
       "</div>"
      ]
     },
     "execution_count": 23,
     "metadata": {},
     "output_type": "execute_result"
    }
   ],
   "execution_count": 23
  },
  {
   "cell_type": "markdown",
   "id": "5c91b2e7",
   "metadata": {},
   "source": [
    "Now we are starting to create multiple new fields that we can save any time as a .csv if needed to access later. Save your result set as a .csv:"
   ]
  },
  {
   "cell_type": "code",
   "id": "863fb822",
   "metadata": {
    "ExecuteTime": {
     "end_time": "2025-04-12T17:24:23.580825Z",
     "start_time": "2025-04-12T17:24:23.513576Z"
    }
   },
   "source": [
    "# Save result set as .csv file:\n",
    "avg_ms_played_v2.to_csv('average-ms-played-by-song.csv', index=False)"
   ],
   "outputs": [],
   "execution_count": 24
  },
  {
   "cell_type": "markdown",
   "id": "4f772ff9",
   "metadata": {},
   "source": [
    "**DELETE** ~Caution!~\n",
    "<br>\n",
    "You can delete all records from specific tables or set a criteria to delete certain values or NULL values without deleting the table itself. It is okay if you do not execute the code if you have completed all data cleaning steps earlier in the semester.<br>\n",
    "<br>\n",
    "If you created autoincrement IDs for any of your data, it is recommended to use TRUNCATE TABLE instead, used the same way. The ID's will automatically reset if needed.<br>\n",
    "<br>\n",
    "**Objective:** Delete the record that I inserted above"
   ]
  },
  {
   "cell_type": "code",
   "id": "5c796996",
   "metadata": {
    "ExecuteTime": {
     "end_time": "2025-04-12T17:29:19.820728Z",
     "start_time": "2025-04-12T17:29:19.058423Z"
    }
   },
   "source": [
    "# Delete the record that I inserted above\n",
    "# Open a session and delete the previous added record\n",
    "with Session(engine) as session:\n",
    "    query = \"\"\"\n",
    "    DELETE FROM spotify_history\n",
    "    WHERE master_metadata_track_name = 'everything, everywhere'\n",
    "    AND ts = '2025-04-12 11:18:50'\"\"\"\n",
    "    session.execute(text(query))\n",
    "    session.commit()"
   ],
   "outputs": [],
   "execution_count": 25
  },
  {
   "metadata": {},
   "cell_type": "markdown",
   "source": "Try to search for the record again and expect to see no results:",
   "id": "66617446c909fa81"
  },
  {
   "metadata": {
    "ExecuteTime": {
     "end_time": "2025-04-12T17:30:59.653842Z",
     "start_time": "2025-04-12T17:30:58.618473Z"
    }
   },
   "cell_type": "code",
   "source": [
    "query = \"\"\"\n",
    "SELECT * FROM spotify_history\n",
    "WHERE master_metadata_track_name = 'everything, everywhere'\n",
    "AND ts = '2025-04-12 11:18:50'\n",
    "\"\"\"\n",
    "deleted_track_check = pd.read_sql(query, engine)\n",
    "\n",
    "deleted_track_check"
   ],
   "id": "e2b7253dbd800229",
   "outputs": [
    {
     "data": {
      "text/plain": [
       "Empty DataFrame\n",
       "Columns: [ts, platform, ms_played, conn_country, ip_addr, master_metadata_track_name, master_metadata_album_artist_name, master_metadata_album_album_name, spotify_track_uri, episode_name, episode_show_name, spotify_episode_uri, audiobook_title, audiobook_uri, audiobook_chapter_uri, audiobook_chapter_title, reason_start, reason_end, shuffle, skipped, offline, offline_timestamp, incognito_mode, year]\n",
       "Index: []\n",
       "\n",
       "[0 rows x 24 columns]"
      ],
      "text/html": [
       "<div>\n",
       "<style scoped>\n",
       "    .dataframe tbody tr th:only-of-type {\n",
       "        vertical-align: middle;\n",
       "    }\n",
       "\n",
       "    .dataframe tbody tr th {\n",
       "        vertical-align: top;\n",
       "    }\n",
       "\n",
       "    .dataframe thead th {\n",
       "        text-align: right;\n",
       "    }\n",
       "</style>\n",
       "<table border=\"1\" class=\"dataframe\">\n",
       "  <thead>\n",
       "    <tr style=\"text-align: right;\">\n",
       "      <th></th>\n",
       "      <th>ts</th>\n",
       "      <th>platform</th>\n",
       "      <th>ms_played</th>\n",
       "      <th>conn_country</th>\n",
       "      <th>ip_addr</th>\n",
       "      <th>master_metadata_track_name</th>\n",
       "      <th>master_metadata_album_artist_name</th>\n",
       "      <th>master_metadata_album_album_name</th>\n",
       "      <th>spotify_track_uri</th>\n",
       "      <th>episode_name</th>\n",
       "      <th>...</th>\n",
       "      <th>audiobook_chapter_uri</th>\n",
       "      <th>audiobook_chapter_title</th>\n",
       "      <th>reason_start</th>\n",
       "      <th>reason_end</th>\n",
       "      <th>shuffle</th>\n",
       "      <th>skipped</th>\n",
       "      <th>offline</th>\n",
       "      <th>offline_timestamp</th>\n",
       "      <th>incognito_mode</th>\n",
       "      <th>year</th>\n",
       "    </tr>\n",
       "  </thead>\n",
       "  <tbody>\n",
       "  </tbody>\n",
       "</table>\n",
       "<p>0 rows × 24 columns</p>\n",
       "</div>"
      ]
     },
     "execution_count": 27,
     "metadata": {},
     "output_type": "execute_result"
    }
   ],
   "execution_count": 27
  },
  {
   "cell_type": "markdown",
   "id": "e7f7cf8e",
   "metadata": {},
   "source": [
    "We can also delete entire tables in MySQL workbench by manually right clicking on the table and DROP TABLE. <br>\n",
    "MySQL Workbench will prompt you to review the SQL syntax before dropping the table.<br>\n",
    "The syntax is simple:<br>\n",
    "DROP TABLE table_name<br>"
   ]
  },
  {
   "cell_type": "code",
   "id": "58cbf160",
   "metadata": {
    "ExecuteTime": {
     "end_time": "2025-04-12T17:31:16.324618Z",
     "start_time": "2025-04-12T17:31:16.315662Z"
    }
   },
   "source": [
    "#Close the database connection :)\n",
    "session.close()\n",
    "engine.dispose()"
   ],
   "outputs": [],
   "execution_count": 28
  },
  {
   "cell_type": "markdown",
   "id": "0ff1d169",
   "metadata": {},
   "source": [
    "**STOP**<br>\n",
    "Before you submit, did you comment all your code?<br>\n",
    "Did you answer all of the questions in the markdown cells?<br>\n",
    "Did you rename the file and write your name at the top of the .pynb?<br>\n",
    "Attach the .csv file you created with your Blackboard submission. It is preferred that you submit your Github link instead of the file itself."
   ]
  }
 ],
 "metadata": {
  "kernelspec": {
   "display_name": "Python 3 (ipykernel)",
   "language": "python",
   "name": "python3"
  },
  "language_info": {
   "codemirror_mode": {
    "name": "ipython",
    "version": 3
   },
   "file_extension": ".py",
   "mimetype": "text/x-python",
   "name": "python",
   "nbconvert_exporter": "python",
   "pygments_lexer": "ipython3",
   "version": "3.9.21"
  }
 },
 "nbformat": 4,
 "nbformat_minor": 5
}
