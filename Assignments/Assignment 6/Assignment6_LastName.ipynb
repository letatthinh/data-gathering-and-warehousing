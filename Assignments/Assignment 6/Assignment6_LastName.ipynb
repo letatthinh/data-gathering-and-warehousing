{
 "cells": [
  {
   "cell_type": "markdown",
   "id": "ca9da05e",
   "metadata": {},
   "source": [
    "# Assignment #6 - Data Gathering and Warehousing - DSSA-5102\n",
    "\n",
    "Instructor: Melissa Laurino</br>\n",
    "Spring 2025</br>\n",
    "\n",
    "Name: Thinh Le</br>\n",
    "Date: March 11, 2025<br>\n",
    "\n",
    "**At this time in the semester:** <br>\n",
    "- We have explored a dataset. <br>\n",
    "- We have cleaned our dataset. <br>\n",
    "- We created a Github account with a repository for this class and included a metadata read me file about our data. <br>\n",
    "- We introduced general SQL syntax, queries, and applications in Python.<br>\n",
    "\n",
    "Now we will start the process of uploading our dataset into a database. There are many different ways to upload your .csv data into a database (.db file). Databases can be created in many open source applications, MySQL workbench, and even some websites can load your .csv data into a database...for a small fee. Instead of using an application, we are going to first create our database for our dataset from scratch in Python. On a much larger scale, data may be automatically uploaded to a database once it is aquired.<br>\n",
    "\n",
    "## Assignment #6 Objectives\n",
    "\n",
    "We will use the Python packages SQL Alchemy and SQLite to create three separate databases for practice. \n",
    "- Create one database on our MySQL server (10)\n",
    "  - Create and populate our first table with appropriate data types\n",
    "  - View the MySQL workbench schema to see the table you created\n",
    "- Create one test database locally that we can still use with MySQL (3)\n",
    "- Create one test database locally as a .db file. (2) <br>\n",
    "\n",
    "Follow the instructions below to complete the assignment. For submission, please include your .ipynb file with output cells (Or a link to Github), and the screen shot of your first database table in MySQL Workbench. Answer any questions in markdown cell boxes. Be sure to comment all code in your own words.\n"
   ]
  },
  {
   "cell_type": "markdown",
   "id": "e5de879c",
   "metadata": {},
   "source": "## Creating our database from scratch to integrate with MySQL Workbench in Python<br>"
  },
  {
   "cell_type": "markdown",
   "id": "c07273cc",
   "metadata": {},
   "source": [
    "**BEFORE YOU BEGIN!**<br>\n",
    "Is your MySQL Server running on your local machine?<br>\n",
    "**Start the server** if it is not running already."
   ]
  },
  {
   "cell_type": "markdown",
   "id": "b990407d-ef44-475f-8694-f4dfcb1d078f",
   "metadata": {},
   "source": [
    "We need the MySQL connector to work with Python since we are using SQLAlchemy with MySQL Workbench. Let's install the MySQL driver. Run the following code in a terminal window to install the MySQL connector:\n",
    "\n",
    "```$ pip install mysql-connector-python mysql-connector```"
   ]
  },
  {
   "cell_type": "markdown",
   "id": "eb9e110f",
   "metadata": {},
   "source": [
    "### Creating a database from scratch in Python using SQL Alchemy<br>\n",
    "Additional sources: <br>\n",
    "-- https://medium.com/@sandyjtech/creating-a-database-using-python-and-sqlalchemy-422b7ba39d7e <br>\n",
    "-- https://www.youtube.com/watch?v=xr7vDSFXjW0 <br>\n",
    "-- https://www.geeksforgeeks.org/how-to-design-a-database-for-spotify/ (My specific inspiration for understanding a Spotify schema)"
   ]
  },
  {
   "cell_type": "code",
   "id": "15252638",
   "metadata": {
    "ExecuteTime": {
     "end_time": "2025-03-12T00:58:07.381559Z",
     "start_time": "2025-03-12T00:58:07.378133Z"
    }
   },
   "source": [
    "# Load necessary packages:\n",
    "from sqlalchemy import create_engine, Column, String, Integer, Boolean, BigInteger, Float, text # Database navigation\n",
    "from sqlalchemy.ext.declarative import declarative_base\n",
    "from sqlalchemy.orm import sessionmaker\n",
    "import mysql.connector\n",
    "import sqlite3 # A second option for working with databases\n",
    "import pandas as pd # Python data manilpulation"
   ],
   "outputs": [],
   "execution_count": 12
  },
  {
   "cell_type": "markdown",
   "id": "e9332fb3-1f3c-4daa-b790-e7d3541086d6",
   "metadata": {},
   "source": [
    "Open MySQL Workbench.\n",
    "- Click on Local Instance (This is your port number - if needed)"
   ]
  },
  {
   "cell_type": "code",
   "id": "9a730b58-fccb-4aaf-8ed3-1208837139d4",
   "metadata": {
    "ExecuteTime": {
     "end_time": "2025-03-12T00:58:07.413234Z",
     "start_time": "2025-03-12T00:58:07.390566Z"
    }
   },
   "source": [
    "# Connect to the MySQL server \n",
    "# Define our variables. We set these during our first class in our technology set up. \n",
    "# If you are unsure of these variables, do not guess. \n",
    "# Visit MySQL Workbench for the localport number, host and user.\n",
    "host = '127.0.0.1'\n",
    "port = 3306\n",
    "user = 'root'\n",
    "password = '123456'\n",
    "\n",
    "mysql_connection = mysql.connector.connect(\n",
    "    # Server address\n",
    "    host=host,\n",
    "    # Port number\n",
    "    port=port,\n",
    "    # Username\n",
    "    user=user,\n",
    "    # Password\n",
    "    password=password)\n",
    "\n",
    "# Create a cursor - an object that can execute operations such as SQL statement\n",
    "cursor = mysql_connection.cursor()\n",
    "\n",
    "# CREATE DATABASE (SQL command) if it does not already exist\n",
    "# Ref: https://dev.mysql.com/doc/refman/8.4/en/create-database.html\n",
    "database_name = \"thinh_db\"\n",
    "cursor.execute(f\"CREATE DATABASE IF NOT EXISTS {database_name}\")\n",
    "# MySQL_SpotifyDatabase will be the name when the database is created.\n",
    "\n",
    "print(\"Database created successfully in MySQL Workbench! Go check it out.\")"
   ],
   "outputs": [
    {
     "name": "stdout",
     "output_type": "stream",
     "text": [
      "Database created successfully in MySQL Workbench! Go check it out.\n"
     ]
    }
   ],
   "execution_count": 13
  },
  {
   "cell_type": "markdown",
   "id": "b0786f49",
   "metadata": {},
   "source": [
    "**STOP**\n",
    "\n",
    "Confirm your database was created before continuing. [✅]<br>\n",
    "Open MySQL Workbench.<br>\n",
    "Under MySQL Connections, click Local Instance<br>\n",
    "Click the Schemas tab\n",
    "\n",
    "**You should now see a new (empty) database that you created**<br>\n",
    "If it does not show up right away, hit refresh (The circular arrows)"
   ]
  },
  {
   "cell_type": "code",
   "id": "d6b6df60",
   "metadata": {
    "ExecuteTime": {
     "end_time": "2025-03-12T00:58:07.541927Z",
     "start_time": "2025-03-12T00:58:07.422124Z"
    }
   },
   "source": [
    "# Time to connect to the database using SQL Alchemy:\n",
    "# Ref:\n",
    "#   https://dev.mysql.com/doc/refman/8.4/en/connecting-using-uri-or-key-value-pairs.html#connecting-using-uri\n",
    "#   [scheme://][user[:[password]]@]host[:port][/schema][?attribute1=value1&attribute2=value2...]\n",
    "#   https://docs.sqlalchemy.org/en/20/dialects/mysql.html#module-sqlalchemy.dialects.mysql.mysqlconnector\n",
    "database_url = f\"mysql+mysqlconnector://{user}:{password}@{host}:{port}/{database_name}\"\n",
    "\n",
    "# Creates a connection to the MySQL database\n",
    "engine = create_engine(database_url)\n",
    "\n",
    "print(\"Connected to MySQL database successfully!\")"
   ],
   "outputs": [
    {
     "name": "stdout",
     "output_type": "stream",
     "text": [
      "Connected to MySQL database successfully!\n"
     ]
    }
   ],
   "execution_count": 14
  },
  {
   "cell_type": "code",
   "id": "fa462c01",
   "metadata": {
    "ExecuteTime": {
     "end_time": "2025-03-12T00:58:07.616372Z",
     "start_time": "2025-03-12T00:58:07.557396Z"
    }
   },
   "source": [
    "# Read in the CLEAN .csv file (Using pandas) we will use to populate our database. This is the same dataset that you cleaned for Assignment #2!\n",
    "df = pd.read_csv('laptop_prices.csv')"
   ],
   "outputs": [],
   "execution_count": 15
  },
  {
   "cell_type": "code",
   "id": "6e5c2bfd",
   "metadata": {
    "ExecuteTime": {
     "end_time": "2025-03-12T00:58:07.657431Z",
     "start_time": "2025-03-12T00:58:07.638203Z"
    }
   },
   "source": [
    "# Preview the dataframe by looking at the first five rows.\n",
    "df.head()"
   ],
   "outputs": [
    {
     "data": {
      "text/plain": [
       "    brand    processor  ram_gb    storage                 gpu  \\\n",
       "0   Apple  AMD Ryzen 3    64.0  512GB SSD     Nvidia GTX 1650   \n",
       "1   Razer  AMD Ryzen 7     4.0    1TB SSD     Nvidia RTX 3080   \n",
       "2    Asus     Intel i5    32.0    2TB SSD     Nvidia RTX 3060   \n",
       "3  Lenovo     Intel i5     4.0  256GB SSD     Nvidia RTX 3080   \n",
       "4   Razer     Intel i3     4.0  256GB SSD  AMD Radeon RX 6600   \n",
       "\n",
       "   screen_size_inch resolution  battery_life_hours  weight_kg  \\\n",
       "0              17.3  2560x1440                 8.9       1.42   \n",
       "1              14.0   1366x768                 9.4       2.57   \n",
       "2              13.3  3840x2160                 8.5       1.74   \n",
       "3              13.3   1366x768                10.5       3.10   \n",
       "4              16.0  3840x2160                 5.7       3.38   \n",
       "\n",
       "  operating_system    price  \n",
       "0          FreeDOS  3997.07  \n",
       "1            Linux  1355.78  \n",
       "2          FreeDOS  2673.07  \n",
       "3          Windows   751.17  \n",
       "4            Linux  2059.83  "
      ],
      "text/html": [
       "<div>\n",
       "<style scoped>\n",
       "    .dataframe tbody tr th:only-of-type {\n",
       "        vertical-align: middle;\n",
       "    }\n",
       "\n",
       "    .dataframe tbody tr th {\n",
       "        vertical-align: top;\n",
       "    }\n",
       "\n",
       "    .dataframe thead th {\n",
       "        text-align: right;\n",
       "    }\n",
       "</style>\n",
       "<table border=\"1\" class=\"dataframe\">\n",
       "  <thead>\n",
       "    <tr style=\"text-align: right;\">\n",
       "      <th></th>\n",
       "      <th>brand</th>\n",
       "      <th>processor</th>\n",
       "      <th>ram_gb</th>\n",
       "      <th>storage</th>\n",
       "      <th>gpu</th>\n",
       "      <th>screen_size_inch</th>\n",
       "      <th>resolution</th>\n",
       "      <th>battery_life_hours</th>\n",
       "      <th>weight_kg</th>\n",
       "      <th>operating_system</th>\n",
       "      <th>price</th>\n",
       "    </tr>\n",
       "  </thead>\n",
       "  <tbody>\n",
       "    <tr>\n",
       "      <th>0</th>\n",
       "      <td>Apple</td>\n",
       "      <td>AMD Ryzen 3</td>\n",
       "      <td>64.0</td>\n",
       "      <td>512GB SSD</td>\n",
       "      <td>Nvidia GTX 1650</td>\n",
       "      <td>17.3</td>\n",
       "      <td>2560x1440</td>\n",
       "      <td>8.9</td>\n",
       "      <td>1.42</td>\n",
       "      <td>FreeDOS</td>\n",
       "      <td>3997.07</td>\n",
       "    </tr>\n",
       "    <tr>\n",
       "      <th>1</th>\n",
       "      <td>Razer</td>\n",
       "      <td>AMD Ryzen 7</td>\n",
       "      <td>4.0</td>\n",
       "      <td>1TB SSD</td>\n",
       "      <td>Nvidia RTX 3080</td>\n",
       "      <td>14.0</td>\n",
       "      <td>1366x768</td>\n",
       "      <td>9.4</td>\n",
       "      <td>2.57</td>\n",
       "      <td>Linux</td>\n",
       "      <td>1355.78</td>\n",
       "    </tr>\n",
       "    <tr>\n",
       "      <th>2</th>\n",
       "      <td>Asus</td>\n",
       "      <td>Intel i5</td>\n",
       "      <td>32.0</td>\n",
       "      <td>2TB SSD</td>\n",
       "      <td>Nvidia RTX 3060</td>\n",
       "      <td>13.3</td>\n",
       "      <td>3840x2160</td>\n",
       "      <td>8.5</td>\n",
       "      <td>1.74</td>\n",
       "      <td>FreeDOS</td>\n",
       "      <td>2673.07</td>\n",
       "    </tr>\n",
       "    <tr>\n",
       "      <th>3</th>\n",
       "      <td>Lenovo</td>\n",
       "      <td>Intel i5</td>\n",
       "      <td>4.0</td>\n",
       "      <td>256GB SSD</td>\n",
       "      <td>Nvidia RTX 3080</td>\n",
       "      <td>13.3</td>\n",
       "      <td>1366x768</td>\n",
       "      <td>10.5</td>\n",
       "      <td>3.10</td>\n",
       "      <td>Windows</td>\n",
       "      <td>751.17</td>\n",
       "    </tr>\n",
       "    <tr>\n",
       "      <th>4</th>\n",
       "      <td>Razer</td>\n",
       "      <td>Intel i3</td>\n",
       "      <td>4.0</td>\n",
       "      <td>256GB SSD</td>\n",
       "      <td>AMD Radeon RX 6600</td>\n",
       "      <td>16.0</td>\n",
       "      <td>3840x2160</td>\n",
       "      <td>5.7</td>\n",
       "      <td>3.38</td>\n",
       "      <td>Linux</td>\n",
       "      <td>2059.83</td>\n",
       "    </tr>\n",
       "  </tbody>\n",
       "</table>\n",
       "</div>"
      ]
     },
     "execution_count": 16,
     "metadata": {},
     "output_type": "execute_result"
    }
   ],
   "execution_count": 16
  },
  {
   "cell_type": "code",
   "id": "3b6707e8",
   "metadata": {
    "ExecuteTime": {
     "end_time": "2025-03-12T00:58:07.709894Z",
     "start_time": "2025-03-12T00:58:07.677718Z"
    }
   },
   "source": [
    "# What are all of the column names and data types for our dataset?\n",
    "df.info()\n",
    "# It is important to know the column names from the .csv because these are the field names we will want to use for our first table.\n",
    "# Remember, the field names represent the column names of the csv/table."
   ],
   "outputs": [
    {
     "name": "stdout",
     "output_type": "stream",
     "text": [
      "<class 'pandas.core.frame.DataFrame'>\n",
      "RangeIndex: 11768 entries, 0 to 11767\n",
      "Data columns (total 11 columns):\n",
      " #   Column              Non-Null Count  Dtype  \n",
      "---  ------              --------------  -----  \n",
      " 0   brand               11768 non-null  object \n",
      " 1   processor           11768 non-null  object \n",
      " 2   ram_gb              11768 non-null  float64\n",
      " 3   storage             11768 non-null  object \n",
      " 4   gpu                 11768 non-null  object \n",
      " 5   screen_size_inch    11768 non-null  float64\n",
      " 6   resolution          11768 non-null  object \n",
      " 7   battery_life_hours  11768 non-null  float64\n",
      " 8   weight_kg           11768 non-null  float64\n",
      " 9   operating_system    11768 non-null  object \n",
      " 10  price               11768 non-null  float64\n",
      "dtypes: float64(5), object(6)\n",
      "memory usage: 1011.4+ KB\n"
     ]
    }
   ],
   "execution_count": 17
  },
  {
   "cell_type": "markdown",
   "id": "b2ea4fd9-f59e-43f8-9da7-017ca985ec96",
   "metadata": {},
   "source": [
    "If you are an experienced Python user, you can create a base Python class for all of our tables before populating them and use built in SQLAlchemy features. <br>\n",
    "To practice SQL, we will create our database from scratch using SQL commands in Python instead."
   ]
  },
  {
   "cell_type": "markdown",
   "id": "8b8c28f7",
   "metadata": {},
   "source": [
    "We can use a new SQL statement CREATE TABLE to create our first table in our new database by writing a query.<br>\n",
    "Everyone's data is different! Choose the SQL data types that fit YOUR data needs!<br>\n",
    "SQL Data Types: https://www.w3schools.com/sql/sql_datatypes.asp"
   ]
  },
  {
   "cell_type": "code",
   "id": "ec1b1c96-ba68-4b8d-ba77-3045a515a18e",
   "metadata": {
    "ExecuteTime": {
     "end_time": "2025-03-12T00:58:07.753346Z",
     "start_time": "2025-03-12T00:58:07.749224Z"
    }
   },
   "source": [
    "# Create our first table in the database file using SQL statements:\n",
    "# We want our table column names to match what is in the .csv file\n",
    "# Ref:\n",
    "#   https://dev.mysql.com/doc/refman/8.4/en/create-table.html\n",
    "#   https://dev.mysql.com/doc/refman/8.4/en/numeric-types.html\n",
    "table_name = \"laptop_prices\"\n",
    "first_table_query = f\"\"\"CREATE TABLE IF NOT EXISTS {table_name} (\n",
    "    id MEDIUMINT NOT NULL AUTO_INCREMENT PRIMARY KEY,\n",
    "    brand VARCHAR(20),\n",
    "    processor VARCHAR(20),\n",
    "    ram_gb TINYINT,\n",
    "    storage VARCHAR(20),\n",
    "    gpu VARCHAR(20),\n",
    "    screen_size_inch FLOAT,\n",
    "    resolution VARCHAR(20),\n",
    "    battery_life_hours FLOAT,\n",
    "    weight_kg FLOAT,\n",
    "    operating_system VARCHAR(20),\n",
    "    price FLOAT\n",
    ")\"\"\"\n",
    "# Note that the primary key for this table is a column/field \"id\"\n",
    "# This is not a field that existed previously. AUTO_INCREMENT automatically generates a unique value for each new row added to the table. \n",
    "# Each new value is one greater than the previous value. We cannot make the Date column/field our primary key, because it is not unique."
   ],
   "outputs": [],
   "execution_count": 18
  },
  {
   "cell_type": "code",
   "id": "02f4c8fb",
   "metadata": {
    "ExecuteTime": {
     "end_time": "2025-03-12T00:58:07.915335Z",
     "start_time": "2025-03-12T00:58:07.874203Z"
    }
   },
   "source": [
    "# Execute the query:\n",
    "with engine.connect() as connection:\n",
    "    connection.execute(text(first_table_query))\n",
    "\n",
    "print(\"First table created successfully!\")"
   ],
   "outputs": [
    {
     "name": "stdout",
     "output_type": "stream",
     "text": [
      "First table created successfully!\n"
     ]
    }
   ],
   "execution_count": 19
  },
  {
   "cell_type": "markdown",
   "id": "34989822",
   "metadata": {},
   "source": [
    "Define your SQL data types for your first table: <br>\n",
    "\n",
    "```\n",
    "id MEDIUMINT NOT NULL AUTO_INCREMENT PRIMARY KEY,\n",
    "brand VARCHAR(20),\n",
    "processor VARCHAR(20),\n",
    "ram_gb TINYINT,\n",
    "storage VARCHAR(20),\n",
    "gpu VARCHAR(20),\n",
    "screen_size_inch FLOAT,\n",
    "resolution VARCHAR(20),\n",
    "battery_life_hours FLOAT,\n",
    "weight_kg FLOAT,\n",
    "operating_system VARCHAR(20),\n",
    "price FLOAT\n",
    "```\n"
   ]
  },
  {
   "cell_type": "markdown",
   "id": "ab076bf7",
   "metadata": {},
   "source": [
    "Why did you choose these values to make up your first database table? What did you choose for your primary key and why?\n",
    "\n",
    "1. I need an ID column since every row in the dataset is unique and this column will be used as primary key, with auto-increment feature. I chose `MEDIUMINT` because my dataset has nearly 11k rows, while `MEDIUMINT` can contain up to 65k rows.\n",
    "2. All the text columns will be in `VARCHAR` types, with 20 character allowed. I have checked that no column has more than 20 characters.\n",
    "3. The `ram_gb` has small integer values, so I assign it with `TINYINT` type.\n",
    "4. All columns with decimal values are assigned with `FLOAT` types."
   ]
  },
  {
   "cell_type": "code",
   "id": "00f573bc",
   "metadata": {
    "ExecuteTime": {
     "end_time": "2025-03-12T00:58:13.633976Z",
     "start_time": "2025-03-12T00:58:07.980530Z"
    }
   },
   "source": [
    "# There are multiple ways to populate the fields of the table. \n",
    "# Another option is to add a subset of the data into data table, and then populate the database table.\n",
    "# Please feel free to change or alter the code below.\n",
    "# This example uses the MySQL connector:\n",
    "\n",
    "with engine.connect() as connection:\n",
    "    # Iterate through DataFrame rows\n",
    "    for index, row in df.iterrows():\n",
    "        # Construct and execute INSERT statement\n",
    "        query = f\"\"\"INSERT INTO {table_name} (\n",
    "                        brand, processor, ram_gb,\n",
    "                        storage, gpu, screen_size_inch,\n",
    "                        resolution, battery_life_hours, weight_kg,\n",
    "                        operating_system, price\n",
    "                    ) VALUES (\n",
    "                        '{row['brand']}',\n",
    "                        '{row['processor']}',\n",
    "                        '{row['ram_gb']}',\n",
    "                        '{row['storage']}',\n",
    "                        '{row['gpu']}',\n",
    "                        '{row['screen_size_inch']}',\n",
    "                        '{row['resolution']}',\n",
    "                        '{row['battery_life_hours']}',\n",
    "                        '{row['weight_kg']}',\n",
    "                        '{row['operating_system']}',\n",
    "                        '{row['price']}'\n",
    "                    )\"\"\"\n",
    "        connection.execute(text(query))\n",
    "\n",
    "    connection.commit()"
   ],
   "outputs": [],
   "execution_count": 20
  },
  {
   "metadata": {},
   "cell_type": "markdown",
   "source": "![Alt text](data-insert-result.png)",
   "id": "cf96de2d54fc676e"
  },
  {
   "cell_type": "markdown",
   "id": "1e7196cf",
   "metadata": {},
   "source": [
    "**STOP**<br><br>\n",
    "In MySQL Workbench, you should see your new table that you have created and populated.<br>\n",
    "You can now run a SQL query directly in MySQL Workbench!<br>\n",
    "You can also run a query below to test it:"
   ]
  },
  {
   "cell_type": "code",
   "id": "814246c4",
   "metadata": {
    "ExecuteTime": {
     "end_time": "2025-03-12T00:58:13.675019Z",
     "start_time": "2025-03-12T00:58:13.643054Z"
    }
   },
   "source": [
    "# Now that we have populated our table, let's try out a query.\n",
    "\n",
    "with engine.connect() as connection:  # Establish a connection\n",
    "    practice_query = text(f\"\"\"SELECT * FROM {table_name}\n",
    "                           WHERE brand = 'Apple'\n",
    "                           \"\"\") # Define the query - text() ensures that the query string is read as a SQL expression\n",
    "    practice_query = pd.read_sql(practice_query, connection) #Use pandas to read the sql query with the connection to the database\n",
    "    \n",
    "# Print the results\n",
    "practice_query"
   ],
   "outputs": [
    {
     "data": {
      "text/plain": [
       "         id  brand    processor  ram_gb    storage                 gpu  \\\n",
       "0         1  Apple  AMD Ryzen 3      64  512GB SSD     Nvidia GTX 1650   \n",
       "1         9  Apple     Intel i5      64  256GB SSD     Nvidia RTX 2060   \n",
       "2        25  Apple     Intel i9      64  256GB SSD          Integrated   \n",
       "3        44  Apple     Intel i9      32    2TB SSD     Nvidia GTX 1650   \n",
       "4        65  Apple     Intel i5      64  512GB SSD     Nvidia RTX 3080   \n",
       "...     ...    ...          ...     ...        ...                 ...   \n",
       "1257  11721  Apple     Intel i5      64  256GB SSD     Nvidia RTX 3060   \n",
       "1258  11722  Apple  AMD Ryzen 7      64    1TB SSD          Integrated   \n",
       "1259  11729  Apple     Intel i7      16    2TB SSD  AMD Radeon RX 6800   \n",
       "1260  11752  Apple     Intel i7       4    2TB SSD  AMD Radeon RX 6600   \n",
       "1261  11763  Apple  AMD Ryzen 9      16    1TB HDD  AMD Radeon RX 6600   \n",
       "\n",
       "      screen_size_inch resolution  battery_life_hours  weight_kg  \\\n",
       "0                 17.3  2560x1440                 8.9       1.42   \n",
       "1                 15.6  3840x2160                11.5       1.48   \n",
       "2                 17.3  1920x1080                 6.9       2.55   \n",
       "3                 17.3  2560x1440                 5.7       1.83   \n",
       "4                 14.0  3840x2160                10.9       2.25   \n",
       "...                ...        ...                 ...        ...   \n",
       "1257              16.0  3840x2160                 9.2       2.40   \n",
       "1258              15.6  1920x1080                 6.6       1.82   \n",
       "1259              15.6  1920x1080                11.9       3.19   \n",
       "1260              16.0   1366x768                 6.0       3.48   \n",
       "1261              15.6  1920x1080                10.9       1.55   \n",
       "\n",
       "     operating_system    price  \n",
       "0             FreeDOS  3997.07  \n",
       "1               Linux  6409.03  \n",
       "2             Windows  4428.68  \n",
       "3             Windows  5373.59  \n",
       "4             Windows  5768.75  \n",
       "...               ...      ...  \n",
       "1257            macOS  6402.40  \n",
       "1258          Windows  3216.15  \n",
       "1259            macOS  2354.89  \n",
       "1260            Linux  1504.18  \n",
       "1261          FreeDOS  2704.23  \n",
       "\n",
       "[1262 rows x 12 columns]"
      ],
      "text/html": [
       "<div>\n",
       "<style scoped>\n",
       "    .dataframe tbody tr th:only-of-type {\n",
       "        vertical-align: middle;\n",
       "    }\n",
       "\n",
       "    .dataframe tbody tr th {\n",
       "        vertical-align: top;\n",
       "    }\n",
       "\n",
       "    .dataframe thead th {\n",
       "        text-align: right;\n",
       "    }\n",
       "</style>\n",
       "<table border=\"1\" class=\"dataframe\">\n",
       "  <thead>\n",
       "    <tr style=\"text-align: right;\">\n",
       "      <th></th>\n",
       "      <th>id</th>\n",
       "      <th>brand</th>\n",
       "      <th>processor</th>\n",
       "      <th>ram_gb</th>\n",
       "      <th>storage</th>\n",
       "      <th>gpu</th>\n",
       "      <th>screen_size_inch</th>\n",
       "      <th>resolution</th>\n",
       "      <th>battery_life_hours</th>\n",
       "      <th>weight_kg</th>\n",
       "      <th>operating_system</th>\n",
       "      <th>price</th>\n",
       "    </tr>\n",
       "  </thead>\n",
       "  <tbody>\n",
       "    <tr>\n",
       "      <th>0</th>\n",
       "      <td>1</td>\n",
       "      <td>Apple</td>\n",
       "      <td>AMD Ryzen 3</td>\n",
       "      <td>64</td>\n",
       "      <td>512GB SSD</td>\n",
       "      <td>Nvidia GTX 1650</td>\n",
       "      <td>17.3</td>\n",
       "      <td>2560x1440</td>\n",
       "      <td>8.9</td>\n",
       "      <td>1.42</td>\n",
       "      <td>FreeDOS</td>\n",
       "      <td>3997.07</td>\n",
       "    </tr>\n",
       "    <tr>\n",
       "      <th>1</th>\n",
       "      <td>9</td>\n",
       "      <td>Apple</td>\n",
       "      <td>Intel i5</td>\n",
       "      <td>64</td>\n",
       "      <td>256GB SSD</td>\n",
       "      <td>Nvidia RTX 2060</td>\n",
       "      <td>15.6</td>\n",
       "      <td>3840x2160</td>\n",
       "      <td>11.5</td>\n",
       "      <td>1.48</td>\n",
       "      <td>Linux</td>\n",
       "      <td>6409.03</td>\n",
       "    </tr>\n",
       "    <tr>\n",
       "      <th>2</th>\n",
       "      <td>25</td>\n",
       "      <td>Apple</td>\n",
       "      <td>Intel i9</td>\n",
       "      <td>64</td>\n",
       "      <td>256GB SSD</td>\n",
       "      <td>Integrated</td>\n",
       "      <td>17.3</td>\n",
       "      <td>1920x1080</td>\n",
       "      <td>6.9</td>\n",
       "      <td>2.55</td>\n",
       "      <td>Windows</td>\n",
       "      <td>4428.68</td>\n",
       "    </tr>\n",
       "    <tr>\n",
       "      <th>3</th>\n",
       "      <td>44</td>\n",
       "      <td>Apple</td>\n",
       "      <td>Intel i9</td>\n",
       "      <td>32</td>\n",
       "      <td>2TB SSD</td>\n",
       "      <td>Nvidia GTX 1650</td>\n",
       "      <td>17.3</td>\n",
       "      <td>2560x1440</td>\n",
       "      <td>5.7</td>\n",
       "      <td>1.83</td>\n",
       "      <td>Windows</td>\n",
       "      <td>5373.59</td>\n",
       "    </tr>\n",
       "    <tr>\n",
       "      <th>4</th>\n",
       "      <td>65</td>\n",
       "      <td>Apple</td>\n",
       "      <td>Intel i5</td>\n",
       "      <td>64</td>\n",
       "      <td>512GB SSD</td>\n",
       "      <td>Nvidia RTX 3080</td>\n",
       "      <td>14.0</td>\n",
       "      <td>3840x2160</td>\n",
       "      <td>10.9</td>\n",
       "      <td>2.25</td>\n",
       "      <td>Windows</td>\n",
       "      <td>5768.75</td>\n",
       "    </tr>\n",
       "    <tr>\n",
       "      <th>...</th>\n",
       "      <td>...</td>\n",
       "      <td>...</td>\n",
       "      <td>...</td>\n",
       "      <td>...</td>\n",
       "      <td>...</td>\n",
       "      <td>...</td>\n",
       "      <td>...</td>\n",
       "      <td>...</td>\n",
       "      <td>...</td>\n",
       "      <td>...</td>\n",
       "      <td>...</td>\n",
       "      <td>...</td>\n",
       "    </tr>\n",
       "    <tr>\n",
       "      <th>1257</th>\n",
       "      <td>11721</td>\n",
       "      <td>Apple</td>\n",
       "      <td>Intel i5</td>\n",
       "      <td>64</td>\n",
       "      <td>256GB SSD</td>\n",
       "      <td>Nvidia RTX 3060</td>\n",
       "      <td>16.0</td>\n",
       "      <td>3840x2160</td>\n",
       "      <td>9.2</td>\n",
       "      <td>2.40</td>\n",
       "      <td>macOS</td>\n",
       "      <td>6402.40</td>\n",
       "    </tr>\n",
       "    <tr>\n",
       "      <th>1258</th>\n",
       "      <td>11722</td>\n",
       "      <td>Apple</td>\n",
       "      <td>AMD Ryzen 7</td>\n",
       "      <td>64</td>\n",
       "      <td>1TB SSD</td>\n",
       "      <td>Integrated</td>\n",
       "      <td>15.6</td>\n",
       "      <td>1920x1080</td>\n",
       "      <td>6.6</td>\n",
       "      <td>1.82</td>\n",
       "      <td>Windows</td>\n",
       "      <td>3216.15</td>\n",
       "    </tr>\n",
       "    <tr>\n",
       "      <th>1259</th>\n",
       "      <td>11729</td>\n",
       "      <td>Apple</td>\n",
       "      <td>Intel i7</td>\n",
       "      <td>16</td>\n",
       "      <td>2TB SSD</td>\n",
       "      <td>AMD Radeon RX 6800</td>\n",
       "      <td>15.6</td>\n",
       "      <td>1920x1080</td>\n",
       "      <td>11.9</td>\n",
       "      <td>3.19</td>\n",
       "      <td>macOS</td>\n",
       "      <td>2354.89</td>\n",
       "    </tr>\n",
       "    <tr>\n",
       "      <th>1260</th>\n",
       "      <td>11752</td>\n",
       "      <td>Apple</td>\n",
       "      <td>Intel i7</td>\n",
       "      <td>4</td>\n",
       "      <td>2TB SSD</td>\n",
       "      <td>AMD Radeon RX 6600</td>\n",
       "      <td>16.0</td>\n",
       "      <td>1366x768</td>\n",
       "      <td>6.0</td>\n",
       "      <td>3.48</td>\n",
       "      <td>Linux</td>\n",
       "      <td>1504.18</td>\n",
       "    </tr>\n",
       "    <tr>\n",
       "      <th>1261</th>\n",
       "      <td>11763</td>\n",
       "      <td>Apple</td>\n",
       "      <td>AMD Ryzen 9</td>\n",
       "      <td>16</td>\n",
       "      <td>1TB HDD</td>\n",
       "      <td>AMD Radeon RX 6600</td>\n",
       "      <td>15.6</td>\n",
       "      <td>1920x1080</td>\n",
       "      <td>10.9</td>\n",
       "      <td>1.55</td>\n",
       "      <td>FreeDOS</td>\n",
       "      <td>2704.23</td>\n",
       "    </tr>\n",
       "  </tbody>\n",
       "</table>\n",
       "<p>1262 rows × 12 columns</p>\n",
       "</div>"
      ]
     },
     "execution_count": 21,
     "metadata": {},
     "output_type": "execute_result"
    }
   ],
   "execution_count": 21
  },
  {
   "cell_type": "markdown",
   "id": "5664d9cc",
   "metadata": {},
   "source": [
    "**STOP**<br>\n",
    "To create a new schema diagram for your new database (Even though it only has one table...it's good practice!)<br>\n",
    "Open MySQL Workbench again<br>\n",
    "Click Home<br>\n",
    "Click the Models icon<br>\n",
    "Click the > icon to the right of \"Models\"<br>\n",
    "Choose “Create EER Model from Database” <br>\n",
    "The Reverse Engineer Database Wizard starts and will walk you through your first database schema diagram.<br>\n",
    "Save your model. <br>\n",
    "You can now add relationships and or modify tables...but for this assignment, all we need is that first table. <br>\n",
    "\n",
    "**Add a screen shot of your first schema diagram (The table) to your repository/Blackboard subission.**"
   ]
  },
  {
   "metadata": {},
   "cell_type": "markdown",
   "source": "![Table diagram](table-diagram.png)",
   "id": "5046b0686c565898"
  },
  {
   "cell_type": "code",
   "id": "113cfbc9",
   "metadata": {
    "ExecuteTime": {
     "end_time": "2025-03-12T00:58:13.807552Z",
     "start_time": "2025-03-12T00:58:13.803317Z"
    }
   },
   "source": [
    "# Close the database connection :)\n",
    "cursor.close()\n",
    "connection.close()"
   ],
   "outputs": [],
   "execution_count": 22
  },
  {
   "cell_type": "markdown",
   "id": "53688240",
   "metadata": {},
   "source": [
    "### Creating a local database from scratch"
   ]
  },
  {
   "cell_type": "markdown",
   "id": "e55eccd7",
   "metadata": {},
   "source": [
    "#### Creating a local database from scratch in Python using SQL Alchemy for MySQL Workbench:<br>\n",
    "Another example: https://blog.sqlitecloud.io/sqlite-python-sqlalchemy"
   ]
  },
  {
   "cell_type": "code",
   "id": "be5cad12",
   "metadata": {
    "ExecuteTime": {
     "end_time": "2025-03-12T00:58:13.896699Z",
     "start_time": "2025-03-12T00:58:13.891305Z"
    }
   },
   "source": [
    "# BEFORE YOU BEGIN!\n",
    "# Is your MySQL Server running on your local machine?\n",
    "# Doesn't matter this time, please continue! :)\n",
    "from sqlalchemy import create_engine"
   ],
   "outputs": [],
   "execution_count": 23
  },
  {
   "cell_type": "code",
   "id": "2bac4d02",
   "metadata": {
    "ExecuteTime": {
     "end_time": "2025-03-12T01:02:21.373945Z",
     "start_time": "2025-03-12T01:02:21.358454Z"
    }
   },
   "source": [
    "# Creates a local database file in the SAME directory as this document.\n",
    "database_name = \"thinhle_local\"\n",
    "engine = create_engine(f\"sqlite:///{database_name}.db\")\n",
    "# NOTE: We are not using the local host, but can still connect our database to MySQL\n",
    "\n",
    "user = 'root'\n",
    "password = '123456'\n",
    "\n",
    "mysql_connection = mysql.connector.connect(\n",
    "    # Username\n",
    "    user=user,\n",
    "    # Password\n",
    "    password=password)\n",
    "\n",
    "# Create a cursor - an object that can execute operations such as SQL statement\n",
    "cursor = mysql_connection.cursor()\n",
    "\n",
    "cursor.execute(f\"CREATE DATABASE IF NOT EXISTS {database_name}\")"
   ],
   "outputs": [],
   "execution_count": 26
  },
  {
   "metadata": {
    "ExecuteTime": {
     "end_time": "2025-03-12T01:02:39.171497Z",
     "start_time": "2025-03-12T01:02:39.166847Z"
    }
   },
   "cell_type": "code",
   "source": [
    "# Close the cursor connection :)\n",
    "cursor.close()"
   ],
   "id": "c0c8f3920636a801",
   "outputs": [
    {
     "data": {
      "text/plain": [
       "True"
      ]
     },
     "execution_count": 27,
     "metadata": {},
     "output_type": "execute_result"
    }
   ],
   "execution_count": 27
  },
  {
   "cell_type": "markdown",
   "id": "1ebd104b",
   "metadata": {},
   "source": [
    "**STOP HERE**<br>\n",
    "Before moving on, it is **important** to understand the difference of what we have just completed. Using SQL Alchemy, we have created a database LOCALLY. Notice we did not specify a specific host, BUT we did specify a user and password! This means we can access this database locally in MySQL Workbench if we choose."
   ]
  },
  {
   "cell_type": "markdown",
   "id": "dd547b96-e035-4da9-a799-e6117d9f7bc1",
   "metadata": {},
   "source": [
    "#### Creating a local database (.db file) from scratch in Python using SQLite:<br>\n"
   ]
  },
  {
   "cell_type": "code",
   "id": "817ccc60-98f3-42d8-83f1-fbf15038588f",
   "metadata": {
    "ExecuteTime": {
     "end_time": "2025-03-12T01:03:04.760303Z",
     "start_time": "2025-03-12T01:03:04.756268Z"
    }
   },
   "source": [
    "# Load necessary packages:\n",
    "from sqlalchemy import create_engine, inspect, text # Database navigation\n",
    "import sqlite3 # A second option for working with databases\n",
    "import pandas as pd # Python data manilpulation"
   ],
   "outputs": [],
   "execution_count": 28
  },
  {
   "cell_type": "code",
   "id": "27136015",
   "metadata": {
    "ExecuteTime": {
     "end_time": "2025-03-12T01:05:10.748440Z",
     "start_time": "2025-03-12T01:05:10.553037Z"
    }
   },
   "source": [
    "database_name = \"local_db\"\n",
    "engine = create_engine(f\"sqlite:///{database_name}.db\")\n",
    "\n",
    "# Connect to the database - this action creates the empty file\n",
    "connection = engine.connect()\n",
    "\n",
    "# Store the dataframe in the database as a single table for quick practice (Never recommended, especially for large data sets)\n",
    "# Ref: https://pandas.pydata.org/docs/reference/api/pandas.DataFrame.to_sql.html\n",
    "# if_exists='replace': drop old table and re-create table\n",
    "# index=False: no need to write column names from the df\n",
    "df.to_sql(database_name, con=connection, if_exists=\"replace\", index=False)"
   ],
   "outputs": [],
   "execution_count": 29
  },
  {
   "cell_type": "markdown",
   "id": "4b2d3e02-e5ee-4f53-86be-94cd60f5c62c",
   "metadata": {},
   "source": [
    "**STOP HERE**<br>\n",
    "This method creates a database as a file on our local machine. The .db file is created in the same location or working directory you are currently in (Go check!). If you did not specify a working directory, the .db file is created where this .ipynb is located. "
   ]
  },
  {
   "cell_type": "code",
   "id": "eec6a4b8",
   "metadata": {
    "ExecuteTime": {
     "end_time": "2025-03-12T01:05:21.539811Z",
     "start_time": "2025-03-12T01:05:21.536353Z"
    }
   },
   "source": [
    "#Close the database connection :)\n",
    "connection.close()"
   ],
   "outputs": [],
   "execution_count": 30
  }
 ],
 "metadata": {
  "kernelspec": {
   "display_name": "Python 3 (ipykernel)",
   "language": "python",
   "name": "python3"
  },
  "language_info": {
   "codemirror_mode": {
    "name": "ipython",
    "version": 3
   },
   "file_extension": ".py",
   "mimetype": "text/x-python",
   "name": "python",
   "nbconvert_exporter": "python",
   "pygments_lexer": "ipython3",
   "version": "3.9.21"
  }
 },
 "nbformat": 4,
 "nbformat_minor": 5
}
