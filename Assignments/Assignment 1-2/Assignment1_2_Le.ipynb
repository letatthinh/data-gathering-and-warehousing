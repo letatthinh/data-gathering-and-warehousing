{
 "cells": [
  {
   "cell_type": "markdown",
   "id": "c825ca7c",
   "metadata": {},
   "source": [
    "# Assignment #1 - Data Gathering and Warehousing - DSSA-5102"
   ]
  },
  {
   "cell_type": "markdown",
   "id": "3e792669",
   "metadata": {},
   "source": [
    "Instructor: Melissa Laurino<br>\n",
    "Spring 2025"
   ]
  },
  {
   "cell_type": "markdown",
   "id": "db9fe204",
   "metadata": {},
   "source": [
    "Name: Thinh Le\n",
    "<br>\n",
    "Date: February 6, 2025"
   ]
  },
  {
   "cell_type": "markdown",
   "id": "292e9143",
   "metadata": {},
   "source": [
    "<b>Data. Is. Everywhere.</b> <br>\n",
    "Our first objective is to locate and explore <b>TWO</b> datasets about something you are passionate about, or related to a field you would like to work in. Our semester plan is <i>try</i> to work with the same dataset through out the semester. You can find and explore as many datasets as you wish, but Assignment #2 will focus on the one you like the best.\n",
    "There are many great websites that offer public datasets avaialable to download. Examples include but are not limited to:\n",
    "<br>\n",
    "Data.gov - https://data.gov/ - has many government owened public datasets.<br>\n",
    "World Bank Data - https://data.worldbank.org/ - has world economic, social, and environmental data.<br>\n",
    "Google Dataset Search - https://datasetsearch.research.google.com/ - many of these available datasets link to published studies available on Google Scholar in many fields.<br>\n",
    "Kaggle Datasets - https://www.kaggle.com/datasets - a platform for sharing datasets. Anyone can upload to this website.<br>\n",
    "U.S. Census Bureau - https://www.census.gov/ - data on people, places and econoy for the United States.\n",
    "GitHub - https://github.com/ - hosts datasets and completed projects.<br>\n",
    "Federal Reserve Economic Data (FRED) - https://fred.stlouisfed.org/ - Financial and economic data.<br>\n",
    "CDC - https://data.cdc.gov/ - Explore the various data collected by the CDC.<br>\n",
    "NOAA - https://www.ncei.noaa.gov/cdo-web/ - NOAA climate and ocean data. <br>\n",
    "<br>\n",
    "In addition to these resources, occasionally local organizations may be able to provide you with data, or maybe even your own company! Your data source can come from a personal connection, but please be mindful of any data agreements or approvals you may need. If you need approval to use data from your place of employment, please specify that with the instructor so we can ensure no violations to your data agreement will be made this semester.\n",
    "<br>\n",
    "<br>\n",
    "Resources for learning Python:\n",
    "- Data camp - https://www.datacamp.com/category/python - Contact Professor Baldwin for access.<br>\n",
    "- Data Science from Scratch: First Principles with Python - Check Blackboard <br>\n",
    "- Python for Data Analysis Data Wrangling with pandas, NumPy & Jupyter - Check Blackboard"
   ]
  },
  {
   "cell_type": "markdown",
   "id": "712dad64-6ed8-4680-90b7-4e47833e6887",
   "metadata": {},
   "source": [
    "For Assignment #1, our objective is to locate and explore two different datasets using Python. We will choose one of these datasets to clean to prepare for our future database. For each dataset include: <br>\n",
    "- The dataset name, company/organization resonsible for data collection, the download link, and date of access. <br>\n",
    "- Load neccessary packages <br>\n",
    "- Obtain the general info for your data such as size, number of rows/columns, column names, describing the data etc. <br>\n",
    "- What are the unique columns or variables present in your dataset? <br>\n",
    "- Create one quick plot to visualize your data. It is okay if it is messy since your data has not been cleaned yet, but still make sure you are practicing good graphins with a title, axis labels, and anything else needed for your graph.  <br>\n",
    "\n",
    "Comment ALL code to recieve full credit. The above bullet points are to help guide you in your process, but extensive exploration is expected for each data set. <br>\n",
    "<br>\n",
    "Explore various markdown font settings: https://ingeh.medium.com/markdown-for-jupyter-notebooks-cheatsheet-386c05aeebed"
   ]
  },
  {
   "cell_type": "markdown",
   "id": "6c5eadb4",
   "metadata": {},
   "source": [
    "## Dataset #1"
   ]
  },
  {
   "cell_type": "markdown",
   "id": "0bf03c2c",
   "metadata": {},
   "source": [
    "<b>Dataset name:</b> Laptop Price Dataset<br>\n",
    "<b>Company/Government Organization:</b> Kaggle<br>\n",
    "Download link: <a href=\"https://www.kaggle.com/datasets/asinow/laptop-price-dataset\">Laptop Price Dataset</a><br>\n",
    "Date of Access: February 6, 2025"
   ]
  },
  {
   "cell_type": "markdown",
   "id": "55a352bf",
   "metadata": {},
   "source": [
    "Popular packages to load in working with Python: <br>\n",
    "pandas: https://pandas.pydata.org/about/index.html <br>\n",
    "numpy: https://numpy.org/learn/ <br>\n",
    "matplotlib: https://matplotlib.org/stable/api/pyplot_summary.html"
   ]
  },
  {
   "cell_type": "code",
   "id": "5415dc2ddb5c7a77",
   "metadata": {
    "scrolled": true,
    "ExecuteTime": {
     "end_time": "2025-02-08T14:24:06.879150Z",
     "start_time": "2025-02-08T14:24:06.876116Z"
    }
   },
   "source": [
    "# My examples are below, but edit as needed to fit your dataset:\n",
    "import pandas as pd             # Reads, writes, shapes, manipulates data\n",
    "import numpy as np              # Basic stats and numerical operations\n",
    "import matplotlib.pyplot as plt # Creating basic graphs"
   ],
   "outputs": [],
   "execution_count": 88
  },
  {
   "cell_type": "markdown",
   "id": "1dc2612bb839a23c",
   "metadata": {},
   "source": [
    "Importing a library as an abbreviation is beneficial to shorten your code and make it more concise. <br>\n",
    "For example, when referencing your data frame without the abbreviation you would write: pandas.DataFrame <br>\n",
    "With an abbreviation, you can just write: pd.DataFrame"
   ]
  },
  {
   "cell_type": "markdown",
   "id": "f2f12ad902f2d95d",
   "metadata": {},
   "source": [
    "Load your chosen dataset into the notebook below:"
   ]
  },
  {
   "cell_type": "code",
   "id": "565f8d2df9dcd726",
   "metadata": {
    "ExecuteTime": {
     "end_time": "2025-02-08T14:24:06.908765Z",
     "start_time": "2025-02-08T14:24:06.905764Z"
    }
   },
   "source": [
    "# Be sure to document each line of code like the above example.\n",
    "# Documenting each line of code is helpful when revisiting assignments later in the semester."
   ],
   "outputs": [],
   "execution_count": 89
  },
  {
   "cell_type": "code",
   "id": "8785d347dac5d0ca",
   "metadata": {
    "ExecuteTime": {
     "end_time": "2025-02-08T14:24:06.956831Z",
     "start_time": "2025-02-08T14:24:06.920027Z"
    }
   },
   "source": [
    "# Load the locally stored CSV file as a dataframe\n",
    "df = pd.read_csv('laptop_prices.csv')\n",
    "df"
   ],
   "outputs": [
    {
     "data": {
      "text/plain": [
       "         Brand    Processor  RAM (GB)    Storage                 GPU  \\\n",
       "0        Apple  AMD Ryzen 3      64.0  512GB SSD     Nvidia GTX 1650   \n",
       "1        Razer  AMD Ryzen 7       4.0    1TB SSD     Nvidia RTX 3080   \n",
       "2         Asus     Intel i5      32.0    2TB SSD     Nvidia RTX 3060   \n",
       "3       Lenovo     Intel i5       4.0  256GB SSD     Nvidia RTX 3080   \n",
       "4        Razer     Intel i3       4.0  256GB SSD  AMD Radeon RX 6600   \n",
       "...        ...          ...       ...        ...                 ...   \n",
       "11764     Acer     Intel i3       4.0    2TB SSD     Nvidia RTX 2060   \n",
       "11765     Asus     Intel i3       4.0    2TB SSD  AMD Radeon RX 6800   \n",
       "11766    Razer  AMD Ryzen 9       4.0    2TB SSD  AMD Radeon RX 6600   \n",
       "11767  Samsung  AMD Ryzen 7      16.0  512GB SSD          Integrated   \n",
       "11768  Samsung     Intel i7       8.0  256GB SSD     Nvidia RTX 3080   \n",
       "\n",
       "       Screen Size (inch) Resolution  Battery Life (hours)  Weight (kg)  \\\n",
       "0                    17.3  2560x1440                   8.9         1.42   \n",
       "1                    14.0   1366x768                   9.4         2.57   \n",
       "2                    13.3  3840x2160                   8.5         1.74   \n",
       "3                    13.3   1366x768                  10.5         3.10   \n",
       "4                    16.0  3840x2160                   5.7         3.38   \n",
       "...                   ...        ...                   ...          ...   \n",
       "11764                17.3   1366x768                  11.5         1.58   \n",
       "11765                16.0   1366x768                   9.5         2.14   \n",
       "11766                15.6  2560x1440                   8.2         2.05   \n",
       "11767                13.3  1920x1080                   7.5         1.48   \n",
       "11768                17.3  2560x1440                   6.4         2.45   \n",
       "\n",
       "      Operating System  Price ($)  \n",
       "0              FreeDOS    3997.07  \n",
       "1                Linux    1355.78  \n",
       "2              FreeDOS    2673.07  \n",
       "3              Windows     751.17  \n",
       "4                Linux    2059.83  \n",
       "...                ...        ...  \n",
       "11764            macOS     704.82  \n",
       "11765            Linux     775.59  \n",
       "11766            Linux    2789.46  \n",
       "11767            macOS    1067.13  \n",
       "11768          FreeDOS    1579.55  \n",
       "\n",
       "[11769 rows x 11 columns]"
      ],
      "text/html": [
       "<div>\n",
       "<style scoped>\n",
       "    .dataframe tbody tr th:only-of-type {\n",
       "        vertical-align: middle;\n",
       "    }\n",
       "\n",
       "    .dataframe tbody tr th {\n",
       "        vertical-align: top;\n",
       "    }\n",
       "\n",
       "    .dataframe thead th {\n",
       "        text-align: right;\n",
       "    }\n",
       "</style>\n",
       "<table border=\"1\" class=\"dataframe\">\n",
       "  <thead>\n",
       "    <tr style=\"text-align: right;\">\n",
       "      <th></th>\n",
       "      <th>Brand</th>\n",
       "      <th>Processor</th>\n",
       "      <th>RAM (GB)</th>\n",
       "      <th>Storage</th>\n",
       "      <th>GPU</th>\n",
       "      <th>Screen Size (inch)</th>\n",
       "      <th>Resolution</th>\n",
       "      <th>Battery Life (hours)</th>\n",
       "      <th>Weight (kg)</th>\n",
       "      <th>Operating System</th>\n",
       "      <th>Price ($)</th>\n",
       "    </tr>\n",
       "  </thead>\n",
       "  <tbody>\n",
       "    <tr>\n",
       "      <th>0</th>\n",
       "      <td>Apple</td>\n",
       "      <td>AMD Ryzen 3</td>\n",
       "      <td>64.0</td>\n",
       "      <td>512GB SSD</td>\n",
       "      <td>Nvidia GTX 1650</td>\n",
       "      <td>17.3</td>\n",
       "      <td>2560x1440</td>\n",
       "      <td>8.9</td>\n",
       "      <td>1.42</td>\n",
       "      <td>FreeDOS</td>\n",
       "      <td>3997.07</td>\n",
       "    </tr>\n",
       "    <tr>\n",
       "      <th>1</th>\n",
       "      <td>Razer</td>\n",
       "      <td>AMD Ryzen 7</td>\n",
       "      <td>4.0</td>\n",
       "      <td>1TB SSD</td>\n",
       "      <td>Nvidia RTX 3080</td>\n",
       "      <td>14.0</td>\n",
       "      <td>1366x768</td>\n",
       "      <td>9.4</td>\n",
       "      <td>2.57</td>\n",
       "      <td>Linux</td>\n",
       "      <td>1355.78</td>\n",
       "    </tr>\n",
       "    <tr>\n",
       "      <th>2</th>\n",
       "      <td>Asus</td>\n",
       "      <td>Intel i5</td>\n",
       "      <td>32.0</td>\n",
       "      <td>2TB SSD</td>\n",
       "      <td>Nvidia RTX 3060</td>\n",
       "      <td>13.3</td>\n",
       "      <td>3840x2160</td>\n",
       "      <td>8.5</td>\n",
       "      <td>1.74</td>\n",
       "      <td>FreeDOS</td>\n",
       "      <td>2673.07</td>\n",
       "    </tr>\n",
       "    <tr>\n",
       "      <th>3</th>\n",
       "      <td>Lenovo</td>\n",
       "      <td>Intel i5</td>\n",
       "      <td>4.0</td>\n",
       "      <td>256GB SSD</td>\n",
       "      <td>Nvidia RTX 3080</td>\n",
       "      <td>13.3</td>\n",
       "      <td>1366x768</td>\n",
       "      <td>10.5</td>\n",
       "      <td>3.10</td>\n",
       "      <td>Windows</td>\n",
       "      <td>751.17</td>\n",
       "    </tr>\n",
       "    <tr>\n",
       "      <th>4</th>\n",
       "      <td>Razer</td>\n",
       "      <td>Intel i3</td>\n",
       "      <td>4.0</td>\n",
       "      <td>256GB SSD</td>\n",
       "      <td>AMD Radeon RX 6600</td>\n",
       "      <td>16.0</td>\n",
       "      <td>3840x2160</td>\n",
       "      <td>5.7</td>\n",
       "      <td>3.38</td>\n",
       "      <td>Linux</td>\n",
       "      <td>2059.83</td>\n",
       "    </tr>\n",
       "    <tr>\n",
       "      <th>...</th>\n",
       "      <td>...</td>\n",
       "      <td>...</td>\n",
       "      <td>...</td>\n",
       "      <td>...</td>\n",
       "      <td>...</td>\n",
       "      <td>...</td>\n",
       "      <td>...</td>\n",
       "      <td>...</td>\n",
       "      <td>...</td>\n",
       "      <td>...</td>\n",
       "      <td>...</td>\n",
       "    </tr>\n",
       "    <tr>\n",
       "      <th>11764</th>\n",
       "      <td>Acer</td>\n",
       "      <td>Intel i3</td>\n",
       "      <td>4.0</td>\n",
       "      <td>2TB SSD</td>\n",
       "      <td>Nvidia RTX 2060</td>\n",
       "      <td>17.3</td>\n",
       "      <td>1366x768</td>\n",
       "      <td>11.5</td>\n",
       "      <td>1.58</td>\n",
       "      <td>macOS</td>\n",
       "      <td>704.82</td>\n",
       "    </tr>\n",
       "    <tr>\n",
       "      <th>11765</th>\n",
       "      <td>Asus</td>\n",
       "      <td>Intel i3</td>\n",
       "      <td>4.0</td>\n",
       "      <td>2TB SSD</td>\n",
       "      <td>AMD Radeon RX 6800</td>\n",
       "      <td>16.0</td>\n",
       "      <td>1366x768</td>\n",
       "      <td>9.5</td>\n",
       "      <td>2.14</td>\n",
       "      <td>Linux</td>\n",
       "      <td>775.59</td>\n",
       "    </tr>\n",
       "    <tr>\n",
       "      <th>11766</th>\n",
       "      <td>Razer</td>\n",
       "      <td>AMD Ryzen 9</td>\n",
       "      <td>4.0</td>\n",
       "      <td>2TB SSD</td>\n",
       "      <td>AMD Radeon RX 6600</td>\n",
       "      <td>15.6</td>\n",
       "      <td>2560x1440</td>\n",
       "      <td>8.2</td>\n",
       "      <td>2.05</td>\n",
       "      <td>Linux</td>\n",
       "      <td>2789.46</td>\n",
       "    </tr>\n",
       "    <tr>\n",
       "      <th>11767</th>\n",
       "      <td>Samsung</td>\n",
       "      <td>AMD Ryzen 7</td>\n",
       "      <td>16.0</td>\n",
       "      <td>512GB SSD</td>\n",
       "      <td>Integrated</td>\n",
       "      <td>13.3</td>\n",
       "      <td>1920x1080</td>\n",
       "      <td>7.5</td>\n",
       "      <td>1.48</td>\n",
       "      <td>macOS</td>\n",
       "      <td>1067.13</td>\n",
       "    </tr>\n",
       "    <tr>\n",
       "      <th>11768</th>\n",
       "      <td>Samsung</td>\n",
       "      <td>Intel i7</td>\n",
       "      <td>8.0</td>\n",
       "      <td>256GB SSD</td>\n",
       "      <td>Nvidia RTX 3080</td>\n",
       "      <td>17.3</td>\n",
       "      <td>2560x1440</td>\n",
       "      <td>6.4</td>\n",
       "      <td>2.45</td>\n",
       "      <td>FreeDOS</td>\n",
       "      <td>1579.55</td>\n",
       "    </tr>\n",
       "  </tbody>\n",
       "</table>\n",
       "<p>11769 rows × 11 columns</p>\n",
       "</div>"
      ]
     },
     "execution_count": 90,
     "metadata": {},
     "output_type": "execute_result"
    }
   ],
   "execution_count": 90
  },
  {
   "cell_type": "markdown",
   "id": "ecddbcac604c7389",
   "metadata": {},
   "source": [
    "We can run `df.info()` to see how large the dataframe is:"
   ]
  },
  {
   "cell_type": "code",
   "id": "245ddff09b430958",
   "metadata": {
    "ExecuteTime": {
     "end_time": "2025-02-08T14:24:07.032860Z",
     "start_time": "2025-02-08T14:24:07.023583Z"
    }
   },
   "source": [
    "df.info()"
   ],
   "outputs": [
    {
     "name": "stdout",
     "output_type": "stream",
     "text": [
      "<class 'pandas.core.frame.DataFrame'>\n",
      "RangeIndex: 11769 entries, 0 to 11768\n",
      "Data columns (total 11 columns):\n",
      " #   Column                Non-Null Count  Dtype  \n",
      "---  ------                --------------  -----  \n",
      " 0   Brand                 11769 non-null  object \n",
      " 1   Processor             11768 non-null  object \n",
      " 2   RAM (GB)              11768 non-null  float64\n",
      " 3   Storage               11768 non-null  object \n",
      " 4   GPU                   11768 non-null  object \n",
      " 5   Screen Size (inch)    11768 non-null  float64\n",
      " 6   Resolution            11768 non-null  object \n",
      " 7   Battery Life (hours)  11768 non-null  float64\n",
      " 8   Weight (kg)           11768 non-null  float64\n",
      " 9   Operating System      11768 non-null  object \n",
      " 10  Price ($)             11768 non-null  float64\n",
      "dtypes: float64(5), object(6)\n",
      "memory usage: 1011.5+ KB\n"
     ]
    }
   ],
   "execution_count": 91
  },
  {
   "cell_type": "markdown",
   "id": "fce0cc31ffce4347",
   "metadata": {},
   "source": [
    "I have X columns in my dataset. \n",
    "I have X rows in my dataset."
   ]
  },
  {
   "cell_type": "code",
   "id": "3fb0ac665e37a860",
   "metadata": {
    "ExecuteTime": {
     "end_time": "2025-02-08T14:24:07.112635Z",
     "start_time": "2025-02-08T14:24:07.108448Z"
    }
   },
   "source": [
    "# Dataframe dimension\n",
    "df.shape"
   ],
   "outputs": [
    {
     "data": {
      "text/plain": [
       "(11769, 11)"
      ]
     },
     "execution_count": 92,
     "metadata": {},
     "output_type": "execute_result"
    }
   ],
   "execution_count": 92
  },
  {
   "cell_type": "code",
   "id": "4c87912779a774cd",
   "metadata": {
    "ExecuteTime": {
     "end_time": "2025-02-08T14:24:07.200502Z",
     "start_time": "2025-02-08T14:24:07.196354Z"
    }
   },
   "source": [
    "# Number of columns\n",
    "df.shape[1]"
   ],
   "outputs": [
    {
     "data": {
      "text/plain": [
       "11"
      ]
     },
     "execution_count": 93,
     "metadata": {},
     "output_type": "execute_result"
    }
   ],
   "execution_count": 93
  },
  {
   "cell_type": "code",
   "id": "f342372ddc7c750c",
   "metadata": {
    "ExecuteTime": {
     "end_time": "2025-02-08T14:24:07.261002Z",
     "start_time": "2025-02-08T14:24:07.256489Z"
    }
   },
   "source": [
    "# Number of rows\n",
    "df.shape[0]"
   ],
   "outputs": [
    {
     "data": {
      "text/plain": [
       "11769"
      ]
     },
     "execution_count": 94,
     "metadata": {},
     "output_type": "execute_result"
    }
   ],
   "execution_count": 94
  },
  {
   "cell_type": "markdown",
   "id": "3ea045bf296e7b3d",
   "metadata": {},
   "source": [
    "What are the unique columns or variables present in your dataset? How many rows are there?"
   ]
  },
  {
   "cell_type": "code",
   "id": "ba3ccf0db32b2287",
   "metadata": {
    "ExecuteTime": {
     "end_time": "2025-02-08T14:24:07.307330Z",
     "start_time": "2025-02-08T14:24:07.303092Z"
    }
   },
   "source": [
    "# What are the unique column names?\n",
    "# Notes:\n",
    "#   - Result is an Index class from pandas.\n",
    "#   - Result can be converted into Python list data type using tolist() method.\n",
    "df.columns.tolist()"
   ],
   "outputs": [
    {
     "data": {
      "text/plain": [
       "['Brand',\n",
       " 'Processor',\n",
       " 'RAM (GB)',\n",
       " 'Storage',\n",
       " 'GPU',\n",
       " 'Screen Size (inch)',\n",
       " 'Resolution',\n",
       " 'Battery Life (hours)',\n",
       " 'Weight (kg)',\n",
       " 'Operating System',\n",
       " 'Price ($)']"
      ]
     },
     "execution_count": 95,
     "metadata": {},
     "output_type": "execute_result"
    }
   ],
   "execution_count": 95
  },
  {
   "cell_type": "code",
   "id": "7ee755b21ff98f34",
   "metadata": {
    "ExecuteTime": {
     "end_time": "2025-02-08T14:24:07.335666Z",
     "start_time": "2025-02-08T14:24:07.331158Z"
    }
   },
   "source": [
    "# Find and print the total number of columns\n",
    "df.shape[1]"
   ],
   "outputs": [
    {
     "data": {
      "text/plain": [
       "11"
      ]
     },
     "execution_count": 96,
     "metadata": {},
     "output_type": "execute_result"
    }
   ],
   "execution_count": 96
  },
  {
   "cell_type": "code",
   "id": "d8a5c30cac2887a6",
   "metadata": {
    "ExecuteTime": {
     "end_time": "2025-02-08T14:24:07.368728Z",
     "start_time": "2025-02-08T14:24:07.364202Z"
    }
   },
   "source": [
    "# Find and print the total number of rows\n",
    "df.shape[0]"
   ],
   "outputs": [
    {
     "data": {
      "text/plain": [
       "11769"
      ]
     },
     "execution_count": 97,
     "metadata": {},
     "output_type": "execute_result"
    }
   ],
   "execution_count": 97
  },
  {
   "cell_type": "markdown",
   "id": "d92418dc9ac81554",
   "metadata": {},
   "source": [
    "Use print(\" \") statements in python to print text or variables in the output. <br>\n",
    "Use \\n in the print statement to skip a line. Without skipping a line, everything prints close together."
   ]
  },
  {
   "cell_type": "code",
   "id": "2991933fc8b62423",
   "metadata": {
    "ExecuteTime": {
     "end_time": "2025-02-08T14:24:07.428752Z",
     "start_time": "2025-02-08T14:24:07.411097Z"
    }
   },
   "source": [
    "# Describe the numerical columns\n",
    "numerical_columns = df[[\n",
    "    'RAM (GB)', 'Screen Size (inch)', 'Battery Life (hours)', 'Weight (kg)',\n",
    "    'Price ($)'\n",
    "]]\n",
    "numerical_columns.describe()"
   ],
   "outputs": [
    {
     "data": {
      "text/plain": [
       "           RAM (GB)  Screen Size (inch)  Battery Life (hours)   Weight (kg)  \\\n",
       "count  11768.000000        11768.000000          11768.000000  11768.000000   \n",
       "mean      24.852821           15.212305              8.027855      2.341117   \n",
       "std       21.762567            1.436997              2.305400      0.667921   \n",
       "min        4.000000           13.300000              4.000000      1.200000   \n",
       "25%        8.000000           14.000000              6.000000      1.760000   \n",
       "50%       16.000000           15.600000              8.000000      2.340000   \n",
       "75%       32.000000           16.000000             10.000000      2.910000   \n",
       "max       64.000000           17.300000             12.000000      3.500000   \n",
       "\n",
       "          Price ($)  \n",
       "count  11768.000000  \n",
       "mean    2183.571608  \n",
       "std     1316.886132  \n",
       "min      279.570000  \n",
       "25%     1272.045000  \n",
       "50%     1840.865000  \n",
       "75%     2698.370000  \n",
       "max    10807.880000  "
      ],
      "text/html": [
       "<div>\n",
       "<style scoped>\n",
       "    .dataframe tbody tr th:only-of-type {\n",
       "        vertical-align: middle;\n",
       "    }\n",
       "\n",
       "    .dataframe tbody tr th {\n",
       "        vertical-align: top;\n",
       "    }\n",
       "\n",
       "    .dataframe thead th {\n",
       "        text-align: right;\n",
       "    }\n",
       "</style>\n",
       "<table border=\"1\" class=\"dataframe\">\n",
       "  <thead>\n",
       "    <tr style=\"text-align: right;\">\n",
       "      <th></th>\n",
       "      <th>RAM (GB)</th>\n",
       "      <th>Screen Size (inch)</th>\n",
       "      <th>Battery Life (hours)</th>\n",
       "      <th>Weight (kg)</th>\n",
       "      <th>Price ($)</th>\n",
       "    </tr>\n",
       "  </thead>\n",
       "  <tbody>\n",
       "    <tr>\n",
       "      <th>count</th>\n",
       "      <td>11768.000000</td>\n",
       "      <td>11768.000000</td>\n",
       "      <td>11768.000000</td>\n",
       "      <td>11768.000000</td>\n",
       "      <td>11768.000000</td>\n",
       "    </tr>\n",
       "    <tr>\n",
       "      <th>mean</th>\n",
       "      <td>24.852821</td>\n",
       "      <td>15.212305</td>\n",
       "      <td>8.027855</td>\n",
       "      <td>2.341117</td>\n",
       "      <td>2183.571608</td>\n",
       "    </tr>\n",
       "    <tr>\n",
       "      <th>std</th>\n",
       "      <td>21.762567</td>\n",
       "      <td>1.436997</td>\n",
       "      <td>2.305400</td>\n",
       "      <td>0.667921</td>\n",
       "      <td>1316.886132</td>\n",
       "    </tr>\n",
       "    <tr>\n",
       "      <th>min</th>\n",
       "      <td>4.000000</td>\n",
       "      <td>13.300000</td>\n",
       "      <td>4.000000</td>\n",
       "      <td>1.200000</td>\n",
       "      <td>279.570000</td>\n",
       "    </tr>\n",
       "    <tr>\n",
       "      <th>25%</th>\n",
       "      <td>8.000000</td>\n",
       "      <td>14.000000</td>\n",
       "      <td>6.000000</td>\n",
       "      <td>1.760000</td>\n",
       "      <td>1272.045000</td>\n",
       "    </tr>\n",
       "    <tr>\n",
       "      <th>50%</th>\n",
       "      <td>16.000000</td>\n",
       "      <td>15.600000</td>\n",
       "      <td>8.000000</td>\n",
       "      <td>2.340000</td>\n",
       "      <td>1840.865000</td>\n",
       "    </tr>\n",
       "    <tr>\n",
       "      <th>75%</th>\n",
       "      <td>32.000000</td>\n",
       "      <td>16.000000</td>\n",
       "      <td>10.000000</td>\n",
       "      <td>2.910000</td>\n",
       "      <td>2698.370000</td>\n",
       "    </tr>\n",
       "    <tr>\n",
       "      <th>max</th>\n",
       "      <td>64.000000</td>\n",
       "      <td>17.300000</td>\n",
       "      <td>12.000000</td>\n",
       "      <td>3.500000</td>\n",
       "      <td>10807.880000</td>\n",
       "    </tr>\n",
       "  </tbody>\n",
       "</table>\n",
       "</div>"
      ]
     },
     "execution_count": 98,
     "metadata": {},
     "output_type": "execute_result"
    }
   ],
   "execution_count": 98
  },
  {
   "cell_type": "code",
   "id": "a2fa92043971c38d",
   "metadata": {
    "ExecuteTime": {
     "end_time": "2025-02-08T14:24:07.499211Z",
     "start_time": "2025-02-08T14:24:07.493542Z"
    }
   },
   "source": [
    "# Look more closely at the data types of numerical columns\n",
    "numerical_columns.dtypes"
   ],
   "outputs": [
    {
     "data": {
      "text/plain": [
       "RAM (GB)                float64\n",
       "Screen Size (inch)      float64\n",
       "Battery Life (hours)    float64\n",
       "Weight (kg)             float64\n",
       "Price ($)               float64\n",
       "dtype: object"
      ]
     },
     "execution_count": 99,
     "metadata": {},
     "output_type": "execute_result"
    }
   ],
   "execution_count": 99
  },
  {
   "cell_type": "code",
   "id": "c0cd30ce37b42191",
   "metadata": {
    "ExecuteTime": {
     "end_time": "2025-02-08T14:24:07.622533Z",
     "start_time": "2025-02-08T14:24:07.603603Z"
    }
   },
   "source": [
    "# Explore the values of category columns:\n",
    "category_columns = df[[\n",
    "    'Brand', 'Processor', 'Storage', 'GPU', 'Resolution', 'Operating System',\n",
    "]]\n",
    "category_columns.describe()"
   ],
   "outputs": [
    {
     "data": {
      "text/plain": [
       "        Brand Processor    Storage              GPU Resolution  \\\n",
       "count   11769     11768      11768            11768      11768   \n",
       "unique     10         8          5                7          4   \n",
       "top     Apple  Intel i3  512GB SSD  Nvidia RTX 2060  3840x2160   \n",
       "freq     1262      1570       2420             1746       2977   \n",
       "\n",
       "       Operating System  \n",
       "count             11768  \n",
       "unique                5  \n",
       "top             Windows  \n",
       "freq               2954  "
      ],
      "text/html": [
       "<div>\n",
       "<style scoped>\n",
       "    .dataframe tbody tr th:only-of-type {\n",
       "        vertical-align: middle;\n",
       "    }\n",
       "\n",
       "    .dataframe tbody tr th {\n",
       "        vertical-align: top;\n",
       "    }\n",
       "\n",
       "    .dataframe thead th {\n",
       "        text-align: right;\n",
       "    }\n",
       "</style>\n",
       "<table border=\"1\" class=\"dataframe\">\n",
       "  <thead>\n",
       "    <tr style=\"text-align: right;\">\n",
       "      <th></th>\n",
       "      <th>Brand</th>\n",
       "      <th>Processor</th>\n",
       "      <th>Storage</th>\n",
       "      <th>GPU</th>\n",
       "      <th>Resolution</th>\n",
       "      <th>Operating System</th>\n",
       "    </tr>\n",
       "  </thead>\n",
       "  <tbody>\n",
       "    <tr>\n",
       "      <th>count</th>\n",
       "      <td>11769</td>\n",
       "      <td>11768</td>\n",
       "      <td>11768</td>\n",
       "      <td>11768</td>\n",
       "      <td>11768</td>\n",
       "      <td>11768</td>\n",
       "    </tr>\n",
       "    <tr>\n",
       "      <th>unique</th>\n",
       "      <td>10</td>\n",
       "      <td>8</td>\n",
       "      <td>5</td>\n",
       "      <td>7</td>\n",
       "      <td>4</td>\n",
       "      <td>5</td>\n",
       "    </tr>\n",
       "    <tr>\n",
       "      <th>top</th>\n",
       "      <td>Apple</td>\n",
       "      <td>Intel i3</td>\n",
       "      <td>512GB SSD</td>\n",
       "      <td>Nvidia RTX 2060</td>\n",
       "      <td>3840x2160</td>\n",
       "      <td>Windows</td>\n",
       "    </tr>\n",
       "    <tr>\n",
       "      <th>freq</th>\n",
       "      <td>1262</td>\n",
       "      <td>1570</td>\n",
       "      <td>2420</td>\n",
       "      <td>1746</td>\n",
       "      <td>2977</td>\n",
       "      <td>2954</td>\n",
       "    </tr>\n",
       "  </tbody>\n",
       "</table>\n",
       "</div>"
      ]
     },
     "execution_count": 100,
     "metadata": {},
     "output_type": "execute_result"
    }
   ],
   "execution_count": 100
  },
  {
   "cell_type": "code",
   "id": "5792b5bc57fb7696",
   "metadata": {
    "ExecuteTime": {
     "end_time": "2025-02-08T14:24:07.757745Z",
     "start_time": "2025-02-08T14:24:07.753032Z"
    }
   },
   "source": [
    "# Look more closely at the data types of category columns\n",
    "category_columns.dtypes"
   ],
   "outputs": [
    {
     "data": {
      "text/plain": [
       "Brand               object\n",
       "Processor           object\n",
       "Storage             object\n",
       "GPU                 object\n",
       "Resolution          object\n",
       "Operating System    object\n",
       "dtype: object"
      ]
     },
     "execution_count": 101,
     "metadata": {},
     "output_type": "execute_result"
    }
   ],
   "execution_count": 101
  },
  {
   "cell_type": "markdown",
   "id": "f67154bee0d9506b",
   "metadata": {},
   "source": [
    "Create one graph to quickly visualize your data using matplotlib. <br>\n",
    "Matplotlib color guide: https://i.sstatic.net/lFZum.png <br><br>\n",
    "It's okay if it is not visualy appealing or contains outliers, because we have not cleaned our data yet! Did you get any errors? If so, what were they? Would the errors have been avoided if you had cleaned the data first?<br>\n",
    "Data cleaning and transforming is very important when storing your data in a warehouse...ready for Assignment #2?"
   ]
  },
  {
   "cell_type": "code",
   "id": "d5c0b3f42cc1fa21",
   "metadata": {
    "ExecuteTime": {
     "end_time": "2025-02-08T14:24:08.114793Z",
     "start_time": "2025-02-08T14:24:07.900824Z"
    }
   },
   "source": [
    "# I will create a bar chart to view the average price of laptops by brand.\n",
    "\n",
    "# Group data by brands and calculate average prices.\n",
    "# Ref: https://stackoverflow.com/questions/46938572/pandas-groupby-mean-into-a-dataframe\n",
    "# Note:\n",
    "    # Before reset_index(): My grouped data has a special index (Brand) instead of normal row numbers.\n",
    "    # After reset_index(): Move that special index back into a regular column and gives my grouped data normal row numbers again.\n",
    "average_price_by_brand = df.groupby('Brand')['Price ($)'].mean().reset_index()\n",
    "# Plot the bar chart\n",
    "# Set the figure dimension\n",
    "plt.figure(figsize=(10, 5))\n",
    "\n",
    "# Plot bar chart\n",
    "plt.bar(\n",
    "    average_price_by_brand['Brand'],\n",
    "    average_price_by_brand['Price ($)']\n",
    ")\n",
    "\n",
    "# Add axis labels and chart title\n",
    "plt.xlabel('Laptop brand')\n",
    "plt.ylabel('Average price ($)')\n",
    "plt.title('Average laptop price by brand')\n",
    "\n",
    "# Show chart\n",
    "plt.show()\n"
   ],
   "outputs": [
    {
     "data": {
      "text/plain": [
       "<Figure size 1000x500 with 1 Axes>"
      ],
      "image/png": "[encoded data removed]"
     },
     "metadata": {},
     "output_type": "display_data"
    }
   ],
   "execution_count": 102
  },
  {
   "cell_type": "markdown",
   "id": "251688bc-3597-4eec-b1e1-c1e24e090b93",
   "metadata": {},
   "source": [
    "## Dataset #2"
   ]
  },
  {
   "cell_type": "markdown",
   "id": "17ba6fbf-6c3e-469e-bf3a-49fb9d16fc84",
   "metadata": {},
   "source": [
    "<b>Dataset name:</b> Bike Sales in Europe<br>\n",
    "<b>Company/Government Organization:</b> Kaggle<br>\n",
    "Download link: <a href=\"https://www.kaggle.com/datasets/sadiqshah/bike-sales-in-europe\">Bike Sales in Europe</a><br>\n",
    "Date of Access: February 7, 2025"
   ]
  },
  {
   "cell_type": "code",
   "id": "4752ba0f0bd31675",
   "metadata": {
    "ExecuteTime": {
     "end_time": "2025-02-08T14:24:08.371716Z",
     "start_time": "2025-02-08T14:24:08.154787Z"
    }
   },
   "source": [
    "# Load the locally stored CSV file as a dataframe\n",
    "df2 = pd.read_csv('bike-sales-in-europe.csv')\n",
    "df2"
   ],
   "outputs": [
    {
     "data": {
      "text/plain": [
       "              Date  Day     Month  Year  Customer_Age       Age_Group  \\\n",
       "0       2013-11-26   26  November  2013            19     Youth (<25)   \n",
       "1       2015-11-26   26  November  2015            19     Youth (<25)   \n",
       "2       2014-03-23   23     March  2014            49  Adults (35-64)   \n",
       "3       2016-03-23   23     March  2016            49  Adults (35-64)   \n",
       "4       2014-05-15   15       May  2014            47  Adults (35-64)   \n",
       "...            ...  ...       ...   ...           ...             ...   \n",
       "113031  2016-04-12   12     April  2016            41  Adults (35-64)   \n",
       "113032  2014-04-02    2     April  2014            18     Youth (<25)   \n",
       "113033  2016-04-02    2     April  2016            18     Youth (<25)   \n",
       "113034  2014-03-04    4     March  2014            37  Adults (35-64)   \n",
       "113035  2016-03-04    4     March  2016            37  Adults (35-64)   \n",
       "\n",
       "       Customer_Gender         Country             State Product_Category  \\\n",
       "0                    M          Canada  British Columbia      Accessories   \n",
       "1                    M          Canada  British Columbia      Accessories   \n",
       "2                    M       Australia   New South Wales      Accessories   \n",
       "3                    M       Australia   New South Wales      Accessories   \n",
       "4                    F       Australia   New South Wales      Accessories   \n",
       "...                ...             ...               ...              ...   \n",
       "113031               M  United Kingdom           England         Clothing   \n",
       "113032               M       Australia        Queensland         Clothing   \n",
       "113033               M       Australia        Queensland         Clothing   \n",
       "113034               F          France     Seine (Paris)         Clothing   \n",
       "113035               F          France     Seine (Paris)         Clothing   \n",
       "\n",
       "       Sub_Category              Product  Order_Quantity  Unit_Cost  \\\n",
       "0        Bike Racks  Hitch Rack - 4-Bike               8         45   \n",
       "1        Bike Racks  Hitch Rack - 4-Bike               8         45   \n",
       "2        Bike Racks  Hitch Rack - 4-Bike              23         45   \n",
       "3        Bike Racks  Hitch Rack - 4-Bike              20         45   \n",
       "4        Bike Racks  Hitch Rack - 4-Bike               4         45   \n",
       "...             ...                  ...             ...        ...   \n",
       "113031        Vests      Classic Vest, S               3         24   \n",
       "113032        Vests      Classic Vest, M              22         24   \n",
       "113033        Vests      Classic Vest, M              22         24   \n",
       "113034        Vests      Classic Vest, L              24         24   \n",
       "113035        Vests      Classic Vest, L              23         24   \n",
       "\n",
       "        Unit_Price  Profit  Cost  Revenue  \n",
       "0              120     590   360      950  \n",
       "1              120     590   360      950  \n",
       "2              120    1366  1035     2401  \n",
       "3              120    1188   900     2088  \n",
       "4              120     238   180      418  \n",
       "...            ...     ...   ...      ...  \n",
       "113031          64     112    72      184  \n",
       "113032          64     655   528     1183  \n",
       "113033          64     655   528     1183  \n",
       "113034          64     684   576     1260  \n",
       "113035          64     655   552     1207  \n",
       "\n",
       "[113036 rows x 18 columns]"
      ],
      "text/html": [
       "<div>\n",
       "<style scoped>\n",
       "    .dataframe tbody tr th:only-of-type {\n",
       "        vertical-align: middle;\n",
       "    }\n",
       "\n",
       "    .dataframe tbody tr th {\n",
       "        vertical-align: top;\n",
       "    }\n",
       "\n",
       "    .dataframe thead th {\n",
       "        text-align: right;\n",
       "    }\n",
       "</style>\n",
       "<table border=\"1\" class=\"dataframe\">\n",
       "  <thead>\n",
       "    <tr style=\"text-align: right;\">\n",
       "      <th></th>\n",
       "      <th>Date</th>\n",
       "      <th>Day</th>\n",
       "      <th>Month</th>\n",
       "      <th>Year</th>\n",
       "      <th>Customer_Age</th>\n",
       "      <th>Age_Group</th>\n",
       "      <th>Customer_Gender</th>\n",
       "      <th>Country</th>\n",
       "      <th>State</th>\n",
       "      <th>Product_Category</th>\n",
       "      <th>Sub_Category</th>\n",
       "      <th>Product</th>\n",
       "      <th>Order_Quantity</th>\n",
       "      <th>Unit_Cost</th>\n",
       "      <th>Unit_Price</th>\n",
       "      <th>Profit</th>\n",
       "      <th>Cost</th>\n",
       "      <th>Revenue</th>\n",
       "    </tr>\n",
       "  </thead>\n",
       "  <tbody>\n",
       "    <tr>\n",
       "      <th>0</th>\n",
       "      <td>2013-11-26</td>\n",
       "      <td>26</td>\n",
       "      <td>November</td>\n",
       "      <td>2013</td>\n",
       "      <td>19</td>\n",
       "      <td>Youth (&lt;25)</td>\n",
       "      <td>M</td>\n",
       "      <td>Canada</td>\n",
       "      <td>British Columbia</td>\n",
       "      <td>Accessories</td>\n",
       "      <td>Bike Racks</td>\n",
       "      <td>Hitch Rack - 4-Bike</td>\n",
       "      <td>8</td>\n",
       "      <td>45</td>\n",
       "      <td>120</td>\n",
       "      <td>590</td>\n",
       "      <td>360</td>\n",
       "      <td>950</td>\n",
       "    </tr>\n",
       "    <tr>\n",
       "      <th>1</th>\n",
       "      <td>2015-11-26</td>\n",
       "      <td>26</td>\n",
       "      <td>November</td>\n",
       "      <td>2015</td>\n",
       "      <td>19</td>\n",
       "      <td>Youth (&lt;25)</td>\n",
       "      <td>M</td>\n",
       "      <td>Canada</td>\n",
       "      <td>British Columbia</td>\n",
       "      <td>Accessories</td>\n",
       "      <td>Bike Racks</td>\n",
       "      <td>Hitch Rack - 4-Bike</td>\n",
       "      <td>8</td>\n",
       "      <td>45</td>\n",
       "      <td>120</td>\n",
       "      <td>590</td>\n",
       "      <td>360</td>\n",
       "      <td>950</td>\n",
       "    </tr>\n",
       "    <tr>\n",
       "      <th>2</th>\n",
       "      <td>2014-03-23</td>\n",
       "      <td>23</td>\n",
       "      <td>March</td>\n",
       "      <td>2014</td>\n",
       "      <td>49</td>\n",
       "      <td>Adults (35-64)</td>\n",
       "      <td>M</td>\n",
       "      <td>Australia</td>\n",
       "      <td>New South Wales</td>\n",
       "      <td>Accessories</td>\n",
       "      <td>Bike Racks</td>\n",
       "      <td>Hitch Rack - 4-Bike</td>\n",
       "      <td>23</td>\n",
       "      <td>45</td>\n",
       "      <td>120</td>\n",
       "      <td>1366</td>\n",
       "      <td>1035</td>\n",
       "      <td>2401</td>\n",
       "    </tr>\n",
       "    <tr>\n",
       "      <th>3</th>\n",
       "      <td>2016-03-23</td>\n",
       "      <td>23</td>\n",
       "      <td>March</td>\n",
       "      <td>2016</td>\n",
       "      <td>49</td>\n",
       "      <td>Adults (35-64)</td>\n",
       "      <td>M</td>\n",
       "      <td>Australia</td>\n",
       "      <td>New South Wales</td>\n",
       "      <td>Accessories</td>\n",
       "      <td>Bike Racks</td>\n",
       "      <td>Hitch Rack - 4-Bike</td>\n",
       "      <td>20</td>\n",
       "      <td>45</td>\n",
       "      <td>120</td>\n",
       "      <td>1188</td>\n",
       "      <td>900</td>\n",
       "      <td>2088</td>\n",
       "    </tr>\n",
       "    <tr>\n",
       "      <th>4</th>\n",
       "      <td>2014-05-15</td>\n",
       "      <td>15</td>\n",
       "      <td>May</td>\n",
       "      <td>2014</td>\n",
       "      <td>47</td>\n",
       "      <td>Adults (35-64)</td>\n",
       "      <td>F</td>\n",
       "      <td>Australia</td>\n",
       "      <td>New South Wales</td>\n",
       "      <td>Accessories</td>\n",
       "      <td>Bike Racks</td>\n",
       "      <td>Hitch Rack - 4-Bike</td>\n",
       "      <td>4</td>\n",
       "      <td>45</td>\n",
       "      <td>120</td>\n",
       "      <td>238</td>\n",
       "      <td>180</td>\n",
       "      <td>418</td>\n",
       "    </tr>\n",
       "    <tr>\n",
       "      <th>...</th>\n",
       "      <td>...</td>\n",
       "      <td>...</td>\n",
       "      <td>...</td>\n",
       "      <td>...</td>\n",
       "      <td>...</td>\n",
       "      <td>...</td>\n",
       "      <td>...</td>\n",
       "      <td>...</td>\n",
       "      <td>...</td>\n",
       "      <td>...</td>\n",
       "      <td>...</td>\n",
       "      <td>...</td>\n",
       "      <td>...</td>\n",
       "      <td>...</td>\n",
       "      <td>...</td>\n",
       "      <td>...</td>\n",
       "      <td>...</td>\n",
       "      <td>...</td>\n",
       "    </tr>\n",
       "    <tr>\n",
       "      <th>113031</th>\n",
       "      <td>2016-04-12</td>\n",
       "      <td>12</td>\n",
       "      <td>April</td>\n",
       "      <td>2016</td>\n",
       "      <td>41</td>\n",
       "      <td>Adults (35-64)</td>\n",
       "      <td>M</td>\n",
       "      <td>United Kingdom</td>\n",
       "      <td>England</td>\n",
       "      <td>Clothing</td>\n",
       "      <td>Vests</td>\n",
       "      <td>Classic Vest, S</td>\n",
       "      <td>3</td>\n",
       "      <td>24</td>\n",
       "      <td>64</td>\n",
       "      <td>112</td>\n",
       "      <td>72</td>\n",
       "      <td>184</td>\n",
       "    </tr>\n",
       "    <tr>\n",
       "      <th>113032</th>\n",
       "      <td>2014-04-02</td>\n",
       "      <td>2</td>\n",
       "      <td>April</td>\n",
       "      <td>2014</td>\n",
       "      <td>18</td>\n",
       "      <td>Youth (&lt;25)</td>\n",
       "      <td>M</td>\n",
       "      <td>Australia</td>\n",
       "      <td>Queensland</td>\n",
       "      <td>Clothing</td>\n",
       "      <td>Vests</td>\n",
       "      <td>Classic Vest, M</td>\n",
       "      <td>22</td>\n",
       "      <td>24</td>\n",
       "      <td>64</td>\n",
       "      <td>655</td>\n",
       "      <td>528</td>\n",
       "      <td>1183</td>\n",
       "    </tr>\n",
       "    <tr>\n",
       "      <th>113033</th>\n",
       "      <td>2016-04-02</td>\n",
       "      <td>2</td>\n",
       "      <td>April</td>\n",
       "      <td>2016</td>\n",
       "      <td>18</td>\n",
       "      <td>Youth (&lt;25)</td>\n",
       "      <td>M</td>\n",
       "      <td>Australia</td>\n",
       "      <td>Queensland</td>\n",
       "      <td>Clothing</td>\n",
       "      <td>Vests</td>\n",
       "      <td>Classic Vest, M</td>\n",
       "      <td>22</td>\n",
       "      <td>24</td>\n",
       "      <td>64</td>\n",
       "      <td>655</td>\n",
       "      <td>528</td>\n",
       "      <td>1183</td>\n",
       "    </tr>\n",
       "    <tr>\n",
       "      <th>113034</th>\n",
       "      <td>2014-03-04</td>\n",
       "      <td>4</td>\n",
       "      <td>March</td>\n",
       "      <td>2014</td>\n",
       "      <td>37</td>\n",
       "      <td>Adults (35-64)</td>\n",
       "      <td>F</td>\n",
       "      <td>France</td>\n",
       "      <td>Seine (Paris)</td>\n",
       "      <td>Clothing</td>\n",
       "      <td>Vests</td>\n",
       "      <td>Classic Vest, L</td>\n",
       "      <td>24</td>\n",
       "      <td>24</td>\n",
       "      <td>64</td>\n",
       "      <td>684</td>\n",
       "      <td>576</td>\n",
       "      <td>1260</td>\n",
       "    </tr>\n",
       "    <tr>\n",
       "      <th>113035</th>\n",
       "      <td>2016-03-04</td>\n",
       "      <td>4</td>\n",
       "      <td>March</td>\n",
       "      <td>2016</td>\n",
       "      <td>37</td>\n",
       "      <td>Adults (35-64)</td>\n",
       "      <td>F</td>\n",
       "      <td>France</td>\n",
       "      <td>Seine (Paris)</td>\n",
       "      <td>Clothing</td>\n",
       "      <td>Vests</td>\n",
       "      <td>Classic Vest, L</td>\n",
       "      <td>23</td>\n",
       "      <td>24</td>\n",
       "      <td>64</td>\n",
       "      <td>655</td>\n",
       "      <td>552</td>\n",
       "      <td>1207</td>\n",
       "    </tr>\n",
       "  </tbody>\n",
       "</table>\n",
       "<p>113036 rows × 18 columns</p>\n",
       "</div>"
      ]
     },
     "execution_count": 103,
     "metadata": {},
     "output_type": "execute_result"
    }
   ],
   "execution_count": 103
  },
  {
   "cell_type": "markdown",
   "id": "e1381dabef139bd4",
   "metadata": {},
   "source": "View data frame info:"
  },
  {
   "cell_type": "code",
   "id": "4fd0ec2a7e66766e",
   "metadata": {
    "ExecuteTime": {
     "end_time": "2025-02-08T14:24:08.455723Z",
     "start_time": "2025-02-08T14:24:08.417885Z"
    }
   },
   "source": "df2.info()",
   "outputs": [
    {
     "name": "stdout",
     "output_type": "stream",
     "text": [
      "<class 'pandas.core.frame.DataFrame'>\n",
      "RangeIndex: 113036 entries, 0 to 113035\n",
      "Data columns (total 18 columns):\n",
      " #   Column            Non-Null Count   Dtype \n",
      "---  ------            --------------   ----- \n",
      " 0   Date              113036 non-null  object\n",
      " 1   Day               113036 non-null  int64 \n",
      " 2   Month             113036 non-null  object\n",
      " 3   Year              113036 non-null  int64 \n",
      " 4   Customer_Age      113036 non-null  int64 \n",
      " 5   Age_Group         113036 non-null  object\n",
      " 6   Customer_Gender   113036 non-null  object\n",
      " 7   Country           113036 non-null  object\n",
      " 8   State             113036 non-null  object\n",
      " 9   Product_Category  113036 non-null  object\n",
      " 10  Sub_Category      113036 non-null  object\n",
      " 11  Product           113036 non-null  object\n",
      " 12  Order_Quantity    113036 non-null  int64 \n",
      " 13  Unit_Cost         113036 non-null  int64 \n",
      " 14  Unit_Price        113036 non-null  int64 \n",
      " 15  Profit            113036 non-null  int64 \n",
      " 16  Cost              113036 non-null  int64 \n",
      " 17  Revenue           113036 non-null  int64 \n",
      "dtypes: int64(9), object(9)\n",
      "memory usage: 15.5+ MB\n"
     ]
    }
   ],
   "execution_count": 104
  },
  {
   "cell_type": "markdown",
   "id": "e80a7d16abb704c2",
   "metadata": {},
   "source": [
    "I have X columns in my dataset. \n",
    "I have X rows in my dataset."
   ]
  },
  {
   "cell_type": "code",
   "id": "4c815321f9fd105e",
   "metadata": {
    "ExecuteTime": {
     "end_time": "2025-02-08T14:24:08.509039Z",
     "start_time": "2025-02-08T14:24:08.504709Z"
    }
   },
   "source": [
    "# Dataframe dimension\n",
    "df2.shape"
   ],
   "outputs": [
    {
     "data": {
      "text/plain": [
       "(113036, 18)"
      ]
     },
     "execution_count": 105,
     "metadata": {},
     "output_type": "execute_result"
    }
   ],
   "execution_count": 105
  },
  {
   "cell_type": "code",
   "id": "6cfc49db17fefbb2",
   "metadata": {
    "ExecuteTime": {
     "end_time": "2025-02-08T14:24:08.610874Z",
     "start_time": "2025-02-08T14:24:08.606712Z"
    }
   },
   "source": [
    "# Number of columns\n",
    "df.shape[1]"
   ],
   "outputs": [
    {
     "data": {
      "text/plain": [
       "11"
      ]
     },
     "execution_count": 106,
     "metadata": {},
     "output_type": "execute_result"
    }
   ],
   "execution_count": 106
  },
  {
   "cell_type": "code",
   "id": "c4b2437a73ad8a92",
   "metadata": {
    "ExecuteTime": {
     "end_time": "2025-02-08T14:24:08.678966Z",
     "start_time": "2025-02-08T14:24:08.675114Z"
    }
   },
   "source": [
    "# Number of rows\n",
    "df.shape[0]"
   ],
   "outputs": [
    {
     "data": {
      "text/plain": [
       "11769"
      ]
     },
     "execution_count": 107,
     "metadata": {},
     "output_type": "execute_result"
    }
   ],
   "execution_count": 107
  },
  {
   "cell_type": "markdown",
   "id": "79595bbeb924c2da",
   "metadata": {},
   "source": "View column names:"
  },
  {
   "cell_type": "code",
   "id": "760a05eeb1a6a27f",
   "metadata": {
    "ExecuteTime": {
     "end_time": "2025-02-08T14:24:08.730864Z",
     "start_time": "2025-02-08T14:24:08.726603Z"
    }
   },
   "source": [
    "# What are the unique column names?\n",
    "# Notes:\n",
    "#   - Result is an Index class from pandas.\n",
    "#   - Result can be converted into Python list data type using tolist() method.\n",
    "df2.columns.tolist()"
   ],
   "outputs": [
    {
     "data": {
      "text/plain": [
       "['Date',\n",
       " 'Day',\n",
       " 'Month',\n",
       " 'Year',\n",
       " 'Customer_Age',\n",
       " 'Age_Group',\n",
       " 'Customer_Gender',\n",
       " 'Country',\n",
       " 'State',\n",
       " 'Product_Category',\n",
       " 'Sub_Category',\n",
       " 'Product',\n",
       " 'Order_Quantity',\n",
       " 'Unit_Cost',\n",
       " 'Unit_Price',\n",
       " 'Profit',\n",
       " 'Cost',\n",
       " 'Revenue']"
      ]
     },
     "execution_count": 108,
     "metadata": {},
     "output_type": "execute_result"
    }
   ],
   "execution_count": 108
  },
  {
   "cell_type": "code",
   "id": "e3b44e004b8f65a3",
   "metadata": {
    "ExecuteTime": {
     "end_time": "2025-02-08T14:24:08.769106Z",
     "start_time": "2025-02-08T14:24:08.764882Z"
    }
   },
   "source": [
    "# Find and print the total number of columns\n",
    "df2.shape[1]"
   ],
   "outputs": [
    {
     "data": {
      "text/plain": [
       "18"
      ]
     },
     "execution_count": 109,
     "metadata": {},
     "output_type": "execute_result"
    }
   ],
   "execution_count": 109
  },
  {
   "cell_type": "code",
   "id": "95b86af159d80ef8",
   "metadata": {
    "ExecuteTime": {
     "end_time": "2025-02-08T14:24:08.802814Z",
     "start_time": "2025-02-08T14:24:08.798687Z"
    }
   },
   "source": [
    "# Find and print the total number of rows\n",
    "df2.shape[0]"
   ],
   "outputs": [
    {
     "data": {
      "text/plain": [
       "113036"
      ]
     },
     "execution_count": 110,
     "metadata": {},
     "output_type": "execute_result"
    }
   ],
   "execution_count": 110
  },
  {
   "cell_type": "code",
   "id": "ffbe5c1a74bfecbb",
   "metadata": {
    "ExecuteTime": {
     "end_time": "2025-02-08T14:24:08.875928Z",
     "start_time": "2025-02-08T14:24:08.841538Z"
    }
   },
   "source": [
    "# Describe the numerical columns\n",
    "numerical_columns_2 = df2[[\n",
    " 'Customer_Age', 'Order_Quantity', 'Unit_Cost', 'Unit_Price', 'Profit', 'Cost',\n",
    " 'Revenue'\n",
    "]]\n",
    "numerical_columns_2.describe()"
   ],
   "outputs": [
    {
     "data": {
      "text/plain": [
       "        Customer_Age  Order_Quantity      Unit_Cost     Unit_Price  \\\n",
       "count  113036.000000   113036.000000  113036.000000  113036.000000   \n",
       "mean       35.919212       11.901660     267.296366     452.938427   \n",
       "std        11.021936        9.561857     549.835483     922.071219   \n",
       "min        17.000000        1.000000       1.000000       2.000000   \n",
       "25%        28.000000        2.000000       2.000000       5.000000   \n",
       "50%        35.000000       10.000000       9.000000      24.000000   \n",
       "75%        43.000000       20.000000      42.000000      70.000000   \n",
       "max        87.000000       32.000000    2171.000000    3578.000000   \n",
       "\n",
       "              Profit           Cost        Revenue  \n",
       "count  113036.000000  113036.000000  113036.000000  \n",
       "mean      285.051665     469.318695     754.370360  \n",
       "std       453.887443     884.866118    1309.094674  \n",
       "min       -30.000000       1.000000       2.000000  \n",
       "25%        29.000000      28.000000      63.000000  \n",
       "50%       101.000000     108.000000     223.000000  \n",
       "75%       358.000000     432.000000     800.000000  \n",
       "max     15096.000000   42978.000000   58074.000000  "
      ],
      "text/html": [
       "<div>\n",
       "<style scoped>\n",
       "    .dataframe tbody tr th:only-of-type {\n",
       "        vertical-align: middle;\n",
       "    }\n",
       "\n",
       "    .dataframe tbody tr th {\n",
       "        vertical-align: top;\n",
       "    }\n",
       "\n",
       "    .dataframe thead th {\n",
       "        text-align: right;\n",
       "    }\n",
       "</style>\n",
       "<table border=\"1\" class=\"dataframe\">\n",
       "  <thead>\n",
       "    <tr style=\"text-align: right;\">\n",
       "      <th></th>\n",
       "      <th>Customer_Age</th>\n",
       "      <th>Order_Quantity</th>\n",
       "      <th>Unit_Cost</th>\n",
       "      <th>Unit_Price</th>\n",
       "      <th>Profit</th>\n",
       "      <th>Cost</th>\n",
       "      <th>Revenue</th>\n",
       "    </tr>\n",
       "  </thead>\n",
       "  <tbody>\n",
       "    <tr>\n",
       "      <th>count</th>\n",
       "      <td>113036.000000</td>\n",
       "      <td>113036.000000</td>\n",
       "      <td>113036.000000</td>\n",
       "      <td>113036.000000</td>\n",
       "      <td>113036.000000</td>\n",
       "      <td>113036.000000</td>\n",
       "      <td>113036.000000</td>\n",
       "    </tr>\n",
       "    <tr>\n",
       "      <th>mean</th>\n",
       "      <td>35.919212</td>\n",
       "      <td>11.901660</td>\n",
       "      <td>267.296366</td>\n",
       "      <td>452.938427</td>\n",
       "      <td>285.051665</td>\n",
       "      <td>469.318695</td>\n",
       "      <td>754.370360</td>\n",
       "    </tr>\n",
       "    <tr>\n",
       "      <th>std</th>\n",
       "      <td>11.021936</td>\n",
       "      <td>9.561857</td>\n",
       "      <td>549.835483</td>\n",
       "      <td>922.071219</td>\n",
       "      <td>453.887443</td>\n",
       "      <td>884.866118</td>\n",
       "      <td>1309.094674</td>\n",
       "    </tr>\n",
       "    <tr>\n",
       "      <th>min</th>\n",
       "      <td>17.000000</td>\n",
       "      <td>1.000000</td>\n",
       "      <td>1.000000</td>\n",
       "      <td>2.000000</td>\n",
       "      <td>-30.000000</td>\n",
       "      <td>1.000000</td>\n",
       "      <td>2.000000</td>\n",
       "    </tr>\n",
       "    <tr>\n",
       "      <th>25%</th>\n",
       "      <td>28.000000</td>\n",
       "      <td>2.000000</td>\n",
       "      <td>2.000000</td>\n",
       "      <td>5.000000</td>\n",
       "      <td>29.000000</td>\n",
       "      <td>28.000000</td>\n",
       "      <td>63.000000</td>\n",
       "    </tr>\n",
       "    <tr>\n",
       "      <th>50%</th>\n",
       "      <td>35.000000</td>\n",
       "      <td>10.000000</td>\n",
       "      <td>9.000000</td>\n",
       "      <td>24.000000</td>\n",
       "      <td>101.000000</td>\n",
       "      <td>108.000000</td>\n",
       "      <td>223.000000</td>\n",
       "    </tr>\n",
       "    <tr>\n",
       "      <th>75%</th>\n",
       "      <td>43.000000</td>\n",
       "      <td>20.000000</td>\n",
       "      <td>42.000000</td>\n",
       "      <td>70.000000</td>\n",
       "      <td>358.000000</td>\n",
       "      <td>432.000000</td>\n",
       "      <td>800.000000</td>\n",
       "    </tr>\n",
       "    <tr>\n",
       "      <th>max</th>\n",
       "      <td>87.000000</td>\n",
       "      <td>32.000000</td>\n",
       "      <td>2171.000000</td>\n",
       "      <td>3578.000000</td>\n",
       "      <td>15096.000000</td>\n",
       "      <td>42978.000000</td>\n",
       "      <td>58074.000000</td>\n",
       "    </tr>\n",
       "  </tbody>\n",
       "</table>\n",
       "</div>"
      ]
     },
     "execution_count": 111,
     "metadata": {},
     "output_type": "execute_result"
    }
   ],
   "execution_count": 111
  },
  {
   "cell_type": "code",
   "id": "b410da2be812efa3",
   "metadata": {
    "ExecuteTime": {
     "end_time": "2025-02-08T14:24:08.932698Z",
     "start_time": "2025-02-08T14:24:08.928188Z"
    }
   },
   "source": [
    "# Look more closely at the data types of numerical columns\n",
    "numerical_columns_2.dtypes"
   ],
   "outputs": [
    {
     "data": {
      "text/plain": [
       "Customer_Age      int64\n",
       "Order_Quantity    int64\n",
       "Unit_Cost         int64\n",
       "Unit_Price        int64\n",
       "Profit            int64\n",
       "Cost              int64\n",
       "Revenue           int64\n",
       "dtype: object"
      ]
     },
     "execution_count": 112,
     "metadata": {},
     "output_type": "execute_result"
    }
   ],
   "execution_count": 112
  },
  {
   "cell_type": "code",
   "id": "9ebdf9959bc95b39",
   "metadata": {
    "ExecuteTime": {
     "end_time": "2025-02-08T14:24:09.113451Z",
     "start_time": "2025-02-08T14:24:09.026907Z"
    }
   },
   "source": [
    "# Explore the values of category columns:\n",
    "category_columns_2 = df2[[\n",
    " 'Age_Group', 'Customer_Gender', 'Country', 'State', 'Product_Category',\n",
    " 'Sub_Category', 'Product',\n",
    "]]\n",
    "category_columns_2.describe()"
   ],
   "outputs": [
    {
     "data": {
      "text/plain": [
       "             Age_Group Customer_Gender        Country       State  \\\n",
       "count           113036          113036         113036      113036   \n",
       "unique               4               2              6          53   \n",
       "top     Adults (35-64)               M  United States  California   \n",
       "freq             55824           58312          39206       22450   \n",
       "\n",
       "       Product_Category     Sub_Category                Product  \n",
       "count            113036           113036                 113036  \n",
       "unique                3               17                    130  \n",
       "top         Accessories  Tires and Tubes  Water Bottle - 30 oz.  \n",
       "freq              70120            33870                  10794  "
      ],
      "text/html": [
       "<div>\n",
       "<style scoped>\n",
       "    .dataframe tbody tr th:only-of-type {\n",
       "        vertical-align: middle;\n",
       "    }\n",
       "\n",
       "    .dataframe tbody tr th {\n",
       "        vertical-align: top;\n",
       "    }\n",
       "\n",
       "    .dataframe thead th {\n",
       "        text-align: right;\n",
       "    }\n",
       "</style>\n",
       "<table border=\"1\" class=\"dataframe\">\n",
       "  <thead>\n",
       "    <tr style=\"text-align: right;\">\n",
       "      <th></th>\n",
       "      <th>Age_Group</th>\n",
       "      <th>Customer_Gender</th>\n",
       "      <th>Country</th>\n",
       "      <th>State</th>\n",
       "      <th>Product_Category</th>\n",
       "      <th>Sub_Category</th>\n",
       "      <th>Product</th>\n",
       "    </tr>\n",
       "  </thead>\n",
       "  <tbody>\n",
       "    <tr>\n",
       "      <th>count</th>\n",
       "      <td>113036</td>\n",
       "      <td>113036</td>\n",
       "      <td>113036</td>\n",
       "      <td>113036</td>\n",
       "      <td>113036</td>\n",
       "      <td>113036</td>\n",
       "      <td>113036</td>\n",
       "    </tr>\n",
       "    <tr>\n",
       "      <th>unique</th>\n",
       "      <td>4</td>\n",
       "      <td>2</td>\n",
       "      <td>6</td>\n",
       "      <td>53</td>\n",
       "      <td>3</td>\n",
       "      <td>17</td>\n",
       "      <td>130</td>\n",
       "    </tr>\n",
       "    <tr>\n",
       "      <th>top</th>\n",
       "      <td>Adults (35-64)</td>\n",
       "      <td>M</td>\n",
       "      <td>United States</td>\n",
       "      <td>California</td>\n",
       "      <td>Accessories</td>\n",
       "      <td>Tires and Tubes</td>\n",
       "      <td>Water Bottle - 30 oz.</td>\n",
       "    </tr>\n",
       "    <tr>\n",
       "      <th>freq</th>\n",
       "      <td>55824</td>\n",
       "      <td>58312</td>\n",
       "      <td>39206</td>\n",
       "      <td>22450</td>\n",
       "      <td>70120</td>\n",
       "      <td>33870</td>\n",
       "      <td>10794</td>\n",
       "    </tr>\n",
       "  </tbody>\n",
       "</table>\n",
       "</div>"
      ]
     },
     "execution_count": 113,
     "metadata": {},
     "output_type": "execute_result"
    }
   ],
   "execution_count": 113
  },
  {
   "cell_type": "code",
   "id": "9cb850830c5eb0df",
   "metadata": {
    "ExecuteTime": {
     "end_time": "2025-02-08T14:24:09.237745Z",
     "start_time": "2025-02-08T14:24:09.232950Z"
    }
   },
   "source": [
    "# Look more closely at the data types of category columns\n",
    "category_columns_2.dtypes"
   ],
   "outputs": [
    {
     "data": {
      "text/plain": [
       "Age_Group           object\n",
       "Customer_Gender     object\n",
       "Country             object\n",
       "State               object\n",
       "Product_Category    object\n",
       "Sub_Category        object\n",
       "Product             object\n",
       "dtype: object"
      ]
     },
     "execution_count": 114,
     "metadata": {},
     "output_type": "execute_result"
    }
   ],
   "execution_count": 114
  },
  {
   "cell_type": "markdown",
   "id": "a576d799fd589aa8",
   "metadata": {},
   "source": "Create one graph to quickly visualize your data using matplotlib."
  },
  {
   "cell_type": "code",
   "id": "5e1150f0de941687",
   "metadata": {
    "ExecuteTime": {
     "end_time": "2025-02-08T14:24:09.605456Z",
     "start_time": "2025-02-08T14:24:09.384085Z"
    }
   },
   "source": [
    "# I will create a line chart to view price the screen size.\n",
    "\n",
    "# Group data by year and pick a column to get the count values\n",
    "count_by_year = df2.groupby('Year').count()['Date'].reset_index()\n",
    "\n",
    "# Set the figure dimension\n",
    "plt.figure(figsize=(10, 5))\n",
    "\n",
    "# Plot line chart\n",
    "plt.plot(\n",
    "    count_by_year['Year'], # x\n",
    "    count_by_year['Date'], # y\n",
    "    marker='o',            # circle marker\n",
    "    linestyle='-'          # solid line\n",
    ")\n",
    "\n",
    "# Add axis labels and chart title\n",
    "plt.xlabel('Year')\n",
    "plt.ylabel('Count')\n",
    "plt.title('Total number of bike sales per year')\n",
    "\n",
    "# Show chart\n",
    "plt.show()\n"
   ],
   "outputs": [
    {
     "data": {
      "text/plain": [
       "<Figure size 1000x500 with 1 Axes>"
      ],
      "image/png": "[encoded data removed]"
     },
     "metadata": {},
     "output_type": "display_data"
    }
   ],
   "execution_count": 115
  },
  {
   "cell_type": "markdown",
   "id": "8ce67fcf",
   "metadata": {},
   "source": [
    "# Assignment #2 - Data Gathering and Warehousing - DSSA-5102\n",
    "\n",
    "Instructor: Melissa Laurino</br>\n",
    "Spring 2025</br>\n",
    "\n",
    "Our next objective is to choose <b>ONE</b> of the datasets from our previous assignment to explore further. The datasets we have chose for Assignment #1 can be cleaned by practicing our Python skills. Depending on your data, and especially the size of it, it may be more beneficial to clean in a language you are comfortable working in already instead of cleaning our data with a new language like SQL. SQL may be needed for cleaning of databases that are very large or hundreds of terabytes in size. We will clean our datasets first before we attempt to load them into our SQL databases. </br>\n",
    "Not only is data everywhere, but it can also be messy. Messy data can originate in the data collection process, whether this is occurring with manual data entry and typos, or with outdated collection forms that hold multiple variables that mean the same thing. For example, while collecting data on marine mammals, it is important to note who the observer is. With Python and R, reading excel or csv files, these languages will take the same variable written as, \"Melissa Laurino\" and \"melissa laurino\" as two separate observers because they are case sensitive. However, this is not accurate because they are meant to be the same person within the observer column or category.</br>\n",
    "Clean data is important for consistency that leads to accurate results and analysis. If we are using our data to make informed decisions in our field, we need it to be clean. We do not want to omit rows that may make a difference to our dataset because they do not fit a certain criteria due to typos, but how much should the original dataset be altered? Depending on your field, there may be regulations and compliance standards regarding data quality. Protocols may state if the data does not read exactly how it should be, then it should be ommitted. </br>\n",
    "For our learning objectives in this class, we will clean our data. Our first assignment in our warehousing journey was important because it allowed us to gain a better understanding of a dataset that we personally did not collect. Now that we have that understanding, we can explore it in greater depth and clean it as necessary.<br>\n",
    "<br>\n",
    "For Assignment #2, our objective is to clean one of the datasets explored above using Python to prepare for our future database from scratch. Include at a minimum:\n",
    "\n",
    "- The chosen dataset name, company/organization resonsible for data collection, the download link, and date of access.\n",
    "- Load neccessary packages and data (Only if you start a new session in Jupyter, not if you are continuing from above).\n",
    "- Make all column names lower case, contain no spaces, and no special characters (SQL will not like this otherwise).\n",
    "- *Make detailed comments with your code* <br>\n",
    "- *Record EVERYTHING ommitted and changed if necessary* <br>\n",
    "- Since we are exploring and learning without a specific organization policy, use your best judgement when ommitting records. If you have chosen to ommit data, please explain why.</br>\n",
    "- Save your new CLEAN data as a .csv file. \n",
    "\n",
    "\n",
    "Comment ALL code to recieve full credit. The above bullet points are to help guide you in your process, but extensive cleaning is expected for your data set (This will also save you a lot of time down the line!). \n",
    "<br>\n",
    "\n",
    "<br>\n",
    "<b>The code that I have written below is just to give you ideas on exploring and cleaning data. It is encouraged that you explore and clean it in greater detail than what I have written below for full credit.</b><br>"
   ]
  },
  {
   "cell_type": "markdown",
   "id": "b07cb638-34d9-4342-92bb-f405ae1789cd",
   "metadata": {},
   "source": [
    "<b>Dataset name:</b> Laptop Price Dataset<br>\n",
    "<b>Company/Government Organization:</b> Kaggle<br>\n",
    "Download link: <a href=\"https://www.kaggle.com/datasets/asinow/laptop-price-dataset\">Laptop Price Dataset</a><br>\n",
    "Date of Access: February 6, 2025"
   ]
  },
  {
   "cell_type": "markdown",
   "id": "a707f9e0-68fe-4304-8bbe-a13921b7bf78",
   "metadata": {},
   "source": [
    "**Why did you choose to continue working with this dataset?**<br><br>\n",
    "Since two of my dataset were pre-cleaned, I made some change by adding **NA values** and **typos** in the operating system column so that I can practice cleaning it."
   ]
  },
  {
   "cell_type": "markdown",
   "id": "671734a8-46a4-4d71-81e7-ce3c62f716b4",
   "metadata": {},
   "source": [
    "Make all column names lowercase, with no spaces or special characters:"
   ]
  },
  {
   "cell_type": "code",
   "id": "79bf2359",
   "metadata": {
    "scrolled": true,
    "ExecuteTime": {
     "end_time": "2025-02-08T14:24:09.653725Z",
     "start_time": "2025-02-08T14:24:09.647924Z"
    }
   },
   "source": [
    "# Make column names lowercase, remove spaces and parentheses\n",
    "# Ref:\n",
    "# https://stackoverflow.com/questions/22588316/pandas-applying-regex-to-replace-values\n",
    "df.columns = (df.columns\n",
    "              .str.lower()\n",
    "              .str.replace(r'[()]', '', regex=True)\n",
    "              .str.replace(' ', '_'))\n",
    "df.columns"
   ],
   "outputs": [
    {
     "data": {
      "text/plain": [
       "Index(['brand', 'processor', 'ram_gb', 'storage', 'gpu', 'screen_size_inch',\n",
       "       'resolution', 'battery_life_hours', 'weight_kg', 'operating_system',\n",
       "       'price_$'],\n",
       "      dtype='object')"
      ]
     },
     "execution_count": 116,
     "metadata": {},
     "output_type": "execute_result"
    }
   ],
   "execution_count": 116
  },
  {
   "metadata": {
    "ExecuteTime": {
     "end_time": "2025-02-08T14:24:09.724175Z",
     "start_time": "2025-02-08T14:24:09.718349Z"
    }
   },
   "cell_type": "code",
   "source": [
    "# The price_$ column is still not correct\n",
    "# I will rename it manually\n",
    "df = df.rename(columns={'price_$': 'price'})\n",
    "df.columns"
   ],
   "id": "79b5062c652a91e5",
   "outputs": [
    {
     "data": {
      "text/plain": [
       "Index(['brand', 'processor', 'ram_gb', 'storage', 'gpu', 'screen_size_inch',\n",
       "       'resolution', 'battery_life_hours', 'weight_kg', 'operating_system',\n",
       "       'price'],\n",
       "      dtype='object')"
      ]
     },
     "execution_count": 117,
     "metadata": {},
     "output_type": "execute_result"
    }
   ],
   "execution_count": 117
  },
  {
   "cell_type": "code",
   "id": "e6ab7e05",
   "metadata": {
    "ExecuteTime": {
     "end_time": "2025-02-08T14:24:09.782255Z",
     "start_time": "2025-02-08T14:24:09.775701Z"
    }
   },
   "source": [
    "# Count how many rows have NAs\n",
    "# axis=1: search data by rows\n",
    "df.isna().any(axis=1).sum()"
   ],
   "outputs": [
    {
     "data": {
      "text/plain": [
       "np.int64(1)"
      ]
     },
     "execution_count": 118,
     "metadata": {},
     "output_type": "execute_result"
    }
   ],
   "execution_count": 118
  },
  {
   "cell_type": "code",
   "id": "96de4afc",
   "metadata": {
    "ExecuteTime": {
     "end_time": "2025-02-08T14:24:09.817301Z",
     "start_time": "2025-02-08T14:24:09.810387Z"
    }
   },
   "source": [
    "# Drop NAs\n",
    "# inplace=True: modify the df rather than creating a new variable to store the new result\n",
    "df.dropna(inplace=True)"
   ],
   "outputs": [],
   "execution_count": 119
  },
  {
   "cell_type": "code",
   "id": "eb86068e",
   "metadata": {
    "ExecuteTime": {
     "end_time": "2025-02-08T14:24:09.844345Z",
     "start_time": "2025-02-08T14:24:09.836840Z"
    }
   },
   "source": [
    "# Count how many rows have NAs again\n",
    "# axis=1: search data by rows\n",
    "df.isna().any(axis=1).sum()"
   ],
   "outputs": [
    {
     "data": {
      "text/plain": [
       "np.int64(0)"
      ]
     },
     "execution_count": 120,
     "metadata": {},
     "output_type": "execute_result"
    }
   ],
   "execution_count": 120
  },
  {
   "cell_type": "code",
   "id": "57e6e8b1",
   "metadata": {
    "ExecuteTime": {
     "end_time": "2025-02-08T14:24:09.868712Z",
     "start_time": "2025-02-08T14:24:09.863667Z"
    }
   },
   "source": [
    "# Find unique values in the operating system column\n",
    "unique_systems = df['operating_system'].unique()\n",
    "unique_systems"
   ],
   "outputs": [
    {
     "data": {
      "text/plain": [
       "array(['FreeDOS', 'Linux', 'Windows', 'macOS', 'Linuxes'], dtype=object)"
      ]
     },
     "execution_count": 121,
     "metadata": {},
     "output_type": "execute_result"
    }
   ],
   "execution_count": 121
  },
  {
   "cell_type": "code",
   "id": "cb333a28-a23b-40d6-b273-b2b6e2549179",
   "metadata": {
    "ExecuteTime": {
     "end_time": "2025-02-08T14:24:09.892165Z",
     "start_time": "2025-02-08T14:24:09.888103Z"
    }
   },
   "source": [
    "# We can see that 'Linuxes' is a typo, so I will rename it to Linux\n",
    "# https://pandas.pydata.org/docs/reference/api/pandas.DataFrame.replace.html\n",
    "df['operating_system'] = df['operating_system'].replace({'Linuxes': 'Linux'})"
   ],
   "outputs": [],
   "execution_count": 122
  },
  {
   "cell_type": "code",
   "id": "738acfbc-9371-4eb2-89f6-377d56bc0e69",
   "metadata": {
    "ExecuteTime": {
     "end_time": "2025-02-08T14:24:09.915366Z",
     "start_time": "2025-02-08T14:24:09.909938Z"
    }
   },
   "source": [
    "# Check the unique values again\n",
    "unique_systems = df['operating_system'].unique()\n",
    "unique_systems"
   ],
   "outputs": [
    {
     "data": {
      "text/plain": [
       "array(['FreeDOS', 'Linux', 'Windows', 'macOS'], dtype=object)"
      ]
     },
     "execution_count": 123,
     "metadata": {},
     "output_type": "execute_result"
    }
   ],
   "execution_count": 123
  },
  {
   "cell_type": "code",
   "id": "f1fb688b-a75b-4c29-a085-21b2507e10d1",
   "metadata": {
    "ExecuteTime": {
     "end_time": "2025-02-08T14:24:10.011167Z",
     "start_time": "2025-02-08T14:24:09.933821Z"
    }
   },
   "source": [
    "# Done! Final step is to save the cleaned data into a new csv file\n",
    "# https://stackoverflow.com/questions/75242470/how-to-export-a-cleaned-dataframe-to-csv\n",
    "# index=False: prevent adding row indices.\n",
    "df.to_csv('cleaned_laptop_data.csv', index=False)"
   ],
   "outputs": [],
   "execution_count": 124
  }
 ],
 "metadata": {
  "kernelspec": {
   "display_name": "Python 3 (ipykernel)",
   "language": "python",
   "name": "python3"
  },
  "language_info": {
   "codemirror_mode": {
    "name": "ipython",
    "version": 3
   },
   "file_extension": ".py",
   "mimetype": "text/x-python",
   "name": "python",
   "nbconvert_exporter": "python",
   "pygments_lexer": "ipython3",
   "version": "3.9.21"
  }
 },
 "nbformat": 4,
 "nbformat_minor": 5
}
