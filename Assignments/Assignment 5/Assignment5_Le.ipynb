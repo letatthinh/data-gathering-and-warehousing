{
 "cells": [
  {
   "cell_type": "markdown",
   "id": "ae743577-a970-451b-948f-d528d21c63d8",
   "metadata": {},
   "source": [
    "# In Class Activity - Spotify Database - SQL Practice"
   ]
  },
  {
   "cell_type": "markdown",
   "id": "648408a3-f1b6-4f97-9cc2-2d740b59d5d2",
   "metadata": {},
   "source": [
    "Instructor: Melissa Laurino</br>\n",
    "Spring 2025</br>\n",
    "\n",
    "Name:\n",
    "</br>\n",
    "Date:\n",
    "<br>\n",
    "<br>"
   ]
  },
  {
   "cell_type": "code",
   "id": "c93e0d77-aebd-4c66-a2b2-6b9cd7933bc8",
   "metadata": {
    "ExecuteTime": {
     "end_time": "2025-02-20T23:52:54.775751Z",
     "start_time": "2025-02-20T23:52:54.771609Z"
    }
   },
   "source": [
    "# Load necessary packages:\n",
    "from sqlalchemy import create_engine, inspect, text # Database navigation\n",
    "import sqlite3 # A second option for working with databases\n",
    "import pandas as pd # Python data manilpulation"
   ],
   "outputs": [],
   "execution_count": 19
  },
  {
   "cell_type": "code",
   "id": "09436b30-c735-4629-8bb3-6a5a2925046a",
   "metadata": {
    "ExecuteTime": {
     "end_time": "2025-02-20T23:52:54.802792Z",
     "start_time": "2025-02-20T23:52:54.798333Z"
    }
   },
   "source": [
    "# Create a SQLite database and engine\n",
    "db_file = \"spotify_data.db\"\n",
    "engine = create_engine(f\"sqlite:///{db_file}\")"
   ],
   "outputs": [],
   "execution_count": 20
  },
  {
   "cell_type": "code",
   "id": "74700106-a8d3-48b5-8eb5-2acf9c8a5450",
   "metadata": {
    "ExecuteTime": {
     "end_time": "2025-02-20T23:52:54.820437Z",
     "start_time": "2025-02-20T23:52:54.809932Z"
    }
   },
   "source": [
    "# Inspect the database to list the fields\n",
    "inspector = inspect(engine)\n",
    "columns = inspector.get_columns(\"spotify_history\")\n",
    "\n",
    "# Print column names\n",
    "print(\"Columns in spotify_history table:\")\n",
    "for col in columns:\n",
    "    print(col[\"name\"], \"-\", col[\"type\"])"
   ],
   "outputs": [
    {
     "name": "stdout",
     "output_type": "stream",
     "text": [
      "Columns in spotify_history table:\n",
      "ts - TEXT\n",
      "platform - TEXT\n",
      "ms_played - BIGINT\n",
      "conn_country - TEXT\n",
      "ip_addr - TEXT\n",
      "master_metadata_track_name - TEXT\n",
      "master_metadata_album_artist_name - TEXT\n",
      "master_metadata_album_album_name - TEXT\n",
      "spotify_track_uri - TEXT\n",
      "episode_name - FLOAT\n",
      "episode_show_name - FLOAT\n",
      "spotify_episode_uri - FLOAT\n",
      "audiobook_title - FLOAT\n",
      "audiobook_uri - FLOAT\n",
      "audiobook_chapter_uri - FLOAT\n",
      "audiobook_chapter_title - FLOAT\n",
      "reason_start - TEXT\n",
      "reason_end - TEXT\n",
      "shuffle - BOOLEAN\n",
      "skipped - BOOLEAN\n",
      "offline - BOOLEAN\n",
      "offline_timestamp - FLOAT\n",
      "incognito_mode - BOOLEAN\n",
      "year - BIGINT\n"
     ]
    }
   ],
   "execution_count": 21
  },
  {
   "cell_type": "markdown",
   "id": "1946d38f-3421-4284-9e97-767f24ae729b",
   "metadata": {},
   "source": [
    "For practice, there are not multiple tables in this database. There is only one table named spotify_history."
   ]
  },
  {
   "cell_type": "markdown",
   "id": "f4ef2d42-d445-4d96-983a-444c09e97e97",
   "metadata": {},
   "source": [
    "Metadata for this database can be found here: https://github.com/MelissaLaurino/SpotifyStreamingHistory"
   ]
  },
  {
   "cell_type": "markdown",
   "id": "29ea3225-6c20-46aa-881b-556a754089f6",
   "metadata": {},
   "source": [
    "We can use COUNT( * ) to summarize and count occurrences in SQL. Use COUNT( * ) below:"
   ]
  },
  {
   "cell_type": "markdown",
   "id": "fbb4cf6b-4b9c-4345-ac1c-d7836078ab50",
   "metadata": {},
   "source": [
    "Query 1: <br>\n",
    "Find the top 30 artists listened to in the year 2024."
   ]
  },
  {
   "cell_type": "code",
   "id": "8363df2a-72b0-4371-ab65-ca108448d835",
   "metadata": {
    "ExecuteTime": {
     "end_time": "2025-02-20T23:52:55.517457Z",
     "start_time": "2025-02-20T23:52:54.845530Z"
    }
   },
   "source": [
    "with engine.connect() as connection:\n",
    "    query = text(\"\"\"\n",
    "        SELECT master_metadata_album_artist_name, COUNT(*)\n",
    "        FROM spotify_history\n",
    "        WHERE year = 2024\n",
    "        GROUP BY master_metadata_album_artist_name\n",
    "        ORDER BY COUNT(*) DESC\n",
    "        LIMIT 30;\n",
    "    \"\"\")\n",
    "    top_30_artists_in_2024 = pd.read_sql(query, connection)\n",
    "\n",
    "top_30_artists_in_2024"
   ],
   "outputs": [
    {
     "data": {
      "text/plain": [
       "     master_metadata_album_artist_name  COUNT(*)\n",
       "0                          Miley Cyrus       680\n",
       "1                        Ariana Grande       583\n",
       "2                               Hozier       512\n",
       "3                               Eminem       454\n",
       "4                    Sabrina Carpenter       444\n",
       "5                            Lady Gaga       326\n",
       "6                        Billie Eilish       284\n",
       "7                           Noah Cyrus       282\n",
       "8                        Amy Winehouse       266\n",
       "9                          Teddy Swims       257\n",
       "10                        Taylor Swift       257\n",
       "11                      Olivia Rodrigo       249\n",
       "12                          Noah Kahan       242\n",
       "13                      Britney Spears       230\n",
       "14                    Steven Rodriguez       224\n",
       "15                               Dasha       216\n",
       "16                                 CIL       216\n",
       "17                        Benson Boone       215\n",
       "18                             Beyoncé       211\n",
       "19                      Mumford & Sons       189\n",
       "20                        Lana Del Rey       188\n",
       "21                 Panic! At The Disco       177\n",
       "22                           Meg & Dia       165\n",
       "23                        Natalie Jane       158\n",
       "24                               Kesha       149\n",
       "25                       Chappell Roan       148\n",
       "26                       Avril Lavigne       128\n",
       "27  Scott Bradlee's Postmodern Jukebox       115\n",
       "28                                 Sia       113\n",
       "29                          Tate McRae       102"
      ],
      "text/html": [
       "<div>\n",
       "<style scoped>\n",
       "    .dataframe tbody tr th:only-of-type {\n",
       "        vertical-align: middle;\n",
       "    }\n",
       "\n",
       "    .dataframe tbody tr th {\n",
       "        vertical-align: top;\n",
       "    }\n",
       "\n",
       "    .dataframe thead th {\n",
       "        text-align: right;\n",
       "    }\n",
       "</style>\n",
       "<table border=\"1\" class=\"dataframe\">\n",
       "  <thead>\n",
       "    <tr style=\"text-align: right;\">\n",
       "      <th></th>\n",
       "      <th>master_metadata_album_artist_name</th>\n",
       "      <th>COUNT(*)</th>\n",
       "    </tr>\n",
       "  </thead>\n",
       "  <tbody>\n",
       "    <tr>\n",
       "      <th>0</th>\n",
       "      <td>Miley Cyrus</td>\n",
       "      <td>680</td>\n",
       "    </tr>\n",
       "    <tr>\n",
       "      <th>1</th>\n",
       "      <td>Ariana Grande</td>\n",
       "      <td>583</td>\n",
       "    </tr>\n",
       "    <tr>\n",
       "      <th>2</th>\n",
       "      <td>Hozier</td>\n",
       "      <td>512</td>\n",
       "    </tr>\n",
       "    <tr>\n",
       "      <th>3</th>\n",
       "      <td>Eminem</td>\n",
       "      <td>454</td>\n",
       "    </tr>\n",
       "    <tr>\n",
       "      <th>4</th>\n",
       "      <td>Sabrina Carpenter</td>\n",
       "      <td>444</td>\n",
       "    </tr>\n",
       "    <tr>\n",
       "      <th>5</th>\n",
       "      <td>Lady Gaga</td>\n",
       "      <td>326</td>\n",
       "    </tr>\n",
       "    <tr>\n",
       "      <th>6</th>\n",
       "      <td>Billie Eilish</td>\n",
       "      <td>284</td>\n",
       "    </tr>\n",
       "    <tr>\n",
       "      <th>7</th>\n",
       "      <td>Noah Cyrus</td>\n",
       "      <td>282</td>\n",
       "    </tr>\n",
       "    <tr>\n",
       "      <th>8</th>\n",
       "      <td>Amy Winehouse</td>\n",
       "      <td>266</td>\n",
       "    </tr>\n",
       "    <tr>\n",
       "      <th>9</th>\n",
       "      <td>Teddy Swims</td>\n",
       "      <td>257</td>\n",
       "    </tr>\n",
       "    <tr>\n",
       "      <th>10</th>\n",
       "      <td>Taylor Swift</td>\n",
       "      <td>257</td>\n",
       "    </tr>\n",
       "    <tr>\n",
       "      <th>11</th>\n",
       "      <td>Olivia Rodrigo</td>\n",
       "      <td>249</td>\n",
       "    </tr>\n",
       "    <tr>\n",
       "      <th>12</th>\n",
       "      <td>Noah Kahan</td>\n",
       "      <td>242</td>\n",
       "    </tr>\n",
       "    <tr>\n",
       "      <th>13</th>\n",
       "      <td>Britney Spears</td>\n",
       "      <td>230</td>\n",
       "    </tr>\n",
       "    <tr>\n",
       "      <th>14</th>\n",
       "      <td>Steven Rodriguez</td>\n",
       "      <td>224</td>\n",
       "    </tr>\n",
       "    <tr>\n",
       "      <th>15</th>\n",
       "      <td>Dasha</td>\n",
       "      <td>216</td>\n",
       "    </tr>\n",
       "    <tr>\n",
       "      <th>16</th>\n",
       "      <td>CIL</td>\n",
       "      <td>216</td>\n",
       "    </tr>\n",
       "    <tr>\n",
       "      <th>17</th>\n",
       "      <td>Benson Boone</td>\n",
       "      <td>215</td>\n",
       "    </tr>\n",
       "    <tr>\n",
       "      <th>18</th>\n",
       "      <td>Beyoncé</td>\n",
       "      <td>211</td>\n",
       "    </tr>\n",
       "    <tr>\n",
       "      <th>19</th>\n",
       "      <td>Mumford &amp; Sons</td>\n",
       "      <td>189</td>\n",
       "    </tr>\n",
       "    <tr>\n",
       "      <th>20</th>\n",
       "      <td>Lana Del Rey</td>\n",
       "      <td>188</td>\n",
       "    </tr>\n",
       "    <tr>\n",
       "      <th>21</th>\n",
       "      <td>Panic! At The Disco</td>\n",
       "      <td>177</td>\n",
       "    </tr>\n",
       "    <tr>\n",
       "      <th>22</th>\n",
       "      <td>Meg &amp; Dia</td>\n",
       "      <td>165</td>\n",
       "    </tr>\n",
       "    <tr>\n",
       "      <th>23</th>\n",
       "      <td>Natalie Jane</td>\n",
       "      <td>158</td>\n",
       "    </tr>\n",
       "    <tr>\n",
       "      <th>24</th>\n",
       "      <td>Kesha</td>\n",
       "      <td>149</td>\n",
       "    </tr>\n",
       "    <tr>\n",
       "      <th>25</th>\n",
       "      <td>Chappell Roan</td>\n",
       "      <td>148</td>\n",
       "    </tr>\n",
       "    <tr>\n",
       "      <th>26</th>\n",
       "      <td>Avril Lavigne</td>\n",
       "      <td>128</td>\n",
       "    </tr>\n",
       "    <tr>\n",
       "      <th>27</th>\n",
       "      <td>Scott Bradlee's Postmodern Jukebox</td>\n",
       "      <td>115</td>\n",
       "    </tr>\n",
       "    <tr>\n",
       "      <th>28</th>\n",
       "      <td>Sia</td>\n",
       "      <td>113</td>\n",
       "    </tr>\n",
       "    <tr>\n",
       "      <th>29</th>\n",
       "      <td>Tate McRae</td>\n",
       "      <td>102</td>\n",
       "    </tr>\n",
       "  </tbody>\n",
       "</table>\n",
       "</div>"
      ]
     },
     "execution_count": 22,
     "metadata": {},
     "output_type": "execute_result"
    }
   ],
   "execution_count": 22
  },
  {
   "cell_type": "markdown",
   "id": "91126135-9a29-4b71-8fc5-3244714b2df5",
   "metadata": {},
   "source": [
    "Query 2: <br>\n",
    "Find the top 30 songs listened to in the year 2017."
   ]
  },
  {
   "cell_type": "code",
   "id": "113f1b54-f671-42db-89ab-f06994a841b4",
   "metadata": {
    "ExecuteTime": {
     "end_time": "2025-02-20T23:52:56.385420Z",
     "start_time": "2025-02-20T23:52:55.561775Z"
    }
   },
   "source": [
    "with engine.connect() as connection:\n",
    "    query = text(\"\"\"\n",
    "        SELECT master_metadata_track_name, COUNT(*)\n",
    "        FROM spotify_history\n",
    "        WHERE year = 2017\n",
    "        GROUP BY master_metadata_track_name\n",
    "        ORDER BY COUNT(*) DESC\n",
    "        LIMIT 30;\n",
    "    \"\"\")\n",
    "    top_30_songs_in_2017 = pd.read_sql(query, connection)\n",
    "\n",
    "top_30_songs_in_2017"
   ],
   "outputs": [
    {
     "data": {
      "text/plain": [
       "                           master_metadata_track_name  COUNT(*)\n",
       "0                                              Malibu       223\n",
       "1                                               Close       150\n",
       "2                                        Shape of You       147\n",
       "3                     It Ain’t Me (with Selena Gomez)       117\n",
       "4                                        Take Me Down        95\n",
       "5                                             Rainbow        95\n",
       "6                           Havana (feat. Young Thug)        95\n",
       "7                                    Week Without You        88\n",
       "8                                              Anyway        86\n",
       "9                                        Love Someone        82\n",
       "10                                        Galway Girl        75\n",
       "11                                            Praying        72\n",
       "12            Rockabye (feat. Sean Paul & Anne-Marie)        70\n",
       "13                                      Hunt You Down        69\n",
       "14                                      All Right Now        67\n",
       "15                                      Stay Together        64\n",
       "16                                    Learn To Let Go        63\n",
       "17                                              Vibe.        61\n",
       "18                                           Bad Mood        60\n",
       "19                           Something Just Like This        59\n",
       "20                                 Drunk on Your Love        59\n",
       "21                  Woman (feat. The Dap-Kings Horns)        58\n",
       "22                                            Perfect        56\n",
       "23                                              Boots        54\n",
       "24                                             Tuxedo        51\n",
       "25                                           Inspired        51\n",
       "26                                   Never Forget You        49\n",
       "27                 Despacito (Featuring Daddy Yankee)        49\n",
       "28  Old Flames (Can't Hold A Candle To You) (feat....        48\n",
       "29                                          I'm Stuck        48"
      ],
      "text/html": [
       "<div>\n",
       "<style scoped>\n",
       "    .dataframe tbody tr th:only-of-type {\n",
       "        vertical-align: middle;\n",
       "    }\n",
       "\n",
       "    .dataframe tbody tr th {\n",
       "        vertical-align: top;\n",
       "    }\n",
       "\n",
       "    .dataframe thead th {\n",
       "        text-align: right;\n",
       "    }\n",
       "</style>\n",
       "<table border=\"1\" class=\"dataframe\">\n",
       "  <thead>\n",
       "    <tr style=\"text-align: right;\">\n",
       "      <th></th>\n",
       "      <th>master_metadata_track_name</th>\n",
       "      <th>COUNT(*)</th>\n",
       "    </tr>\n",
       "  </thead>\n",
       "  <tbody>\n",
       "    <tr>\n",
       "      <th>0</th>\n",
       "      <td>Malibu</td>\n",
       "      <td>223</td>\n",
       "    </tr>\n",
       "    <tr>\n",
       "      <th>1</th>\n",
       "      <td>Close</td>\n",
       "      <td>150</td>\n",
       "    </tr>\n",
       "    <tr>\n",
       "      <th>2</th>\n",
       "      <td>Shape of You</td>\n",
       "      <td>147</td>\n",
       "    </tr>\n",
       "    <tr>\n",
       "      <th>3</th>\n",
       "      <td>It Ain’t Me (with Selena Gomez)</td>\n",
       "      <td>117</td>\n",
       "    </tr>\n",
       "    <tr>\n",
       "      <th>4</th>\n",
       "      <td>Take Me Down</td>\n",
       "      <td>95</td>\n",
       "    </tr>\n",
       "    <tr>\n",
       "      <th>5</th>\n",
       "      <td>Rainbow</td>\n",
       "      <td>95</td>\n",
       "    </tr>\n",
       "    <tr>\n",
       "      <th>6</th>\n",
       "      <td>Havana (feat. Young Thug)</td>\n",
       "      <td>95</td>\n",
       "    </tr>\n",
       "    <tr>\n",
       "      <th>7</th>\n",
       "      <td>Week Without You</td>\n",
       "      <td>88</td>\n",
       "    </tr>\n",
       "    <tr>\n",
       "      <th>8</th>\n",
       "      <td>Anyway</td>\n",
       "      <td>86</td>\n",
       "    </tr>\n",
       "    <tr>\n",
       "      <th>9</th>\n",
       "      <td>Love Someone</td>\n",
       "      <td>82</td>\n",
       "    </tr>\n",
       "    <tr>\n",
       "      <th>10</th>\n",
       "      <td>Galway Girl</td>\n",
       "      <td>75</td>\n",
       "    </tr>\n",
       "    <tr>\n",
       "      <th>11</th>\n",
       "      <td>Praying</td>\n",
       "      <td>72</td>\n",
       "    </tr>\n",
       "    <tr>\n",
       "      <th>12</th>\n",
       "      <td>Rockabye (feat. Sean Paul &amp; Anne-Marie)</td>\n",
       "      <td>70</td>\n",
       "    </tr>\n",
       "    <tr>\n",
       "      <th>13</th>\n",
       "      <td>Hunt You Down</td>\n",
       "      <td>69</td>\n",
       "    </tr>\n",
       "    <tr>\n",
       "      <th>14</th>\n",
       "      <td>All Right Now</td>\n",
       "      <td>67</td>\n",
       "    </tr>\n",
       "    <tr>\n",
       "      <th>15</th>\n",
       "      <td>Stay Together</td>\n",
       "      <td>64</td>\n",
       "    </tr>\n",
       "    <tr>\n",
       "      <th>16</th>\n",
       "      <td>Learn To Let Go</td>\n",
       "      <td>63</td>\n",
       "    </tr>\n",
       "    <tr>\n",
       "      <th>17</th>\n",
       "      <td>Vibe.</td>\n",
       "      <td>61</td>\n",
       "    </tr>\n",
       "    <tr>\n",
       "      <th>18</th>\n",
       "      <td>Bad Mood</td>\n",
       "      <td>60</td>\n",
       "    </tr>\n",
       "    <tr>\n",
       "      <th>19</th>\n",
       "      <td>Something Just Like This</td>\n",
       "      <td>59</td>\n",
       "    </tr>\n",
       "    <tr>\n",
       "      <th>20</th>\n",
       "      <td>Drunk on Your Love</td>\n",
       "      <td>59</td>\n",
       "    </tr>\n",
       "    <tr>\n",
       "      <th>21</th>\n",
       "      <td>Woman (feat. The Dap-Kings Horns)</td>\n",
       "      <td>58</td>\n",
       "    </tr>\n",
       "    <tr>\n",
       "      <th>22</th>\n",
       "      <td>Perfect</td>\n",
       "      <td>56</td>\n",
       "    </tr>\n",
       "    <tr>\n",
       "      <th>23</th>\n",
       "      <td>Boots</td>\n",
       "      <td>54</td>\n",
       "    </tr>\n",
       "    <tr>\n",
       "      <th>24</th>\n",
       "      <td>Tuxedo</td>\n",
       "      <td>51</td>\n",
       "    </tr>\n",
       "    <tr>\n",
       "      <th>25</th>\n",
       "      <td>Inspired</td>\n",
       "      <td>51</td>\n",
       "    </tr>\n",
       "    <tr>\n",
       "      <th>26</th>\n",
       "      <td>Never Forget You</td>\n",
       "      <td>49</td>\n",
       "    </tr>\n",
       "    <tr>\n",
       "      <th>27</th>\n",
       "      <td>Despacito (Featuring Daddy Yankee)</td>\n",
       "      <td>49</td>\n",
       "    </tr>\n",
       "    <tr>\n",
       "      <th>28</th>\n",
       "      <td>Old Flames (Can't Hold A Candle To You) (feat....</td>\n",
       "      <td>48</td>\n",
       "    </tr>\n",
       "    <tr>\n",
       "      <th>29</th>\n",
       "      <td>I'm Stuck</td>\n",
       "      <td>48</td>\n",
       "    </tr>\n",
       "  </tbody>\n",
       "</table>\n",
       "</div>"
      ]
     },
     "execution_count": 23,
     "metadata": {},
     "output_type": "execute_result"
    }
   ],
   "execution_count": 23
  },
  {
   "cell_type": "markdown",
   "id": "5f792c1f-239e-4836-b101-60fc51ec2883",
   "metadata": {},
   "source": [
    "Query 3: <br>\n",
    "Ask a question and create your own! "
   ]
  },
  {
   "cell_type": "code",
   "id": "ce1081b7-3242-4e33-92da-ea7d267c8df1",
   "metadata": {
    "ExecuteTime": {
     "end_time": "2025-02-20T23:52:56.460543Z",
     "start_time": "2025-02-20T23:52:56.458337Z"
    }
   },
   "source": "",
   "outputs": [],
   "execution_count": null
  },
  {
   "cell_type": "code",
   "id": "d4de87d1-d51e-4830-a09c-55775b3cc644",
   "metadata": {
    "ExecuteTime": {
     "end_time": "2025-02-20T23:52:56.521813Z",
     "start_time": "2025-02-20T23:52:56.518783Z"
    }
   },
   "source": [
    "#Disconnect from the database. Always remember to disconnect :) \n"
   ],
   "outputs": [],
   "execution_count": 24
  },
  {
   "cell_type": "markdown",
   "id": "76827fdb",
   "metadata": {},
   "source": [
    "# Assignment #5 - Data Gathering and Warehousing - DSSA-5102\n",
    "\n",
    "<b>Only Murders in the...Database?</b><br>\n",
    "An introduction to navigating SQL databases using R and Jupyter Notebook. <br>\n",
    "<br>\n",
    "Congrats! You have solved the murder from Assignment #4, let's practice more queries in SQL City! <br>\n",
    "<br>\n",
    "Your task for <b>Assignment #5</b> is to complete the following objectives:<br>\n",
    "You are a data scientist that was hired by SQL City. Your objectives are as follows:<br>\n",
    "- Objective 1: The town is willing to fund more training for officers in SQL City based on the type of crime that is most committed. The training would help them identify the clues that indicate these two types upon arrival on a crime scene. As a data scientist, what crime type would you advise needs more training for officers in SQL city? What crime was committed the most in SQL City within the database date range? Save your query as a dataframe and quickly add a ggplot2 bar graph visual to support your recommendation.<br>\n",
    "- Objective 2: The town has also received more funding to encourage DOUBLE overtime for officers in SQL City during the month with the highest crime rate through out the date range of the database. What month would you advise the town to encourage officer overtime? <br>\n",
    "- Objective 3: To thank the officers for their extra training and overtime, the town will pay for their monthly gym membership. They want to give the officers the membership that the least amount of civilians have to avoid being recognized daily as the town heros. The membership can be used in any town. What membership does the town give them?<br><br>\n",
    "<b>--</b>Add detailed comments to explain EVERY query or SQL command you use while we are still learning and practicing. I have my steps outlined, but please add more cells inbetween for additional queries! There is no limit on the number of queries you can use. <br>\n",
    "<b>--</b>For each query include comments such as \"SELECT all records FROM table WHERE column name = X\"<br>\n",
    "<b>--</b>Answer the prompts in markdown cells. Justify your response. A simple yes/no answer will receive no credit.<br>\n",
    "\n",
    "Recommended Readings: Chapters 4-7 in Getting Started with SQL by Thomas Nield<br><br>\n",
    "\n",
    "SQL Dictionary: https://www.w3schools.com/sql/sql_ref_join.asp\n",
    "\n",
    "This fabulous database was created by @NUKnightLab on Github and can be found here: https://github.com/NUKnightLab/sql-mysteries\n"
   ]
  },
  {
   "cell_type": "code",
   "id": "5e4ae281",
   "metadata": {
    "ExecuteTime": {
     "end_time": "2025-02-20T23:52:56.600695Z",
     "start_time": "2025-02-20T23:52:56.597224Z"
    }
   },
   "source": [
    "# Load necessary libraries\n"
   ],
   "outputs": [],
   "execution_count": 25
  },
  {
   "cell_type": "code",
   "id": "89bc8e32",
   "metadata": {
    "ExecuteTime": {
     "end_time": "2025-02-20T23:52:56.634176Z",
     "start_time": "2025-02-20T23:52:56.631002Z"
    }
   },
   "source": [
    "# Connect to our .db file\n"
   ],
   "outputs": [],
   "execution_count": 26
  },
  {
   "cell_type": "code",
   "id": "3850f72a",
   "metadata": {
    "ExecuteTime": {
     "end_time": "2025-02-20T23:52:56.643997Z",
     "start_time": "2025-02-20T23:52:56.639420Z"
    }
   },
   "source": [
    "# For a quick reference for tables and columns, refer to schema on Blackboard, or list the tables and fields below:\n"
   ],
   "outputs": [],
   "execution_count": 27
  },
  {
   "cell_type": "markdown",
   "id": "25e53d9b",
   "metadata": {},
   "source": [
    "We can use the COUNT command to explore our queries further. COUNT will count the number of records that meet the specified criteria.\n",
    "Additional examples using COUNT: https://www.w3schools.com/sql/sql_count.asp"
   ]
  },
  {
   "cell_type": "code",
   "id": "20476b98",
   "metadata": {
    "ExecuteTime": {
     "end_time": "2025-02-20T23:52:56.659333Z",
     "start_time": "2025-02-20T23:52:56.653334Z"
    }
   },
   "source": [
    "#Practice analyzing COUNTS in data tables with SQL queries:\n",
    "#Brainstorming for Objective 1\n",
    "#We can find the top ten cities within our Murder Mystery database that had the most crimes by using the COUNT SQL command.\n",
    "#SELECT the cities that have the most counts within the table crime_scene_report and\n",
    "#GROUP the results BY city and ORDER BY a DESC count, only show a limit of 10 records:\n",
    "practice_cities <- dbSendQuery(db, \"SELECT city, COUNT(*) as count\n",
    "                            From crime_scene_report\n",
    "                            GROUP BY city\n",
    "                            ORDER BY count DESC\n",
    "                            LIMIT 10\")\n",
    "dbFetch(practice_cities)\n",
    "\n",
    "#Looks like SQL City and Murfeesboro have the highest number of crimes! \n",
    "\n",
    "#Use COUNT(*) as count to determine the answers to the objectives below. "
   ],
   "outputs": [
    {
     "ename": "SyntaxError",
     "evalue": "unterminated string literal (detected at line 6) (2993665642.py, line 6)",
     "output_type": "error",
     "traceback": [
      "\u001B[1;36m  Cell \u001B[1;32mIn[28], line 6\u001B[1;36m\u001B[0m\n\u001B[1;33m    practice_cities <- dbSendQuery(db, \"SELECT city, COUNT(*) as count\u001B[0m\n\u001B[1;37m                                       ^\u001B[0m\n\u001B[1;31mSyntaxError\u001B[0m\u001B[1;31m:\u001B[0m unterminated string literal (detected at line 6)\n"
     ]
    }
   ],
   "execution_count": 28
  },
  {
   "cell_type": "markdown",
   "id": "93702940",
   "metadata": {},
   "source": [
    "<b>Objective 1:</b> The town is willing to fund more training for officers in SQL City based on the type of crime that is most committed. The training would help them identify the clues that indicate these two types upon arrival on a crime scene. As a data scientist, what crime type would you advise needs more training for officers in SQL city? What crime was committed the most in SQL City within the database date range? Save your query as a dataframe and quickly add a bar graph visual to support your recommendation."
   ]
  },
  {
   "cell_type": "code",
   "execution_count": 5,
   "id": "2079946e",
   "metadata": {},
   "outputs": [],
   "source": []
  },
  {
   "cell_type": "code",
   "execution_count": null,
   "id": "dc9a43c8",
   "metadata": {},
   "outputs": [],
   "source": []
  },
  {
   "cell_type": "code",
   "execution_count": null,
   "id": "e99bfad0",
   "metadata": {},
   "outputs": [],
   "source": [
    "# Graph your results:\n",
    "\n",
    "\n"
   ]
  },
  {
   "cell_type": "markdown",
   "id": "a8007ef0",
   "metadata": {},
   "source": [
    "Answer:"
   ]
  },
  {
   "cell_type": "markdown",
   "id": "f8df6bf8",
   "metadata": {},
   "source": [
    "<b>Objective 2:</b> The town has also received more funding to encourage DOUBLE overtime for officers in SQL City during the month with the highest crime rate through out the date range of the database. What month would you advise the town to encourage officer overtime?"
   ]
  },
  {
   "cell_type": "code",
   "execution_count": null,
   "id": "02dcba2e",
   "metadata": {},
   "outputs": [],
   "source": [
    "\n",
    "\n",
    "\n"
   ]
  },
  {
   "cell_type": "markdown",
   "id": "b5524834",
   "metadata": {},
   "source": [
    "Answer:"
   ]
  },
  {
   "cell_type": "markdown",
   "id": "51313b07",
   "metadata": {},
   "source": [
    "<b>Objective 3:</b> To thank the officers for their extra training and overtime, the town will pay for their monthly gym membership. They want to give the officers the membership that the least amount of civilians have to avoid being recognized daily as the town heros. The membership can be used in any town. What membership does the town give them?"
   ]
  },
  {
   "cell_type": "code",
   "execution_count": null,
   "id": "317f86a1",
   "metadata": {},
   "outputs": [],
   "source": [
    "\n",
    "\n"
   ]
  },
  {
   "cell_type": "markdown",
   "id": "d3519f15",
   "metadata": {},
   "source": [
    "Answer:"
   ]
  },
  {
   "cell_type": "code",
   "execution_count": null,
   "id": "68e82785",
   "metadata": {},
   "outputs": [],
   "source": [
    "#Disconnect from the database. Always remember to disconnect :) \n",
    "\n"
   ]
  }
 ],
 "metadata": {
  "kernelspec": {
   "display_name": "Python 3 (ipykernel)",
   "language": "python",
   "name": "python3"
  },
  "language_info": {
   "codemirror_mode": {
    "name": "ipython",
    "version": 3
   },
   "file_extension": ".py",
   "mimetype": "text/x-python",
   "name": "python",
   "nbconvert_exporter": "python",
   "pygments_lexer": "ipython3",
   "version": "3.9.21"
  }
 },
 "nbformat": 4,
 "nbformat_minor": 5
}
