{
 "cells": [
  {
   "cell_type": "markdown",
   "id": "ca9da05e",
   "metadata": {},
   "source": [
    "# Assignment #4 - Data Gathering and Warehousing - DSSA-5102\n",
    "\n",
    "Instructor: Melissa Laurino</br>\n",
    "Spring 2025</br>\n",
    "\n",
    "Name:\n",
    "</br>\n",
    "Date:\n",
    "<br>\n",
    "<br>\n",
    "<b>Only Murders in the...Database?</b><br>\n",
    "An introduction to navigating databases using SQL, Python and Jupyter Notebook. <br>\n",
    "<br>\n",
    "A crime has taken place and you are the perfect amateur detective to solve it! \n",
    "<br>\n",
    "The detective gave you the crime scene report, but you somehow lost it...? You vaguely remember that the crime\n",
    "was a murder that occurred sometime on <b>Jan.15, 2018</b> and that it took place in <b>SQL\n",
    "City</b>. All the clues to this mystery are buried in a huge database, and you need to use\n",
    "SQL to navigate through this network of information. Your first step to solving the mystery is to retrieve the corresponding crime scene report from the police department’s database. Take a look at the cheatsheet to learn how to do this! From there, you can use your SQL skills to find the murderer.<br>\n",
    "\n",
    "Your task for <b>Assignment #4</b> is to:<br>\n",
    "- Connect to the database stored locally using Python.\n",
    "- Explore the database by listing all tables, fields within the tables, and data types.\n",
    "- Find out who the murderer is!<br>\n",
    "- Add detailed comments to explain EVERY query or SQL command you use while we are still learning and practicing. I have my steps outlined, but please add more cells inbetween for additional queries! There is no limit on the number of queries you can use. <br>\n",
    "- For each query include comments such as \"SELECT all records FROM table WHERE column name = X\"<br>\n",
    "- Answer any prompts in markdown cells.<br>\n",
    "<br>\n",
    "\n",
    "This fabulous database was created by @NUKnightLab on Github and can be found here: https://github.com/NUKnightLab/sql-mysteries"
   ]
  },
  {
   "cell_type": "markdown",
   "id": "809585f2",
   "metadata": {},
   "source": [
    "Database files are indicated by the .db file extension. For this exercise, our database has already been created. To avoid setting your working directory, have the .db file and Assignment#4_LastName.ipynb in the same file location. There are multiple libraries that can be used to navigate database files and connect to SQL for databases that are stored on a server or your computer as a local host."
   ]
  },
  {
   "cell_type": "code",
   "execution_count": null,
   "id": "175f6ec0",
   "metadata": {},
   "outputs": [],
   "source": [
    "# Load necessary packages:\n",
    "from sqlalchemy import create_engine, inspect, text # Database navigation\n",
    "import sqlite3 # A second option for working with databases\n",
    "import pandas as pd # Python data manilpulation"
   ]
  },
  {
   "cell_type": "markdown",
   "id": "359a90a5-b43c-49ca-9eb4-b8eac65a2409",
   "metadata": {},
   "source": [
    "Database files are indicated by the .db file extension. For this exercise, our database has already been created. To avoid setting your working directory, have the .db file and Assignment#4_LastName.ipynb in the same file location. There are multiple libraries depending on your platform that can be used to navigate database files and connect to SQL for databases that are stored on a server or your computer as a local host."
   ]
  },
  {
   "cell_type": "code",
   "execution_count": null,
   "id": "daad0556",
   "metadata": {},
   "outputs": [],
   "source": [
    "# How to connect to our .db file using library SQLAlchemy\n",
    "# Notice that we are not specifiying a host, password, or server since this .db file is stored locally.\n",
    "db_path = \" \"  # Change this to your actual file name\n",
    "engine = create_engine(f\"sqlite:///{db_path}\") # Use the create_engine function to connect to the database\n",
    "engine # The f is the connection string, so if we print it we can see below"
   ]
  },
  {
   "cell_type": "markdown",
   "id": "bcaec43d-ca61-45b6-ae68-7783632e8529",
   "metadata": {},
   "source": [
    "SQLAlchemy needs to know what kind of database we are accessing. .db files can be treated as a SQLite database. Other options include databases formatted for MySQL, PostgreSQL, etc. Database type prefixes must be included."
   ]
  },
  {
   "cell_type": "code",
   "execution_count": null,
   "id": "ba004ab3",
   "metadata": {},
   "outputs": [],
   "source": [
    "# Explore the database\n",
    "# List the tables in our database:\n",
    "\n",
    "\n",
    "\n",
    "\n",
    "\n",
    "\n",
    "\n",
    "\n",
    "\n",
    "\n",
    "\n",
    "\n",
    "# So much data! How would we possibly make sense of ANY of this without SQL? :)"
   ]
  },
  {
   "cell_type": "code",
   "execution_count": null,
   "id": "620622ba",
   "metadata": {},
   "outputs": [],
   "source": [
    "# What are the column names for each table? What table will help us get to the next clue?\n"
   ]
  },
  {
   "cell_type": "markdown",
   "id": "8f236e3b",
   "metadata": {},
   "source": [
    "Practice using commmands useful in queries:"
   ]
  },
  {
   "cell_type": "code",
   "execution_count": null,
   "id": "d6e6f4ba",
   "metadata": {},
   "outputs": [],
   "source": [
    "# Example: \n",
    "# Select all records from the table crime_scene_report where type is murder:\n",
    "\n",
    "with engine.connect() as connection:  # Establish a connection\n",
    "    query = text(\"\"\"SELECT * \n",
    "                    FROM crime_scene_report \n",
    "                    WHERE type='murder'\n",
    "                    \"\"\")                      # Define the query - text() ensures that the query string is read as a SQL expression \n",
    "    practice = pd.read_sql(query, connection) #Use pandas to read the sql query with the connection to the database\n",
    "    \n",
    "# Print the results\n",
    "practice"
   ]
  },
  {
   "cell_type": "code",
   "execution_count": null,
   "id": "afa194e0",
   "metadata": {},
   "outputs": [],
   "source": [
    "#Select all records from the table drivers_license where the eye color is blue:\n",
    "\n",
    "\n",
    "\n",
    "\n",
    "\n",
    "practice2"
   ]
  },
  {
   "cell_type": "code",
   "execution_count": null,
   "id": "e76c0ed5",
   "metadata": {},
   "outputs": [],
   "source": [
    "#Select distinct records of eye_color from the table drivers_license:\n",
    "\n",
    "\n",
    "\n",
    "\n",
    "\n",
    "\n",
    "\n",
    "practice3"
   ]
  },
  {
   "cell_type": "code",
   "execution_count": null,
   "id": "548046ef",
   "metadata": {},
   "outputs": [],
   "source": [
    "#Select distinct records of name from the table person:\n",
    "\n",
    "\n",
    "\n",
    "\n",
    "\n",
    "\n",
    "\n",
    "practice4"
   ]
  },
  {
   "cell_type": "code",
   "execution_count": null,
   "id": "7af79b87",
   "metadata": {},
   "outputs": [],
   "source": [
    "#Select distinct records of gender AND car_model from the table drivers_license:\n",
    "\n",
    "\n",
    "\n",
    "\n",
    "\n",
    "\n",
    "\n",
    "practice5"
   ]
  },
  {
   "cell_type": "code",
   "execution_count": null,
   "id": "6bc70de6",
   "metadata": {},
   "outputs": [],
   "source": [
    "#Select distinct records of type and city from the table crime_scene_report:\n",
    "\n",
    "\n",
    "\n",
    "\n",
    "\n",
    "\n",
    "practice6"
   ]
  },
  {
   "cell_type": "code",
   "execution_count": null,
   "id": "e66707f2",
   "metadata": {},
   "outputs": [],
   "source": [
    "#Select all records from table drivers_license where the age is == 40:\n",
    "\n",
    "\n",
    "\n",
    "\n",
    "\n",
    "\n",
    "practice7"
   ]
  },
  {
   "cell_type": "code",
   "execution_count": null,
   "id": "8a8d25de",
   "metadata": {},
   "outputs": [],
   "source": [
    "#Select all records from table drivers_license where the age is greater than 21:\n",
    "\n",
    "\n",
    "\n",
    "\n",
    "\n",
    "\n",
    "practice8"
   ]
  },
  {
   "cell_type": "code",
   "execution_count": null,
   "id": "d4b76574",
   "metadata": {},
   "outputs": [],
   "source": [
    "#Select all records from table drivers_license where the age is less than OR equal to 21:\n",
    "#Do you see a difference in the number of rows?\n",
    "\n",
    "\n",
    "\n",
    "\n",
    "\n",
    "practice8"
   ]
  },
  {
   "cell_type": "code",
   "execution_count": null,
   "id": "c8957bd0",
   "metadata": {},
   "outputs": [],
   "source": [
    "#Select all records from table get_fit_now_check_in and order by check_in_date:\n",
    "#Do you see a difference in the number of rows?\n",
    "\n",
    "\n",
    "\n",
    "\n",
    "\n",
    "\n",
    "practice9"
   ]
  },
  {
   "cell_type": "code",
   "execution_count": null,
   "id": "684f5625",
   "metadata": {},
   "outputs": [],
   "source": [
    "#Select all records from table get_fit_now_check_in and order by check_in_date and order by check_in_time:\n",
    "#Do you see a difference in the order of the rows?\n",
    "\n",
    "\n",
    "\n",
    "\n",
    "\n",
    "practice10"
   ]
  },
  {
   "cell_type": "markdown",
   "id": "a8becde3",
   "metadata": {},
   "source": [
    "Now that we have practiced, let's solve this murder!"
   ]
  },
  {
   "cell_type": "markdown",
   "id": "31ca41f2",
   "metadata": {},
   "source": [
    "All we know at the start of our investigation is the <b>murder</b> occurred on <b>Jan.15, 2018</b> and that it took place in <b>SQL City<b>."
   ]
  },
  {
   "cell_type": "code",
   "execution_count": null,
   "id": "e1422933",
   "metadata": {},
   "outputs": [],
   "source": [
    "#Write a query in SQL to view the crime scene report \n",
    "#for the murder occurred on Jan.15, 2018 and that it took place in SQL City.\n",
    "#Select ALL records FROM the table WHERE...\n",
    "\n",
    "\n",
    "\n",
    "\n",
    "\n",
    "\n"
   ]
  },
  {
   "cell_type": "markdown",
   "id": "b0332e69",
   "metadata": {},
   "source": [
    "Another clue! It looks like we have two witnesses! Now who are they and how do we find them?"
   ]
  },
  {
   "cell_type": "code",
   "execution_count": null,
   "id": "d7981a60",
   "metadata": {},
   "outputs": [],
   "source": [
    "#Write two queries in SQL to find each witness in the person table. \n",
    "#For the first query as first_witness, select all the records from person where the address_street_name is Northwestern Drive and order by adress_number\n",
    "#Fetch the first_witness\n",
    "\n",
    "\n",
    "\n",
    "\n",
    "\n",
    "\n",
    "\n"
   ]
  },
  {
   "cell_type": "markdown",
   "id": "725b63f4",
   "metadata": {},
   "source": [
    "We have identified our first witness as ________________. Now lets find the second!"
   ]
  },
  {
   "cell_type": "code",
   "execution_count": null,
   "id": "24bbd804",
   "metadata": {},
   "outputs": [],
   "source": [
    "#For the third query as second_witness,\n",
    "#Select all the records from person where the address_street_name is Frnaklin Ave and the name includes Annabel. \n",
    "#Fetch the second_witness\n",
    "\n",
    "\n",
    "\n",
    "\n",
    "\n"
   ]
  },
  {
   "cell_type": "markdown",
   "id": "a1f3aeb5",
   "metadata": {},
   "source": [
    "We have identified our second witness as _________. What were their witness statements? What did they see?"
   ]
  },
  {
   "cell_type": "code",
   "execution_count": null,
   "id": "f0ccb275",
   "metadata": {},
   "outputs": [],
   "source": [
    "#For our fourth query, witness_statements, lets find out what each witness saw...or claim they saw?\n",
    "#Select the peron's name and interview where the person_id is X, X (Get the ID from the above queries)\n",
    "\n",
    "\n",
    "\n",
    "\n",
    "\n",
    "\n"
   ]
  },
  {
   "cell_type": "markdown",
   "id": "fcce7dc4",
   "metadata": {},
   "source": [
    "A few new clues! Explore the different clues with multiple queries. Seems like a reliable statement!"
   ]
  },
  {
   "cell_type": "code",
   "execution_count": null,
   "id": "9a8007e6",
   "metadata": {},
   "outputs": [],
   "source": [
    "#Create a query to select for the following clues: (You can create multiple queries or combine them into one and go from there.)\n",
    "#Remember to write our your query in the comments!\n",
    "\n",
    "\n",
    "\n",
    "\n",
    "\n",
    "\n",
    "\n"
   ]
  },
  {
   "cell_type": "markdown",
   "id": "9737458f",
   "metadata": {},
   "source": [
    "We have a suspect! Lets check their witness statement. Do they have an alibi?"
   ]
  },
  {
   "cell_type": "code",
   "execution_count": null,
   "id": "9ea71f17",
   "metadata": {},
   "outputs": [],
   "source": [
    "#Remember to write your query in the comments!\n",
    "\n",
    "\n",
    "\n",
    "\n",
    "\n"
   ]
  },
  {
   "cell_type": "markdown",
   "id": "323c42e5",
   "metadata": {},
   "source": [
    "Uh oh...turns out it wasn't just one person behind the crime...who is this additional person involved?"
   ]
  },
  {
   "cell_type": "code",
   "execution_count": null,
   "id": "585c09e8",
   "metadata": {},
   "outputs": [],
   "source": [
    "#Remember to write our your query in the comments!\n",
    "#You can complete this in a single query or multiple queries.\n",
    "\n",
    "\n",
    "\n",
    "\n",
    "\n",
    "\n",
    "\n",
    "\n"
   ]
  },
  {
   "cell_type": "markdown",
   "id": "4aaba561",
   "metadata": {},
   "source": [
    "Three different people match this description! Now which one attended the SQL Symphony Concert three times? "
   ]
  },
  {
   "cell_type": "code",
   "execution_count": null,
   "id": "bed1e118",
   "metadata": {},
   "outputs": [],
   "source": [
    "#Let's find the killer!\n",
    "#Remember to write our your query in the comments!\n",
    "\n",
    "\n",
    "\n",
    "\n",
    "\n",
    "\n",
    "\n"
   ]
  },
  {
   "cell_type": "markdown",
   "id": "11abc489",
   "metadata": {},
   "source": [
    "<b>The murderer(s) is/are:</b>"
   ]
  },
  {
   "cell_type": "code",
   "execution_count": null,
   "id": "c89e4d60",
   "metadata": {},
   "outputs": [],
   "source": [
    "#Disconnect from the database. Always remember to disconnect :) \n"
   ]
  },
  {
   "cell_type": "code",
   "execution_count": null,
   "id": "b5045b4d",
   "metadata": {},
   "outputs": [],
   "source": []
  }
 ],
 "metadata": {
  "kernelspec": {
   "display_name": "Python [conda env:base] *",
   "language": "python",
   "name": "conda-base-py"
  },
  "language_info": {
   "codemirror_mode": {
    "name": "ipython",
    "version": 3
   },
   "file_extension": ".py",
   "mimetype": "text/x-python",
   "name": "python",
   "nbconvert_exporter": "python",
   "pygments_lexer": "ipython3",
   "version": "3.9.21"
  }
 },
 "nbformat": 4,
 "nbformat_minor": 5
}
