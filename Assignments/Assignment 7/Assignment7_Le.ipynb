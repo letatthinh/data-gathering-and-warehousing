{
 "cells": [
  {
   "cell_type": "markdown",
   "id": "f369c6ca",
   "metadata": {},
   "source": [
    "# Assignment #7 - Data Gathering and Warehousing - DSSA-5102\n",
    "\n",
    "Instructor: Melissa Laurino</br>\n",
    "Spring 2025</br>\n",
    "\n",
    "Name: Thinh Le\n",
    "</br>\n",
    "Date: April 05, 2025\n",
    "<br>\n",
    "<br>\n",
    "**At this time in the semester:** <br>\n",
    "- We have explored a dataset. <br>\n",
    "- We have cleaned our dataset. <br>\n",
    "- We created a Github account with a repository for this class and included a metadata read me file about our data. <br>\n",
    "- We introduced general SQL syntax, queries, and applications in Python.<br>\n",
    "- Created our own databases from scratch using MySQL Workbench and Python with SQLAlchemy/SQlConnector on our local server and locally on our machine.\n",
    "<br>\n",
    "\n",
    "Now we will populate and create **all** tables for our dataset into our database and finalize our ERR diagram.<br>\n",
    "\n",
    "We created a database three different ways in our previous assignment; One database on our local MySQL server, one test database stored locally that integrates with MySQL and one test database stored only locally as a .db file on your machine. Now we will create all tables and populate your tables with your data from your dataset (Feel free to practice with all methods, but it is encouraged to use the first method that will allow you to create your schema diagram). After populating your database, create a visual database schema diagram in MySQL Workbench. <br>\n",
    "<br>\n",
    "Be sure to comment all code. Include a .png image of your database schema from MySQL Workbench in your Blackboard submission or Github repository."
   ]
  },
  {
   "metadata": {},
   "cell_type": "markdown",
   "source": "## Load libraries",
   "id": "e2813510a38649bc"
  },
  {
   "cell_type": "code",
   "id": "8f2937ac",
   "metadata": {
    "ExecuteTime": {
     "end_time": "2025-04-05T20:48:35.595077Z",
     "start_time": "2025-04-05T20:48:35.590859Z"
    }
   },
   "source": [
    "# Load necessary packages:\n",
    "# For database server connection\n",
    "from sqlalchemy import create_engine, text\n",
    "import mysql.connector\n",
    "# For ata manipulation\n",
    "import pandas as pd"
   ],
   "outputs": [],
   "execution_count": 2
  },
  {
   "metadata": {},
   "cell_type": "markdown",
   "source": "## Connect to MySQL server",
   "id": "da513b6d3359c4f"
  },
  {
   "metadata": {
    "ExecuteTime": {
     "end_time": "2025-04-05T20:50:38.854295Z",
     "start_time": "2025-04-05T20:50:38.759910Z"
    }
   },
   "cell_type": "code",
   "source": [
    "# Connect to the MySQL server\n",
    "host = '127.0.0.1'\n",
    "port = 3306\n",
    "user = 'root'\n",
    "password = '123456'\n",
    "\n",
    "mysql_connection = mysql.connector.connect(\n",
    "    # Server address\n",
    "    host=host,\n",
    "    # Port number\n",
    "    port=port,\n",
    "    # Username\n",
    "    user=user,\n",
    "    # Password\n",
    "    password=password)"
   ],
   "id": "6c7c70deee05770b",
   "outputs": [],
   "execution_count": 5
  },
  {
   "metadata": {},
   "cell_type": "markdown",
   "source": "## Create database",
   "id": "b3b14bd8889024ad"
  },
  {
   "metadata": {
    "ExecuteTime": {
     "end_time": "2025-04-05T20:50:44.845468Z",
     "start_time": "2025-04-05T20:50:44.829358Z"
    }
   },
   "cell_type": "code",
   "source": [
    "# Create a cursor - an object that can execute operations such as SQL statement\n",
    "cursor = mysql_connection.cursor()\n",
    "\n",
    "database_name = \"thinh_db\"\n",
    "cursor.execute(f\"CREATE DATABASE IF NOT EXISTS {database_name}\")\n",
    "# MySQL_SpotifyDatabase will be the name when the database is created.\n",
    "\n",
    "cursor.close()\n",
    "mysql_connection.close()\n",
    "\n",
    "print(\"Database created successfully in MySQL Workbench! Go check it out.\")"
   ],
   "id": "5bd268645e02e03",
   "outputs": [
    {
     "name": "stdout",
     "output_type": "stream",
     "text": [
      "Database created successfully in MySQL Workbench! Go check it out.\n"
     ]
    }
   ],
   "execution_count": 6
  },
  {
   "metadata": {},
   "cell_type": "markdown",
   "source": "## Create engine",
   "id": "7411b56a92b7d962"
  },
  {
   "cell_type": "code",
   "id": "0ea54f10",
   "metadata": {
    "ExecuteTime": {
     "end_time": "2025-04-05T20:57:08.659305Z",
     "start_time": "2025-04-05T20:57:08.654495Z"
    }
   },
   "source": [
    "database_url = f\"mysql+mysqlconnector://{user}:{password}@{host}:{port}/{database_name}\"\n",
    "\n",
    "# Create an engine that connect to MySQL server\n",
    "engine = create_engine(database_url)\n",
    "\n",
    "print(\"Engine created successfully!\")"
   ],
   "outputs": [
    {
     "name": "stdout",
     "output_type": "stream",
     "text": [
      "Engine created successfully!\n"
     ]
    }
   ],
   "execution_count": 8
  },
  {
   "metadata": {},
   "cell_type": "markdown",
   "source": "## Read dataset",
   "id": "8fe60567ce6d11b4"
  },
  {
   "cell_type": "code",
   "id": "e0963fcd",
   "metadata": {
    "ExecuteTime": {
     "end_time": "2025-04-05T21:01:13.741496Z",
     "start_time": "2025-04-05T21:01:13.694869Z"
    }
   },
   "source": "df = pd.read_csv('laptop_prices.csv')",
   "outputs": [],
   "execution_count": 9
  },
  {
   "metadata": {},
   "cell_type": "markdown",
   "source": "View dataset info",
   "id": "343b4f558b8c1139"
  },
  {
   "cell_type": "code",
   "id": "714bd858",
   "metadata": {
    "ExecuteTime": {
     "end_time": "2025-04-05T21:01:15.052317Z",
     "start_time": "2025-04-05T21:01:15.024339Z"
    }
   },
   "source": "df.info()",
   "outputs": [
    {
     "name": "stdout",
     "output_type": "stream",
     "text": [
      "<class 'pandas.core.frame.DataFrame'>\n",
      "RangeIndex: 11768 entries, 0 to 11767\n",
      "Data columns (total 11 columns):\n",
      " #   Column              Non-Null Count  Dtype  \n",
      "---  ------              --------------  -----  \n",
      " 0   brand               11768 non-null  object \n",
      " 1   processor           11768 non-null  object \n",
      " 2   ram_gb              11768 non-null  float64\n",
      " 3   storage             11768 non-null  object \n",
      " 4   gpu                 11768 non-null  object \n",
      " 5   screen_size_inch    11768 non-null  float64\n",
      " 6   resolution          11768 non-null  object \n",
      " 7   battery_life_hours  11768 non-null  float64\n",
      " 8   weight_kg           11768 non-null  float64\n",
      " 9   operating_system    11768 non-null  object \n",
      " 10  price               11768 non-null  float64\n",
      "dtypes: float64(5), object(6)\n",
      "memory usage: 1011.4+ KB\n"
     ]
    }
   ],
   "execution_count": 10
  },
  {
   "metadata": {},
   "cell_type": "markdown",
   "source": "## Create table in database",
   "id": "b91d958ca89b9464"
  },
  {
   "cell_type": "code",
   "id": "2d88f3fd",
   "metadata": {
    "ExecuteTime": {
     "end_time": "2025-04-05T21:03:11.339910Z",
     "start_time": "2025-04-05T21:03:11.283256Z"
    }
   },
   "source": [
    "# Create query to creat table\n",
    "table_name = \"laptop_prices\"\n",
    "first_table_query = f\"\"\"CREATE TABLE IF NOT EXISTS {table_name} (\n",
    "    id MEDIUMINT NOT NULL AUTO_INCREMENT PRIMARY KEY,\n",
    "    brand VARCHAR(20),\n",
    "    processor VARCHAR(20),\n",
    "    ram_gb TINYINT,\n",
    "    storage VARCHAR(20),\n",
    "    gpu VARCHAR(20),\n",
    "    screen_size_inch FLOAT,\n",
    "    resolution VARCHAR(20),\n",
    "    battery_life_hours FLOAT,\n",
    "    weight_kg FLOAT,\n",
    "    operating_system VARCHAR(20),\n",
    "    price FLOAT\n",
    ")\"\"\"\n",
    "\n",
    "# Execute query\n",
    "with engine.connect() as connection:\n",
    "    connection.execute(text(first_table_query))\n",
    "\n",
    "print(f\"Table {table_name} created successfully!\")"
   ],
   "outputs": [
    {
     "name": "stdout",
     "output_type": "stream",
     "text": [
      "Table laptop_prices created successfully!\n"
     ]
    }
   ],
   "execution_count": 12
  },
  {
   "metadata": {},
   "cell_type": "markdown",
   "source": "## Insert data to table",
   "id": "126f03c3970ef974"
  },
  {
   "cell_type": "code",
   "id": "0ce8d209",
   "metadata": {
    "ExecuteTime": {
     "end_time": "2025-04-05T21:04:40.702188Z",
     "start_time": "2025-04-05T21:04:33.267328Z"
    }
   },
   "source": [
    "# Loop through each row in the dataset and create query to insert data into table\n",
    "with engine.connect() as connection:\n",
    "    # Iterate through DataFrame rows\n",
    "    for index, row in df.iterrows():\n",
    "        # Construct and execute INSERT statement\n",
    "        query = f\"\"\"INSERT INTO {table_name} (\n",
    "                        brand, processor, ram_gb,\n",
    "                        storage, gpu, screen_size_inch,\n",
    "                        resolution, battery_life_hours, weight_kg,\n",
    "                        operating_system, price\n",
    "                    ) VALUES (\n",
    "                        '{row['brand']}',\n",
    "                        '{row['processor']}',\n",
    "                        '{row['ram_gb']}',\n",
    "                        '{row['storage']}',\n",
    "                        '{row['gpu']}',\n",
    "                        '{row['screen_size_inch']}',\n",
    "                        '{row['resolution']}',\n",
    "                        '{row['battery_life_hours']}',\n",
    "                        '{row['weight_kg']}',\n",
    "                        '{row['operating_system']}',\n",
    "                        '{row['price']}'\n",
    "                    )\"\"\"\n",
    "        connection.execute(text(query))\n",
    "\n",
    "    connection.commit()"
   ],
   "outputs": [],
   "execution_count": 13
  },
  {
   "metadata": {},
   "cell_type": "markdown",
   "source": [
    "Result:\n",
    "\n",
    "![Alt text](data-insert-result.png)"
   ],
   "id": "7f3d72e22e3941eb"
  },
  {
   "metadata": {},
   "cell_type": "markdown",
   "source": "## Get database schema",
   "id": "745d109c69da32a8"
  },
  {
   "metadata": {},
   "cell_type": "markdown",
   "source": "![Table diagram](table-diagram.png)",
   "id": "cb9ee81116e34fcc"
  },
  {
   "cell_type": "code",
   "id": "58cbf160",
   "metadata": {
    "ExecuteTime": {
     "end_time": "2025-04-05T21:08:40.752466Z",
     "start_time": "2025-04-05T21:08:40.748363Z"
    }
   },
   "source": [
    "#Close the database connection :)\n",
    "connection.close()\n",
    "engine.dispose()"
   ],
   "outputs": [],
   "execution_count": 14
  },
  {
   "cell_type": "markdown",
   "id": "9c103358",
   "metadata": {},
   "source": [
    "**MySQL Workbench**<br>\n",
    "To export your database schema as a .PNG:<br>\n",
    "->Go to your EER Diagram<br>\n",
    "->File<br>\n",
    "->Export<br>\n",
    "->Export as .PNG"
   ]
  }
 ],
 "metadata": {
  "kernelspec": {
   "display_name": "Python 3 (ipykernel)",
   "language": "python",
   "name": "python3"
  },
  "language_info": {
   "codemirror_mode": {
    "name": "ipython",
    "version": 3
   },
   "file_extension": ".py",
   "mimetype": "text/x-python",
   "name": "python",
   "nbconvert_exporter": "python",
   "pygments_lexer": "ipython3",
   "version": "3.9.21"
  }
 },
 "nbformat": 4,
 "nbformat_minor": 5
}
