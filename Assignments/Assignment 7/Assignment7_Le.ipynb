{
 "cells": [
  {
   "cell_type": "markdown",
   "id": "f369c6ca",
   "metadata": {},
   "source": [
    "# Assignment #7 - Data Gathering and Warehousing - DSSA-5102\n",
    "\n",
    "Instructor: Melissa Laurino</br>\n",
    "Spring 2025</br>\n",
    "\n",
    "Name: Thinh Le\n",
    "</br>\n",
    "Date: April 05, 2025\n",
    "<br>\n",
    "<br>\n",
    "**At this time in the semester:** <br>\n",
    "- We have explored a dataset. <br>\n",
    "- We have cleaned our dataset. <br>\n",
    "- We created a Github account with a repository for this class and included a metadata read me file about our data. <br>\n",
    "- We introduced general SQL syntax, queries, and applications in Python.<br>\n",
    "- Created our own databases from scratch using MySQL Workbench and Python with SQLAlchemy/SQlConnector on our local server and locally on our machine.\n",
    "<br>\n",
    "\n",
    "Now we will populate and create **all** tables for our dataset into our database and finalize our ERR diagram.<br>\n",
    "\n",
    "We created a database three different ways in our previous assignment; One database on our local MySQL server, one test database stored locally that integrates with MySQL and one test database stored only locally as a .db file on your machine. Now we will create all tables and populate your tables with your data from your dataset (Feel free to practice with all methods, but it is encouraged to use the first method that will allow you to create your schema diagram). After populating your database, create a visual database schema diagram in MySQL Workbench. <br>\n",
    "<br>\n",
    "Be sure to comment all code. Include a .png image of your database schema from MySQL Workbench in your Blackboard submission or Github repository."
   ]
  },
  {
   "metadata": {},
   "cell_type": "markdown",
   "source": "## Load libraries",
   "id": "e2813510a38649bc"
  },
  {
   "cell_type": "code",
   "id": "8f2937ac",
   "metadata": {
    "ExecuteTime": {
     "end_time": "2025-04-05T23:16:44.906616Z",
     "start_time": "2025-04-05T23:16:44.742817Z"
    }
   },
   "source": [
    "# Load necessary packages:\n",
    "# For database server connection\n",
    "import mysql.connector\n",
    "from sqlalchemy.orm import DeclarativeBase, Mapped, mapped_column, \\\n",
    "relationship, Session\n",
    "from sqlalchemy import create_engine, ForeignKey\n",
    "# Data types in MySQL\n",
    "# Ref: https://docs.sqlalchemy.org/en/20/dialects/mysql.html#mysql-data-types\n",
    "from sqlalchemy.dialects.mysql import (\n",
    "    BIGINT,\n",
    "    MEDIUMINT,\n",
    "    SMALLINT,\n",
    "    INTEGER,\n",
    "    FLOAT,\n",
    "    DATETIME,\n",
    "    TEXT,\n",
    "    MEDIUMTEXT,\n",
    "    NVARCHAR,\n",
    "    VARCHAR,\n",
    "    DATE\n",
    ")\n",
    "# For ata manipulation\n",
    "import pandas as pd"
   ],
   "outputs": [],
   "execution_count": 17
  },
  {
   "metadata": {},
   "cell_type": "markdown",
   "source": "## Connect to MySQL server",
   "id": "da513b6d3359c4f"
  },
  {
   "metadata": {
    "ExecuteTime": {
     "end_time": "2025-04-05T23:17:08.758958Z",
     "start_time": "2025-04-05T23:17:08.748224Z"
    }
   },
   "cell_type": "code",
   "source": [
    "# Connect to the MySQL server\n",
    "host = '127.0.0.1'\n",
    "port = 3306\n",
    "user = 'root'\n",
    "password = '123456'\n",
    "\n",
    "mysql_connection = mysql.connector.connect(\n",
    "    # Server address\n",
    "    host=host,\n",
    "    # Port number\n",
    "    port=port,\n",
    "    # Username\n",
    "    user=user,\n",
    "    # Password\n",
    "    password=password)"
   ],
   "id": "6c7c70deee05770b",
   "outputs": [],
   "execution_count": 21
  },
  {
   "metadata": {},
   "cell_type": "markdown",
   "source": "## Create database",
   "id": "b3b14bd8889024ad"
  },
  {
   "metadata": {
    "ExecuteTime": {
     "end_time": "2025-04-05T23:17:10.567941Z",
     "start_time": "2025-04-05T23:17:10.559213Z"
    }
   },
   "cell_type": "code",
   "source": [
    "# Create a cursor - an object that can execute operations such as SQL statement\n",
    "cursor = mysql_connection.cursor()\n",
    "\n",
    "database_name = \"thinh_db\"\n",
    "cursor.execute(f\"CREATE DATABASE IF NOT EXISTS {database_name}\")\n",
    "# MySQL_SpotifyDatabase will be the name when the database is created.\n",
    "\n",
    "cursor.close()\n",
    "mysql_connection.close()\n",
    "\n",
    "print(\"Database created successfully in MySQL Workbench!\")"
   ],
   "id": "5bd268645e02e03",
   "outputs": [
    {
     "name": "stdout",
     "output_type": "stream",
     "text": [
      "Database created successfully in MySQL Workbench!\n"
     ]
    }
   ],
   "execution_count": 22
  },
  {
   "metadata": {},
   "cell_type": "markdown",
   "source": "## Read dataset",
   "id": "8fe60567ce6d11b4"
  },
  {
   "cell_type": "code",
   "id": "e0963fcd",
   "metadata": {
    "ExecuteTime": {
     "end_time": "2025-04-05T23:19:03.349930Z",
     "start_time": "2025-04-05T23:19:03.318443Z"
    }
   },
   "source": "df = pd.read_csv('laptop_prices.csv')",
   "outputs": [],
   "execution_count": 23
  },
  {
   "metadata": {},
   "cell_type": "markdown",
   "source": "View dataset info",
   "id": "343b4f558b8c1139"
  },
  {
   "cell_type": "code",
   "id": "714bd858",
   "metadata": {
    "ExecuteTime": {
     "end_time": "2025-04-05T23:19:04.984973Z",
     "start_time": "2025-04-05T23:19:04.970993Z"
    }
   },
   "source": "df.info()",
   "outputs": [
    {
     "name": "stdout",
     "output_type": "stream",
     "text": [
      "<class 'pandas.core.frame.DataFrame'>\n",
      "RangeIndex: 11768 entries, 0 to 11767\n",
      "Data columns (total 11 columns):\n",
      " #   Column              Non-Null Count  Dtype  \n",
      "---  ------              --------------  -----  \n",
      " 0   brand               11768 non-null  object \n",
      " 1   processor           11768 non-null  object \n",
      " 2   ram_gb              11768 non-null  float64\n",
      " 3   storage             11768 non-null  object \n",
      " 4   gpu                 11768 non-null  object \n",
      " 5   screen_size_inch    11768 non-null  float64\n",
      " 6   resolution          11768 non-null  object \n",
      " 7   battery_life_hours  11768 non-null  float64\n",
      " 8   weight_kg           11768 non-null  float64\n",
      " 9   operating_system    11768 non-null  object \n",
      " 10  price               11768 non-null  float64\n",
      "dtypes: float64(5), object(6)\n",
      "memory usage: 1011.4+ KB\n"
     ]
    }
   ],
   "execution_count": 24
  },
  {
   "metadata": {},
   "cell_type": "markdown",
   "source": "## Create models",
   "id": "36feb30de5de1fb3"
  },
  {
   "metadata": {},
   "cell_type": "markdown",
   "source": "Define base model:",
   "id": "cb2ddbf8e7ea9fa"
  },
  {
   "metadata": {
    "ExecuteTime": {
     "end_time": "2025-04-05T23:33:53.116963Z",
     "start_time": "2025-04-05T23:33:53.111992Z"
    }
   },
   "cell_type": "code",
   "source": [
    "class Base(DeclarativeBase):\n",
    "  pass"
   ],
   "id": "937f3ed4766f4952",
   "outputs": [],
   "execution_count": 25
  },
  {
   "metadata": {},
   "cell_type": "markdown",
   "source": "Define laptop price model:",
   "id": "a48ec27f7e033ba8"
  },
  {
   "metadata": {
    "ExecuteTime": {
     "end_time": "2025-04-05T23:47:01.582852Z",
     "start_time": "2025-04-05T23:47:01.500653Z"
    }
   },
   "cell_type": "code",
   "source": [
    "class LaptopPrices(Base):\n",
    "  # Table name\n",
    "  __tablename__ = 'laptop_prices'\n",
    "\n",
    "  # Columns\n",
    "  id: Mapped[int] = mapped_column(SMALLINT(unsigned=True),\n",
    "                                  primary_key=True,\n",
    "                                  autoincrement=True)\n",
    "  brand: Mapped[str] = mapped_column(NVARCHAR(255))\n",
    "  processor: Mapped[str] = mapped_column(NVARCHAR(255))\n",
    "  ram_gb: Mapped[float] = mapped_column(FLOAT)\n",
    "  storage: Mapped[str] = mapped_column(NVARCHAR(255))\n",
    "  gpu: Mapped[str] = mapped_column(NVARCHAR(255))\n",
    "  screen_size_inch: Mapped[float] = mapped_column(FLOAT)\n",
    "  resolution: Mapped[str] = mapped_column(NVARCHAR(255))\n",
    "  battery_life_hours: Mapped[float] = mapped_column(FLOAT)\n",
    "  weight_kg: Mapped[float] = mapped_column(FLOAT)\n",
    "  operating_system: Mapped[str] = mapped_column(NVARCHAR(255))\n",
    "  price: Mapped[float] = mapped_column(FLOAT)"
   ],
   "id": "4c1617bbe762987",
   "outputs": [],
   "execution_count": 26
  },
  {
   "metadata": {},
   "cell_type": "markdown",
   "source": "## Create engine",
   "id": "7411b56a92b7d962"
  },
  {
   "metadata": {
    "ExecuteTime": {
     "end_time": "2025-04-05T23:47:16.468981Z",
     "start_time": "2025-04-05T23:47:16.460930Z"
    }
   },
   "cell_type": "code",
   "source": [
    "database_url = f\"mysql+mysqlconnector://{user}:{password}@{host}:{port}/{database_name}\"\n",
    "\n",
    "# Create an engine that connect to MySQL server\n",
    "engine = create_engine(database_url)\n",
    "\n",
    "print(\"Engine created successfully!\")"
   ],
   "id": "0ea54f10",
   "outputs": [
    {
     "name": "stdout",
     "output_type": "stream",
     "text": [
      "Engine created successfully!\n"
     ]
    }
   ],
   "execution_count": 27
  },
  {
   "metadata": {},
   "cell_type": "markdown",
   "source": "## Create table in database",
   "id": "b91d958ca89b9464"
  },
  {
   "cell_type": "code",
   "id": "2d88f3fd",
   "metadata": {
    "ExecuteTime": {
     "end_time": "2025-04-05T23:47:30.199147Z",
     "start_time": "2025-04-05T23:47:30.097873Z"
    }
   },
   "source": [
    "# Create tables if not exist.\n",
    "Base.metadata.create_all(engine)"
   ],
   "outputs": [],
   "execution_count": 28
  },
  {
   "metadata": {},
   "cell_type": "markdown",
   "source": "## Insert data to table",
   "id": "126f03c3970ef974"
  },
  {
   "cell_type": "code",
   "id": "0ce8d209",
   "metadata": {
    "ExecuteTime": {
     "end_time": "2025-04-05T23:50:02.851450Z",
     "start_time": "2025-04-05T23:50:00.824896Z"
    }
   },
   "source": [
    "df.to_sql(LaptopPrices.__tablename__,\n",
    "          con=engine,\n",
    "          # Drop table if redo the insert operator\n",
    "          if_exists=\"append\",\n",
    "          index=False,\n",
    "          # Insert 1000 records at a time\n",
    "          chunksize=1000,\n",
    "          # Pass multiple values in a single INSERT clause.\n",
    "          method=\"multi\")\n",
    "\n",
    "print(f'Successfully inserted all data into {LaptopPrices.__tablename__}')"
   ],
   "outputs": [
    {
     "name": "stdout",
     "output_type": "stream",
     "text": [
      "Successfully inserted all data into laptop_prices\n"
     ]
    }
   ],
   "execution_count": 29
  },
  {
   "metadata": {},
   "cell_type": "markdown",
   "source": [
    "Result:\n",
    "\n",
    "![Alt text](data-insert-result.png)"
   ],
   "id": "7f3d72e22e3941eb"
  },
  {
   "metadata": {},
   "cell_type": "markdown",
   "source": "## Get database schema",
   "id": "745d109c69da32a8"
  },
  {
   "metadata": {},
   "cell_type": "markdown",
   "source": "![Table diagram](database_diagram.png)",
   "id": "cb9ee81116e34fcc"
  },
  {
   "cell_type": "code",
   "id": "58cbf160",
   "metadata": {
    "ExecuteTime": {
     "end_time": "2025-04-05T23:50:35.923950Z",
     "start_time": "2025-04-05T23:50:35.920074Z"
    }
   },
   "source": [
    "#Close the database connection :)\n",
    "engine.dispose()"
   ],
   "outputs": [],
   "execution_count": 30
  },
  {
   "cell_type": "markdown",
   "id": "9c103358",
   "metadata": {},
   "source": [
    "**MySQL Workbench**<br>\n",
    "To export your database schema as a .PNG:<br>\n",
    "->Go to your EER Diagram<br>\n",
    "->File<br>\n",
    "->Export<br>\n",
    "->Export as .PNG"
   ]
  }
 ],
 "metadata": {
  "kernelspec": {
   "display_name": "Python 3 (ipykernel)",
   "language": "python",
   "name": "python3"
  },
  "language_info": {
   "codemirror_mode": {
    "name": "ipython",
    "version": 3
   },
   "file_extension": ".py",
   "mimetype": "text/x-python",
   "name": "python",
   "nbconvert_exporter": "python",
   "pygments_lexer": "ipython3",
   "version": "3.9.21"
  }
 },
 "nbformat": 4,
 "nbformat_minor": 5
}
